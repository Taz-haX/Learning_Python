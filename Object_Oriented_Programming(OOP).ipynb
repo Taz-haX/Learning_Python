{
  "nbformat": 4,
  "nbformat_minor": 0,
  "metadata": {
    "colab": {
      "provenance": [],
      "authorship_tag": "ABX9TyONZZIeRcKjgUsa39naT4OI",
      "include_colab_link": true
    },
    "kernelspec": {
      "name": "python3",
      "display_name": "Python 3"
    },
    "language_info": {
      "name": "python"
    }
  },
  "cells": [
    {
      "cell_type": "markdown",
      "metadata": {
        "id": "view-in-github",
        "colab_type": "text"
      },
      "source": [
        "<a href=\"https://colab.research.google.com/github/Taz-haX/Learning_Python/blob/main/Object_Oriented_Programming(OOP).ipynb\" target=\"_parent\"><img src=\"https://colab.research.google.com/assets/colab-badge.svg\" alt=\"Open In Colab\"/></a>"
      ]
    },
    {
      "cell_type": "markdown",
      "source": [
        "##OBJECT ORIENTED PROGRAMMING"
      ],
      "metadata": {
        "id": "YQYNXh9T5Y-D"
      }
    },
    {
      "cell_type": "code",
      "execution_count": 6,
      "metadata": {
        "colab": {
          "base_uri": "https://localhost:8080/"
        },
        "id": "Uj9Oz6IV4NLo",
        "outputId": "521ec495-6811-42cd-e588-bb86a8ac103c"
      },
      "outputs": [
        {
          "output_type": "stream",
          "name": "stdout",
          "text": [
            "Toyota\n",
            "Corolla\n",
            "2019\n",
            "Black\n",
            "This Toyota is driving\n",
            "It is stopped\n",
            "Porsche\n",
            "911\n",
            "2019\n",
            "Cyan\n",
            "5\n",
            "2\n"
          ]
        }
      ],
      "source": [
        "class Car:\n",
        "\n",
        "\n",
        "    def __init__(self,make,model,year,color):\n",
        "        self.make = make\n",
        "        self.model = model\n",
        "        self.year = year\n",
        "        self.color = color\n",
        "\n",
        "    def drive(self):\n",
        "        print(\"This \"+self.make+\" is driving\")\n",
        "    def stop(self):\n",
        "        print(\"It is stopped\")\n",
        "\n",
        "\n",
        "#from messages import Car (code first written and ran in pycharm)\n",
        "\n",
        "car_1 = Car(\"Toyota\",\"Corolla\",\"2019\",\"Black\")\n",
        "car_2 = Car(\"Porsche\",\"911\",\"2019\",\"Cyan\")\n",
        "\n",
        "print(car_1.make)\n",
        "print(car_1.model)\n",
        "print(car_1.year)\n",
        "print(car_1.color)\n",
        "\n",
        "car_1.drive()\n",
        "car_1.stop()\n",
        "\n",
        "\n",
        "print(car_2.make)\n",
        "print(car_2.model)\n",
        "print(car_2.year)\n",
        "print(car_2.color)\n",
        "\n",
        "\n",
        "#CLASS VARIABLES\n",
        "\n",
        "\n",
        "#from messages import Car\n",
        "\n",
        "car_1 = Car(\"Toyota\",\"Corolla\",\"2019\",\"Black\")\n",
        "car_2 = Car(\"Porsche\",\"911\",\"2019\",\"Cyan\")\n",
        "\n",
        "car_1.wheels = 2\n",
        "Car.wheels = 5\n",
        "\n",
        "print(car_2.wheels)\n",
        "print(car_1.wheels)\n",
        "\n"
      ]
    },
    {
      "cell_type": "markdown",
      "source": [
        "##INHERITENCE"
      ],
      "metadata": {
        "id": "wSdzfuCC5tfT"
      }
    },
    {
      "cell_type": "code",
      "source": [
        "class Animals:\n",
        "\n",
        "    alive = True\n",
        "\n",
        "    def eat(self):\n",
        "        print(\"BOSE is eating\")\n",
        "    def sleep(self):\n",
        "        print(\"Boi be sleeping\")\n",
        "\n",
        "class Rabbit(Animals):\n",
        "    def hop(self):\n",
        "        print(\"Bunny be hopping\")\n",
        "\n",
        "class Fish(Animals):\n",
        "    def swim(self):\n",
        "        print(\"Swimming bebe\")\n",
        "\n",
        "\n",
        "class Hawk(Animals):\n",
        "    def fly(self):\n",
        "        print(\"Lookit me supah manh\")\n",
        "\n",
        "rabbit = Rabbit()\n",
        "fish = Fish()\n",
        "hawk = Hawk()\n",
        "\n",
        "\n",
        "print(rabbit.alive)\n",
        "fish.eat()\n",
        "hawk.sleep()\n",
        "\n",
        "rabbit.hop()\n"
      ],
      "metadata": {
        "colab": {
          "base_uri": "https://localhost:8080/"
        },
        "id": "Vr1EFJz-5mNi",
        "outputId": "6f37e53b-e9da-45d1-ac55-91a3643ba621"
      },
      "execution_count": 15,
      "outputs": [
        {
          "output_type": "stream",
          "name": "stdout",
          "text": [
            "True\n",
            "BOSE is eating\n",
            "Boi be sleeping\n",
            "Bunny be hopping\n"
          ]
        }
      ]
    },
    {
      "cell_type": "markdown",
      "source": [
        "##MULTIPLE & MULTI LEVEL INHERITENCE"
      ],
      "metadata": {
        "id": "iR3mT07d6YtV"
      }
    },
    {
      "cell_type": "code",
      "source": [
        "\n",
        "\n",
        "\n",
        "#MULTI LEVEL INHERITENCE MAMAX\n",
        "\n",
        "\n",
        "\n",
        "\n",
        "class Orgnaism:\n",
        "    alive = True\n",
        "\n",
        "class Animal(Orgnaism):\n",
        "    def eat(self):\n",
        "        print(\"lol be eating\")\n",
        "\n",
        "class Dogs(Animal):\n",
        "    def bark(self):\n",
        "        print(\"Yo this dawg be barking\")\n",
        "\n",
        "dodge = Dogs()\n",
        "\n",
        "print(Dogs.alive)\n",
        "\n",
        "dodge.bark()\n",
        "\n",
        "\n",
        "\n",
        "\n",
        "#MULTIPLE INHERITENCE BEBE MORE LES GOUUYUUUUU\n",
        "\n",
        "\n",
        "\n",
        "\n",
        "class Prey:\n",
        "    def flee(self):\n",
        "        print(\"Lmao this idiat run\")\n",
        "\n",
        "class Predator:\n",
        "    def hunt(self):\n",
        "        print(\"Ouff weirdo chill yo ass out\")\n",
        "\n",
        "class Rabbit(Prey):\n",
        "    pass\n",
        "\n",
        "class Hawk(Predator):\n",
        "    pass\n",
        "\n",
        "class Fish(Prey, Predator):\n",
        "    pass\n",
        "\n",
        "rabbit = Rabbit()\n",
        "fish = Fish()\n",
        "hawk = Hawk()\n",
        "\n",
        "rabbit.flee()\n",
        "hawk.hunt()\n",
        "fish.hunt()\n",
        "fish.flee()"
      ],
      "metadata": {
        "colab": {
          "base_uri": "https://localhost:8080/"
        },
        "id": "dk7R0PGm5wnj",
        "outputId": "f891ffd6-90de-42d6-a836-1f46253f6ccd"
      },
      "execution_count": 11,
      "outputs": [
        {
          "output_type": "stream",
          "name": "stdout",
          "text": [
            "True\n",
            "Yo this dawg be barking\n",
            "Lmao this idiat run\n",
            "Ouff weirdo chill yo ass out\n",
            "Ouff weirdo chill yo ass out\n",
            "Lmao this idiat run\n"
          ]
        }
      ]
    },
    {
      "cell_type": "markdown",
      "source": [
        "##METHOD OVERWRITING & CHAINING"
      ],
      "metadata": {
        "id": "XrJYkiTI6-QK"
      }
    },
    {
      "cell_type": "code",
      "source": [
        "#METHOD OVERWRITING\n",
        "\n",
        "\n",
        "\n",
        "class Prey:\n",
        "    def flee(self):\n",
        "        print(\"Lmao this idiot run\")\n",
        "\n",
        "\n",
        "class Rabbit(Prey):\n",
        "    def flee(self):\n",
        "        print(\"Running from a hunter lol\")\n",
        "\n",
        "\n",
        "rabbit = Rabbit()\n",
        "\n",
        "\n",
        "rabbit.flee()\n",
        "\n",
        "\n",
        "\n",
        "\n",
        "\n",
        "\n",
        "#METHOD CHAINING MANH\n",
        "\n",
        "\n",
        "\n",
        "\n",
        "class Car:\n",
        "\n",
        "    def turn_on(self):\n",
        "        print(\"This car now on bebe\")\n",
        "        return self\n",
        "    def drive(self):\n",
        "        print(\"This car now vroom vroom\")\n",
        "        return self\n",
        "    def brake(self):\n",
        "        print(\"THis car now cornering boi\")\n",
        "        return self\n",
        "    def shut_down(self):\n",
        "        print(\"Life now Sad manh\")\n",
        "        return self\n",
        "\n",
        "car = Car()\n",
        "\n",
        "car.turn_on().drive().brake().shut_down()"
      ],
      "metadata": {
        "colab": {
          "base_uri": "https://localhost:8080/"
        },
        "id": "bumoiNwl6vuo",
        "outputId": "21b3f9a2-93ae-432b-a3f3-924f5098877a"
      },
      "execution_count": 12,
      "outputs": [
        {
          "output_type": "stream",
          "name": "stdout",
          "text": [
            "Running from a hunter lol\n",
            "This car now on bebe\n",
            "This car now vroom vroom\n",
            "THis car now cornering boi\n",
            "Life now Sad manh\n"
          ]
        },
        {
          "output_type": "execute_result",
          "data": {
            "text/plain": [
              "<__main__.Car at 0x7ac8179e06a0>"
            ]
          },
          "metadata": {},
          "execution_count": 12
        }
      ]
    },
    {
      "cell_type": "markdown",
      "source": [
        "##SUPER_FUNCTION"
      ],
      "metadata": {
        "id": "8omw6uvi7KBS"
      }
    },
    {
      "cell_type": "code",
      "source": [
        "class Rectangle:\n",
        "    def __init__(self,length,breadth):\n",
        "        self.length = length\n",
        "        self.breadth = breadth\n",
        "\n",
        "class Square(Rectangle):\n",
        "    def __init__(self,length,breadth):\n",
        "        super().__init__(length,breadth)\n",
        "\n",
        "    def area(self):\n",
        "        return self.length*self.breadth\n",
        "\n",
        "class Cube(Rectangle):\n",
        "    def __init__(self,length,breadth,height):\n",
        "        super().__init__(length,breadth)\n",
        "        self.height = height\n",
        "\n",
        "    def volume(self):\n",
        "        return self.length*self.breadth*self.height\n",
        "\n",
        "square = Square(4,4)\n",
        "cube = Cube(4,4,4)\n",
        "\n",
        "print(square.area())\n",
        "print(cube.volume())"
      ],
      "metadata": {
        "id": "COU42yJx7DYO"
      },
      "execution_count": null,
      "outputs": []
    },
    {
      "cell_type": "markdown",
      "source": [
        "##ABSTRACT_CLASS"
      ],
      "metadata": {
        "id": "agKlHBkR7bgi"
      }
    },
    {
      "cell_type": "code",
      "source": [
        "from abc import  ABC, abstractmethod\n",
        "\n",
        "class Vehicle(ABC):\n",
        "    @abstractmethod\n",
        "    def go(self):\n",
        "        pass\n",
        "\n",
        "    @abstractmethod\n",
        "    def stop(self):\n",
        "        pass\n",
        "\n",
        "\n",
        "class Car(Vehicle):\n",
        "    def go(self):\n",
        "        print(\"Drive car\")\n",
        "\n",
        "    def stop(self):\n",
        "        print(\"No vroom\")\n",
        "\n",
        "class Motorcycle(Vehicle):\n",
        "    def go(self):\n",
        "        print(\"Drive motorcycle\")\n",
        "\n",
        "    def stop(self):\n",
        "        print(\"No throom\")\n",
        "\n",
        "vehicle = Vehicle()\n",
        "car = Car()\n",
        "motorcycle = Motorcycle()\n",
        "\n",
        "\n",
        "car.go()\n",
        "motorcycle.go()\n",
        "\n",
        "car.stop()\n",
        "motorcycle.stop()"
      ],
      "metadata": {
        "colab": {
          "base_uri": "https://localhost:8080/",
          "height": 245
        },
        "id": "oJyF1n8X7Nla",
        "outputId": "2b96f89a-223f-44d6-9579-34733955ae28"
      },
      "execution_count": 13,
      "outputs": [
        {
          "output_type": "error",
          "ename": "TypeError",
          "evalue": "ignored",
          "traceback": [
            "\u001b[0;31m---------------------------------------------------------------------------\u001b[0m",
            "\u001b[0;31mTypeError\u001b[0m                                 Traceback (most recent call last)",
            "\u001b[0;32m<ipython-input-13-dceab0e04c35>\u001b[0m in \u001b[0;36m<cell line: 27>\u001b[0;34m()\u001b[0m\n\u001b[1;32m     25\u001b[0m         \u001b[0mprint\u001b[0m\u001b[0;34m(\u001b[0m\u001b[0;34m\"No throom\"\u001b[0m\u001b[0;34m)\u001b[0m\u001b[0;34m\u001b[0m\u001b[0;34m\u001b[0m\u001b[0m\n\u001b[1;32m     26\u001b[0m \u001b[0;34m\u001b[0m\u001b[0m\n\u001b[0;32m---> 27\u001b[0;31m \u001b[0mvehicle\u001b[0m \u001b[0;34m=\u001b[0m \u001b[0mVehicle\u001b[0m\u001b[0;34m(\u001b[0m\u001b[0;34m)\u001b[0m\u001b[0;34m\u001b[0m\u001b[0;34m\u001b[0m\u001b[0m\n\u001b[0m\u001b[1;32m     28\u001b[0m \u001b[0mcar\u001b[0m \u001b[0;34m=\u001b[0m \u001b[0mCar\u001b[0m\u001b[0;34m(\u001b[0m\u001b[0;34m)\u001b[0m\u001b[0;34m\u001b[0m\u001b[0;34m\u001b[0m\u001b[0m\n\u001b[1;32m     29\u001b[0m \u001b[0mmotorcycle\u001b[0m \u001b[0;34m=\u001b[0m \u001b[0mMotorcycle\u001b[0m\u001b[0;34m(\u001b[0m\u001b[0;34m)\u001b[0m\u001b[0;34m\u001b[0m\u001b[0;34m\u001b[0m\u001b[0m\n",
            "\u001b[0;31mTypeError\u001b[0m: Can't instantiate abstract class Vehicle with abstract methods go, stop"
          ]
        }
      ]
    },
    {
      "cell_type": "markdown",
      "source": [
        "##OBJECTS_AS_ARGUMENTS"
      ],
      "metadata": {
        "id": "x2XECNxA7xFI"
      }
    },
    {
      "cell_type": "code",
      "source": [
        "class Car:\n",
        "\n",
        "    color = None\n",
        "\n",
        "class Motorcycle:\n",
        "     color = None\n",
        "\n",
        "def change_color(car,color):\n",
        "\n",
        "    car.color = color\n",
        "\n",
        "car_1 = Car()\n",
        "car_2 = Car()\n",
        "car_3 = Car()\n",
        "\n",
        "bike_1 = Motorcycle()\n",
        "\n",
        "change_color(car_2,\"black\")\n",
        "change_color(car_3,\"blue\")\n",
        "change_color(car_1,\"grey\")\n",
        "\n",
        "change_color(bike_1,\"cyan\")\n",
        "\n",
        "print(bike_1.color)\n",
        "\n",
        "print(car_3.color)\n",
        "print(car_1.color)\n",
        "print(car_2.color)"
      ],
      "metadata": {
        "colab": {
          "base_uri": "https://localhost:8080/"
        },
        "id": "TJxfldkk7rYJ",
        "outputId": "19bb887c-5033-4756-f548-302e27e6663c"
      },
      "execution_count": 14,
      "outputs": [
        {
          "output_type": "stream",
          "name": "stdout",
          "text": [
            "cyan\n",
            "blue\n",
            "grey\n",
            "black\n"
          ]
        }
      ]
    },
    {
      "cell_type": "markdown",
      "source": [
        "##DUCK_TYPING"
      ],
      "metadata": {
        "id": "xxp_JRNW8ayS"
      }
    },
    {
      "cell_type": "code",
      "source": [
        "class Duck:\n",
        "    def walk(self):\n",
        "        print(\"stubby steps\")\n",
        "\n",
        "    def quck(self):\n",
        "        print(\"littol quckling\")\n",
        "\n",
        "class Chicken:\n",
        "    def walk(self):\n",
        "        print(\"cheeky slays\")\n",
        "\n",
        "    def quck(self):\n",
        "        print(\"Scream modafoka\")\n",
        "\n",
        "class Person:\n",
        "    def catch(self,duck):\n",
        "        duck.walk()\n",
        "        duck.quck()\n",
        "        print(\"Caught lmfao\")"
      ],
      "metadata": {
        "id": "kEEtwLbU8Y1O"
      },
      "execution_count": null,
      "outputs": []
    }
  ]
}