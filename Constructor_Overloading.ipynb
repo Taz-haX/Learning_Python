{
  "nbformat": 4,
  "nbformat_minor": 0,
  "metadata": {
    "colab": {
      "provenance": [],
      "authorship_tag": "ABX9TyP5nF4jq97bvhVJ8xh/8Ft1",
      "include_colab_link": true
    },
    "kernelspec": {
      "name": "python3",
      "display_name": "Python 3"
    },
    "language_info": {
      "name": "python"
    }
  },
  "cells": [
    {
      "cell_type": "markdown",
      "metadata": {
        "id": "view-in-github",
        "colab_type": "text"
      },
      "source": [
        "<a href=\"https://colab.research.google.com/github/Taz-haX/Learning_Python/blob/main/Constructor_Overloading.ipynb\" target=\"_parent\"><img src=\"https://colab.research.google.com/assets/colab-badge.svg\" alt=\"Open In Colab\"/></a>"
      ]
    },
    {
      "cell_type": "code",
      "execution_count": 1,
      "metadata": {
        "colab": {
          "base_uri": "https://localhost:8080/"
        },
        "id": "vnECL4axVFsW",
        "outputId": "1cbf458e-5a25-4e20-cecb-a77f9dd4a786"
      },
      "outputs": [
        {
          "output_type": "stream",
          "name": "stdout",
          "text": [
            "FAjN\n",
            "Super Maaax 120 54\n",
            "Hammertime 220 104\n",
            "Lando 103\n",
            "Osama Bin Russel\n"
          ]
        }
      ],
      "source": [
        "class Driver:\n",
        "\n",
        "    def __init__(self, *bio):\n",
        "        if len(bio) == 3:\n",
        "            self.name = bio[0]\n",
        "            self.races = bio[1]\n",
        "            self.wins = bio[2]\n",
        "            print(self.name, self.races, self.wins)\n",
        "        elif len(bio) == 2:\n",
        "            self.name = bio[0]\n",
        "            self.races = bio[1]\n",
        "            print(self.name, self.races)\n",
        "        elif len(bio) == 1:\n",
        "            self.name = bio[0]\n",
        "            print(self.name)\n",
        "        else:\n",
        "            print('FAjN')\n",
        "\n",
        "dr1 = Driver()\n",
        "dr2 = Driver('Super Maaax', 120, 54)\n",
        "dr3 = Driver('Hammertime', 220, 104)\n",
        "dr4 = Driver('Lando', 103)\n",
        "dr5 = Driver('Osama Bin Russel')"
      ]
    }
  ]
}