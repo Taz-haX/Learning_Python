{
  "nbformat": 4,
  "nbformat_minor": 0,
  "metadata": {
    "colab": {
      "provenance": [],
      "authorship_tag": "ABX9TyPAHIMWfKX3+OmD/9Wcsk/y",
      "include_colab_link": true
    },
    "kernelspec": {
      "name": "python3",
      "display_name": "Python 3"
    },
    "language_info": {
      "name": "python"
    }
  },
  "cells": [
    {
      "cell_type": "markdown",
      "metadata": {
        "id": "view-in-github",
        "colab_type": "text"
      },
      "source": [
        "<a href=\"https://colab.research.google.com/github/Taz-haX/Learning_Python/blob/main/Further_Basics.ipynb\" target=\"_parent\"><img src=\"https://colab.research.google.com/assets/colab-badge.svg\" alt=\"Open In Colab\"/></a>"
      ]
    },
    {
      "cell_type": "markdown",
      "source": [
        "##ASSIGNING FUNCTIONS TO VARIABLES"
      ],
      "metadata": {
        "id": "051D3XrtF7aS"
      }
    },
    {
      "cell_type": "code",
      "execution_count": 1,
      "metadata": {
        "colab": {
          "base_uri": "https://localhost:8080/"
        },
        "id": "cW6HxubzF07B",
        "outputId": "16d9370d-8e1e-498f-e63f-79a4f5b7b0c4"
      },
      "outputs": [
        {
          "output_type": "stream",
          "name": "stdout",
          "text": [
            "<function hello at 0x7bdacc341120>\n",
            "<function hello at 0x7bdacc341120>\n",
            "hello\n",
            "hello\n",
            "Kinda lame innit lol.\n"
          ]
        }
      ],
      "source": [
        "def hello():\n",
        "    print(\"hello\")\n",
        "\n",
        "hi = hello\n",
        "\n",
        "print(hello)\n",
        "print(hi)\n",
        "\n",
        "hello()\n",
        "hi()\n",
        "\n",
        "say = print\n",
        "\n",
        "say(\"Kinda lame innit lol.\")"
      ]
    },
    {
      "cell_type": "markdown",
      "source": [
        "##HIGHER ORDER FUNCTION"
      ],
      "metadata": {
        "id": "Zn1RTOFjGFNz"
      }
    },
    {
      "cell_type": "code",
      "source": [
        "def loud(text):\n",
        "    return text.upper()\n",
        "def quiet(text):\n",
        "    return text.lower()\n",
        "def hello(dic):\n",
        "    text = dic(\"Mamax Gae boi\")\n",
        "    print(text)\n",
        "\n",
        "hello(loud)\n",
        "hello(quiet)\n",
        "\n",
        "\n",
        "def divisor(x):\n",
        "    def dividend(y):\n",
        "        return y/x\n",
        "    return dividend\n",
        "\n",
        "divide = divisor(2)\n",
        "\n",
        "print(divide(10))"
      ],
      "metadata": {
        "colab": {
          "base_uri": "https://localhost:8080/"
        },
        "id": "3yn2j_17F178",
        "outputId": "fb3c3536-b710-466e-d8be-bf9ff106d177"
      },
      "execution_count": 2,
      "outputs": [
        {
          "output_type": "stream",
          "name": "stdout",
          "text": [
            "MAMAX GAE BOI\n",
            "mamax gae boi\n",
            "5.0\n"
          ]
        }
      ]
    },
    {
      "cell_type": "markdown",
      "source": [
        "##LAMBDA FUNCTION"
      ],
      "metadata": {
        "id": "Wsv2KQlDGN-k"
      }
    },
    {
      "cell_type": "code",
      "source": [
        "double = lambda x: x*2\n",
        "divide = lambda x,y: x/y\n",
        "multiply = lambda x,y,z: x*y*z\n",
        "\n",
        "namaewa = lambda first_name, last_name: first_name+\" \"+last_name\n",
        "age_restriction = lambda age: True if age>=18 else False\n",
        "\n",
        "print(age_restriction(18))\n",
        "print(double(10))\n",
        "print(divide(6,2))\n",
        "print(multiply(9,8,7))\n",
        "print(namaewa(\"Jackass\",\"Dickehead\"))\n"
      ],
      "metadata": {
        "colab": {
          "base_uri": "https://localhost:8080/"
        },
        "id": "Q-UbG5B-GJqX",
        "outputId": "f9044d62-5cd2-477c-8f52-56f97b44c499"
      },
      "execution_count": 3,
      "outputs": [
        {
          "output_type": "stream",
          "name": "stdout",
          "text": [
            "True\n",
            "20\n",
            "3.0\n",
            "504\n",
            "Jackass Dickehead\n"
          ]
        }
      ]
    },
    {
      "cell_type": "markdown",
      "source": [
        "##SORTING"
      ],
      "metadata": {
        "id": "TXDwKPX7GaZJ"
      }
    },
    {
      "cell_type": "code",
      "source": [
        "students = [\"Squidy\",\"Sandy\",\"Patrick\",\"Spongy\",\"Krabs\"]\n",
        "students.sort(reverse=True)\n",
        "\n",
        "for i in students:\n",
        "    print(i)\n",
        "\n",
        "print(\"-------------------------------\")\n",
        "\n",
        "drugs = (\"Marujuana\",\"Cocainium\",\"mehtamphetamine\",\"LSD\",\"Heroine\")\n",
        "sorted_drugs = sorted(drugs)\n",
        "\n",
        "for i in sorted_drugs:\n",
        "    print(i)\n",
        "\n",
        "print(\"-----------------------------\")\n",
        "\n",
        "drivers = [(\"Verstappen\",\"RB\",3),\n",
        "           (\"Hamilton\",\"M\",7),\n",
        "           (\"Alonso\",\"AM\",2),\n",
        "           (\"Leclerc\",\"SF\",0),\n",
        "           (\"Norris\",\"Mc\",0)]\n",
        "\n",
        "constructor = lambda constructors:constructors[1]\n",
        "drivers.sort(key=constructor,reverse=True)\n",
        "\n",
        "for i in drivers:\n",
        "    print(i)\n",
        "\n",
        "print(\"------------------------------\")\n",
        "\n",
        "reserves = ((\"Schumacher\",\"Merc\",5),\n",
        "            (\"Lawson\",\"AT\",3),\n",
        "            (\"Pourchaire\",\"Sauber\",2))\n",
        "\n",
        "race_start = lambda races:races[2]\n",
        "sorted_reserves = sorted(reserves, key=race_start)\n",
        "\n",
        "for i in sorted_reserves:\n",
        "    print(i)"
      ],
      "metadata": {
        "colab": {
          "base_uri": "https://localhost:8080/"
        },
        "id": "l8QBpUdwGUaN",
        "outputId": "e61a447a-defc-406e-cb26-3c72ac9ee3fb"
      },
      "execution_count": 4,
      "outputs": [
        {
          "output_type": "stream",
          "name": "stdout",
          "text": [
            "Squidy\n",
            "Spongy\n",
            "Sandy\n",
            "Patrick\n",
            "Krabs\n",
            "-------------------------------\n",
            "Cocainium\n",
            "Heroine\n",
            "LSD\n",
            "Marujuana\n",
            "mehtamphetamine\n",
            "-----------------------------\n",
            "('Leclerc', 'SF', 0)\n",
            "('Verstappen', 'RB', 3)\n",
            "('Norris', 'Mc', 0)\n",
            "('Hamilton', 'M', 7)\n",
            "('Alonso', 'AM', 2)\n",
            "------------------------------\n",
            "('Pourchaire', 'Sauber', 2)\n",
            "('Lawson', 'AT', 3)\n",
            "('Schumacher', 'Merc', 5)\n"
          ]
        }
      ]
    },
    {
      "cell_type": "markdown",
      "source": [
        "##MAP_FUNCTION"
      ],
      "metadata": {
        "id": "aTJgfVyLGpqb"
      }
    },
    {
      "cell_type": "code",
      "source": [
        "store = [(\"shirt\",20.00),\n",
        "         (\"pants\",25.00),\n",
        "         (\"jackets\",50.00),\n",
        "         (\"socks\",10.00)]\n",
        "\n",
        "to_euros = lambda items: (items[0],items[1]*0.82)\n",
        "store_euros = list(map(to_euros,store))\n",
        "\n",
        "for i in store_euros:\n",
        "    print(i)\n"
      ],
      "metadata": {
        "colab": {
          "base_uri": "https://localhost:8080/"
        },
        "id": "szuXOEOrGl1E",
        "outputId": "5baee782-6769-44a4-9d7a-345f3990a635"
      },
      "execution_count": 5,
      "outputs": [
        {
          "output_type": "stream",
          "name": "stdout",
          "text": [
            "('shirt', 16.4)\n",
            "('pants', 20.5)\n",
            "('jackets', 41.0)\n",
            "('socks', 8.2)\n"
          ]
        }
      ]
    },
    {
      "cell_type": "markdown",
      "source": [
        "##FILTER_FUNCTION"
      ],
      "metadata": {
        "id": "yFCm6rw-Gx6T"
      }
    },
    {
      "cell_type": "code",
      "source": [
        "friends = [(\"Rachel\",19),\n",
        "           (\"Monica\",18),\n",
        "           (\"Joey\",16),\n",
        "           (\"Ross\",20),\n",
        "           (\"Phoebe\",17)]\n",
        "\n",
        "age = lambda data: data[1]>=18\n",
        "\n",
        "drink_buddies = list(filter(age, friends))\n",
        "\n",
        "for i in drink_buddies:\n",
        "    print(i)"
      ],
      "metadata": {
        "colab": {
          "base_uri": "https://localhost:8080/"
        },
        "id": "d0iS21k0GsDr",
        "outputId": "0b830675-bc4e-4d99-efd8-5742ee5eb92a"
      },
      "execution_count": 6,
      "outputs": [
        {
          "output_type": "stream",
          "name": "stdout",
          "text": [
            "('Rachel', 19)\n",
            "('Monica', 18)\n",
            "('Ross', 20)\n"
          ]
        }
      ]
    },
    {
      "cell_type": "markdown",
      "source": [
        "##REDUCE_FUCNTION"
      ],
      "metadata": {
        "id": "8BB3hgqaG5EB"
      }
    },
    {
      "cell_type": "code",
      "source": [
        "import functools\n",
        "\n",
        "letters = [\"H\",\"E\",\"L\",\"L\",\"O\"]\n",
        "word = functools.reduce(lambda x,y:x+y,letters)\n",
        "\n",
        "print(word)\n",
        "\n",
        "\n",
        "factorial = [5,4,3,2,1]\n",
        "\n",
        "result = functools.reduce(lambda x,y: x*y,factorial)\n",
        "print(result)"
      ],
      "metadata": {
        "colab": {
          "base_uri": "https://localhost:8080/"
        },
        "id": "43GB0WnxG1Ap",
        "outputId": "05d39163-b52b-4a04-8456-164d4f20022a"
      },
      "execution_count": 7,
      "outputs": [
        {
          "output_type": "stream",
          "name": "stdout",
          "text": [
            "HELLO\n",
            "120\n"
          ]
        }
      ]
    },
    {
      "cell_type": "markdown",
      "source": [
        "##LIST_COMPREHENSION"
      ],
      "metadata": {
        "id": "YA19ekzIHAGi"
      }
    },
    {
      "cell_type": "code",
      "source": [
        "squares = []\n",
        "for i in range(1, 11):\n",
        "    squares.append(i * i)\n",
        "print(squares)\n",
        "\n",
        "# list = [expression for item in iterable]\n",
        "squares = [i*i for i in range(1,11)]\n",
        "print(squares)\n",
        "\n",
        "\n",
        "students = [100,99,96,87,76,68,45,0]\n",
        "\n",
        "passed = list(filter(lambda x:x>=80, students))\n",
        "print(passed)\n",
        "\n",
        "# list = [expression for item in iterable if conditional]\n",
        "\n",
        "yeyy = [i for i in students if i >=70]\n",
        "print(yeyy)\n",
        "\n",
        "# list = [expression (if/else) for item in iterable]\n",
        "nouu = [i if i >=90 else \"Lmao Fial\" for i in students]\n",
        "print(nouu)"
      ],
      "metadata": {
        "colab": {
          "base_uri": "https://localhost:8080/"
        },
        "id": "bzpqnb5cG7d5",
        "outputId": "0bfa7bc2-223d-4806-d028-8ee8d9274803"
      },
      "execution_count": 8,
      "outputs": [
        {
          "output_type": "stream",
          "name": "stdout",
          "text": [
            "[1, 4, 9, 16, 25, 36, 49, 64, 81, 100]\n",
            "[1, 4, 9, 16, 25, 36, 49, 64, 81, 100]\n",
            "[100, 99, 96, 87]\n",
            "[100, 99, 96, 87, 76]\n",
            "[100, 99, 96, 'Lmao Fial', 'Lmao Fial', 'Lmao Fial', 'Lmao Fial', 'Lmao Fial']\n"
          ]
        }
      ]
    },
    {
      "cell_type": "markdown",
      "source": [
        "##DICTIONARY_COMPREHENSION"
      ],
      "metadata": {
        "id": "M3S7IEI1HHbR"
      }
    },
    {
      "cell_type": "code",
      "source": [
        "# dictionary = {key: expression for (kay,value) in iterable}\n",
        "\n",
        "cities_in_F = {\"New York\": 32, \"Boston\": 75, \"Los Angeles\": 100, \"Chicago\": 50}\n",
        "\n",
        "cities_in_C = {key: round((value-32)*(5/9)) for (key,value) in cities_in_F.items()}\n",
        "print(cities_in_C)\n",
        "\n",
        "# dictionary = {key: expression for (kay,value) in iterable if conditional}\n",
        "\n",
        "weather = {\"New York\": \"Snowy\", \"Boston\": \"Sunny\", \"Los Angeles\": \"Sunny\", \"Chicago\": \"Cloudy\"}\n",
        "\n",
        "sunny_weather = {key: value for (key,value) in weather.items() if value == \"Sunny\"}\n",
        "print(sunny_weather)\n",
        "\n",
        "# dictionary = {key: (if/else) for (kay,value) in iterable}\n",
        "\n",
        "cities = {\"New York\": 32, \"Boston\": 75, \"Los Angeles\": 100, \"Chicago\": 50}\n",
        "\n",
        "desc_city = {key: (\"Warm\" if value >= 40 else \"COLD\") for (key,value) in cities.items()}\n",
        "print(desc_city)\n",
        "\n",
        "# dictionary = {key: function(value) for (kay,value) in iterable}\n",
        "\n",
        "def check_temp(value):\n",
        "    if value >= 70:\n",
        "        return \"HOT\"\n",
        "    elif 69 >= value >= 40:\n",
        "        return \"warm\"\n",
        "    else:\n",
        "        return \"COLD\"\n",
        "\n",
        "des_city = {key: check_temp(value) for (key,value) in cities.items()}"
      ],
      "metadata": {
        "colab": {
          "base_uri": "https://localhost:8080/"
        },
        "id": "zSNqvRN3HC7D",
        "outputId": "202a55e5-6202-4c04-c211-55fcf453c842"
      },
      "execution_count": 9,
      "outputs": [
        {
          "output_type": "stream",
          "name": "stdout",
          "text": [
            "{'New York': 0, 'Boston': 24, 'Los Angeles': 38, 'Chicago': 10}\n",
            "{'Boston': 'Sunny', 'Los Angeles': 'Sunny'}\n",
            "{'New York': 'COLD', 'Boston': 'Warm', 'Los Angeles': 'Warm', 'Chicago': 'Warm'}\n"
          ]
        }
      ]
    },
    {
      "cell_type": "markdown",
      "source": [
        "##ZIP_FUNCTION"
      ],
      "metadata": {
        "id": "EuNpBN1pHUdw"
      }
    },
    {
      "cell_type": "code",
      "source": [
        "drivers = [\"Hamilton\", \"Verstappen\", \"Vettel\"]\n",
        "championship = (7, 3, 4)\n",
        "wins = (103, 54, 53)\n",
        "\n",
        "pajn = str(championship)\n",
        "print(pajn)\n",
        "\n",
        "drives = zip(drivers, championship, wins)\n",
        "\n",
        "for i in drives:\n",
        "    print(i)\n",
        "\n",
        "hoga = dict(zip(drivers,pajn))\n",
        "\n",
        "print(type(hoga))\n",
        "\n",
        "for key,value in hoga.items():\n",
        "    print(key+\" : \"+value)"
      ],
      "metadata": {
        "colab": {
          "base_uri": "https://localhost:8080/"
        },
        "id": "BqFcNKWxHK70",
        "outputId": "76e6692d-db78-4e04-97da-d9a88df35e0c"
      },
      "execution_count": 10,
      "outputs": [
        {
          "output_type": "stream",
          "name": "stdout",
          "text": [
            "(7, 3, 4)\n",
            "('Hamilton', 7, 103)\n",
            "('Verstappen', 3, 54)\n",
            "('Vettel', 4, 53)\n",
            "<class 'dict'>\n",
            "Hamilton : (\n",
            "Verstappen : 7\n",
            "Vettel : ,\n"
          ]
        }
      ]
    },
    {
      "cell_type": "markdown",
      "source": [
        "## if __name__ == '__main__':"
      ],
      "metadata": {
        "id": "i3bsunp_HaTZ"
      }
    },
    {
      "cell_type": "code",
      "source": [
        "def hello():\n",
        "    print(\"Hello biss\")\n",
        "\n",
        "\n",
        "if __name__ == '__main__':\n",
        "    print(\"Running module directly\")\n",
        "else:\n",
        "    print(\"Running module indirectly\")\n",
        "\n",
        "#other\n",
        "import Main\n",
        "\n",
        "Main.hello()"
      ],
      "metadata": {
        "id": "gFpEAyKxHWrZ"
      },
      "execution_count": 12,
      "outputs": []
    },
    {
      "cell_type": "markdown",
      "source": [
        "##THREADING"
      ],
      "metadata": {
        "id": "_f8yOEegHnhD"
      }
    },
    {
      "cell_type": "code",
      "source": [
        "import threading\n",
        "import time\n",
        "\n",
        "def eat_breakfast():\n",
        "    time.sleep(3)\n",
        "    print(\"You ate boi\")\n",
        "def drink_coffee():\n",
        "    time.sleep(4)\n",
        "    print(\"Ye addict tsk\")\n",
        "def study():\n",
        "    time.sleep(5)\n",
        "    print(\"ouff geni-ass\")\n",
        "\n",
        "x = threading.Thread(target=eat_breakfast)\n",
        "x.start()\n",
        "\n",
        "y = threading.Thread(target=drink_coffee)\n",
        "y.start()\n",
        "\n",
        "z = threading.Thread(target=study)\n",
        "z.start()\n",
        "\n",
        "x.join()\n",
        "y.join()\n",
        "z.join()\n",
        "\n",
        "print(threading.active_count())\n",
        "print(threading.enumerate())\n",
        "print(time.perf_counter())"
      ],
      "metadata": {
        "colab": {
          "base_uri": "https://localhost:8080/"
        },
        "id": "9q5jYk6IHink",
        "outputId": "ddfcfd3e-385b-4ce2-88c7-8950dcb8b340"
      },
      "execution_count": 13,
      "outputs": [
        {
          "output_type": "stream",
          "name": "stdout",
          "text": [
            "You ate boi\n",
            "Ye addict tsk\n",
            "ouff geni-ass\n",
            "5\n",
            "[<_MainThread(MainThread, started 136180143616000)>, <Thread(Thread-2 (_thread_main), started daemon 136180079343168)>, <Heartbeat(Thread-3, started daemon 136180070950464)>, <ParentPollerUnix(Thread-1, started daemon 136179658253888)>, <Thread(_colab_inspector_thread, started daemon 136179601606208)>]\n",
            "493.155551863\n"
          ]
        }
      ]
    },
    {
      "cell_type": "markdown",
      "source": [
        "##DAEMON_THREADS"
      ],
      "metadata": {
        "id": "ULORbX5qHzu6"
      }
    },
    {
      "cell_type": "code",
      "source": [
        "import threading as th\n",
        "import time\n",
        "import time as ti\n",
        "\n",
        "def timer():\n",
        "    print()\n",
        "    print()\n",
        "    count = 0\n",
        "    while True:\n",
        "        ti.sleep(1)\n",
        "        count += 1\n",
        "        print(\"Logged in for: \"+str(count)+\" Seconds\")\n",
        "\n",
        "x = th.Thread(target=timer, daemon=True)\n",
        "x.start()\n",
        "\n",
        "\n",
        "print(x.isDaemon())\n",
        "\n",
        "answer = input(\"Do you wanna yeet yerself lol? \")\n"
      ],
      "metadata": {
        "colab": {
          "base_uri": "https://localhost:8080/"
        },
        "id": "flZjaEbGHr76",
        "outputId": "4307c5a1-1699-4f97-8107-789b046053b1"
      },
      "execution_count": 14,
      "outputs": [
        {
          "output_type": "stream",
          "name": "stderr",
          "text": [
            "<ipython-input-14-7784bf0399bd>:18: DeprecationWarning: isDaemon() is deprecated, get the daemon attribute instead\n",
            "  print(x.isDaemon())\n"
          ]
        },
        {
          "output_type": "stream",
          "name": "stdout",
          "text": [
            "\n",
            "True\n",
            "\n",
            "Logged in for: 1 Seconds\n",
            "Logged in for: 2 Seconds\n",
            "Logged in for: 3 Seconds\n",
            "Logged in for: 4 Seconds\n",
            "Logged in for: 5 Seconds\n",
            "Logged in for: 6 Seconds\n",
            "Logged in for: 7 Seconds\n",
            "Logged in for: 8 Seconds\n",
            "Do you wanna yeet yerself lol? OK\n",
            "Logged in for: 9 Seconds\n"
          ]
        }
      ]
    },
    {
      "cell_type": "markdown",
      "source": [
        "##MULTI_PROCESSING"
      ],
      "metadata": {
        "id": "RzivU-0bH50B"
      }
    },
    {
      "cell_type": "code",
      "source": [
        "from multiprocessing import Process, cpu_count\n",
        "\n",
        "import time\n",
        "\n",
        "def counter(num):\n",
        "    count = 0\n",
        "    while count < num:\n",
        "        count += 1\n",
        "\n",
        "def main():\n",
        "    a = Process(target=counter, args=(250000000,))\n",
        "    b = Process(target=counter, args=(250000000,))\n",
        "\n",
        "\n",
        "    a.start()\n",
        "    b.start()\n",
        "\n",
        "\n",
        "    a.join()\n",
        "    b.join()\n",
        "\n",
        "\n",
        "    print(\"Finished in: \", time.perf_counter(), \"Seconds\")\n",
        "\n",
        "\n",
        "if __name__ == '__main__':\n",
        "    main()"
      ],
      "metadata": {
        "id": "QSeqN25MH2JI"
      },
      "execution_count": 15,
      "outputs": []
    }
  ]
}