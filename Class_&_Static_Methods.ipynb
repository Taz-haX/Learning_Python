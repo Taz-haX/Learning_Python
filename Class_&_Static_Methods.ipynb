{
  "nbformat": 4,
  "nbformat_minor": 0,
  "metadata": {
    "colab": {
      "provenance": [],
      "authorship_tag": "ABX9TyPkPqsNPWQdoRQwaczOiYTw",
      "include_colab_link": true
    },
    "kernelspec": {
      "name": "python3",
      "display_name": "Python 3"
    },
    "language_info": {
      "name": "python"
    }
  },
  "cells": [
    {
      "cell_type": "markdown",
      "metadata": {
        "id": "view-in-github",
        "colab_type": "text"
      },
      "source": [
        "<a href=\"https://colab.research.google.com/github/Taz-haX/Learning_Python/blob/main/Class_%26_Static_Methods.ipynb\" target=\"_parent\"><img src=\"https://colab.research.google.com/assets/colab-badge.svg\" alt=\"Open In Colab\"/></a>"
      ]
    },
    {
      "cell_type": "code",
      "execution_count": null,
      "metadata": {
        "colab": {
          "base_uri": "https://localhost:8080/"
        },
        "id": "H1z50DELZVLY",
        "outputId": "df00d5a4-19b7-44bf-eebc-67304c025462"
      },
      "outputs": [
        {
          "output_type": "stream",
          "name": "stdout",
          "text": [
            "Name: BObby, I.D: 23\n",
            "BracU\n",
            "Name: Abbas, I.D: 38\n",
            "BracU\n",
            "====================\n",
            "Name: BObby, I.D: 23\n",
            "Brackin\n",
            "====================\n",
            "Name: BObby, I.D: 23\n",
            "Brac University\n",
            "Name: Abbas, I.D: 38\n",
            "Brac University\n"
          ]
        }
      ],
      "source": [
        "class Student:\n",
        "\n",
        "    uni_name = \"BracU\"\n",
        "\n",
        "    def __init__(self, name, Id):\n",
        "        self.name = name\n",
        "        self.__id = Id\n",
        "\n",
        "    def details(self):\n",
        "        print(f'Name: {self.name}, I.D: {self.__id}'\n",
        "              f'\\n{Student.uni_name}')\n",
        "\n",
        "    @classmethod\n",
        "    def upd_u_name(cls, new_name):\n",
        "        cls.uni_name = new_name\n",
        "\n",
        "s1 = Student('BObby', 23)\n",
        "s2 = Student('Abbas', 38)\n",
        "\n",
        "s1.details()\n",
        "s2.details()\n",
        "\n",
        "Student.upd_u_name(\"Brackin\")\n",
        "print(\"====================\")\n",
        "s1.details()\n",
        "print(\"====================\")\n",
        "s2.upd_u_name(\"Brac University\")\n",
        "s1.details()\n",
        "s2.details()"
      ]
    },
    {
      "cell_type": "code",
      "source": [
        "class Student:\n",
        "\n",
        "    uni_name = \"BracU\"\n",
        "\n",
        "    def __init__(self, name, Id):\n",
        "        self.name = name\n",
        "        self.__id = Id\n",
        "\n",
        "    def details(self):\n",
        "        print(f'Name: {self.name}, I.D: {self.__id}'\n",
        "              f'\\n{Student.uni_name}')\n",
        "\n",
        "    @classmethod\n",
        "    def divider(cls, inpt):\n",
        "        name, Id = inpt.split(' - ')\n",
        "        obj = cls(name, Id)\n",
        "        return obj\n",
        "\n",
        "s1 = Student('Shabby', 94)\n",
        "s2 = Student.divider('Milli - 32')\n",
        "\n",
        "s1.details()\n",
        "s2.details()"
      ],
      "metadata": {
        "id": "xvdp84ABfBpW",
        "colab": {
          "base_uri": "https://localhost:8080/"
        },
        "outputId": "b5269edb-ce22-4a22-bf69-cfaa45f71cea"
      },
      "execution_count": 1,
      "outputs": [
        {
          "output_type": "stream",
          "name": "stdout",
          "text": [
            "Name: Shabby, I.D: 94\n",
            "BracU\n",
            "Name: Milli, I.D: 32\n",
            "BracU\n"
          ]
        }
      ]
    },
    {
      "cell_type": "code",
      "source": [
        "class Student:\n",
        "\n",
        "    uni_name = \"BracU\"\n",
        "\n",
        "    def __init__(self, name, Id):\n",
        "        self.name = name\n",
        "        self.__id = Id\n",
        "\n",
        "    def details(self):\n",
        "        print(f'Name: {self.name}, I.D: {self.__id}'\n",
        "              f'\\n{Student.uni_name}')\n",
        "\n",
        "    @classmethod\n",
        "    def divider(cls, inpt):\n",
        "        name, Id = inpt.split(' - ')\n",
        "        obj = cls(name, Id)\n",
        "        return obj\n",
        "\n",
        "    @staticmethod\n",
        "    def check_dept(Id):\n",
        "        if Id[3:5] == '44':\n",
        "            print(f'Hammertime')\n",
        "        elif Id[3:5] == '1':\n",
        "            print('Duuduuduuduuu Max Verstappen')\n",
        "\n",
        "s1 = Student('Shabby', 94)\n",
        "s2 = Student.divider('Milli - 44')\n",
        "\n",
        "s1.details()\n",
        "s2.details()\n",
        "Student.check_dept('1414455')"
      ],
      "metadata": {
        "colab": {
          "base_uri": "https://localhost:8080/"
        },
        "id": "F3GvR4r6hn6d",
        "outputId": "cd275f50-3be9-4057-8c74-6ffc1f171d41"
      },
      "execution_count": 2,
      "outputs": [
        {
          "output_type": "stream",
          "name": "stdout",
          "text": [
            "Name: Shabby, I.D: 94\n",
            "BracU\n",
            "Name: Milli, I.D: 44\n",
            "BracU\n",
            "Hammertime\n"
          ]
        }
      ]
    }
  ]
}