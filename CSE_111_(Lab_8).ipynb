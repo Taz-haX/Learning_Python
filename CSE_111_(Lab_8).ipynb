{
  "nbformat": 4,
  "nbformat_minor": 0,
  "metadata": {
    "colab": {
      "provenance": [],
      "authorship_tag": "ABX9TyOnlF64p4F+IXs8XFONbQ6Z",
      "include_colab_link": true
    },
    "kernelspec": {
      "name": "python3",
      "display_name": "Python 3"
    },
    "language_info": {
      "name": "python"
    }
  },
  "cells": [
    {
      "cell_type": "markdown",
      "metadata": {
        "id": "view-in-github",
        "colab_type": "text"
      },
      "source": [
        "<a href=\"https://colab.research.google.com/github/Taz-haX/Learning_Python/blob/main/CSE_111_(Lab_8).ipynb\" target=\"_parent\"><img src=\"https://colab.research.google.com/assets/colab-badge.svg\" alt=\"Open In Colab\"/></a>"
      ]
    },
    {
      "cell_type": "code",
      "execution_count": null,
      "metadata": {
        "colab": {
          "base_uri": "https://localhost:8080/"
        },
        "id": "F-pEs3-OJR2F",
        "outputId": "dc94ef5b-20fe-4497-b6ae-03bdc501e782"
      },
      "outputs": [
        {
          "output_type": "stream",
          "name": "stdout",
          "text": [
            "RealPart: 1.0\n",
            "ImaginaryPart: 1.0\n",
            "---------\n",
            "RealPart: 5.0\n",
            "ImaginaryPart: 7.0\n"
          ]
        }
      ],
      "source": [
        "# Write the ComplexNumber class so that the following code generates the output\n",
        "# below.\n",
        "# class RealNumber:\n",
        "\n",
        "#  def __init__(self, r=0):\n",
        "#  self.__realValue = r\n",
        "#  def getRealValue(self):\n",
        "#  return self.__realValue\n",
        "#  def setRealValue(self, r):\n",
        "#  self.__realValue = r\n",
        "#  def __str__(self):\n",
        "#  return 'RealPart: '+str(self.getRealValue())\n",
        "\n",
        "# cn1 = ComplexNumber()\n",
        "# print(cn1)\n",
        "# print('---------')\n",
        "# cn2 = ComplexNumber(5,7)\n",
        "# print(cn2)\n",
        "# OUTPUT:\n",
        "# RealPart: 1.0\n",
        "# ImaginaryPart: 1.0\n",
        "# --------------------\n",
        "# RealPart: 5.0\n",
        "# ImaginaryPart: 7.0\n",
        "\n",
        "class RealNumber:\n",
        "    def __init__(self, r=0):\n",
        "        self.__realValue = r\n",
        "\n",
        "    def getRealValue(self):\n",
        "        return self.__realValue\n",
        "\n",
        "    def setRealValue(self, r):\n",
        "        self.__realValue = r\n",
        "\n",
        "    def __str__(self):\n",
        "        return 'RealPart: ' + str(self.getRealValue())\n",
        "\n",
        "class ComplexNumber(RealNumber):\n",
        "    def __init__(self, r=1,s=1):\n",
        "        super().__init__(r)\n",
        "        self.otrv = s\n",
        "\n",
        "    def __str__(self):\n",
        "        return f'{super().__str__()}.0\\nImaginaryPart: {self.otrv}.0'\n",
        "\n",
        "cn1 = ComplexNumber()\n",
        "print(cn1)\n",
        "print('---------')\n",
        "cn2 = ComplexNumber(5,7)\n",
        "print(cn2)"
      ]
    },
    {
      "cell_type": "code",
      "source": [
        "# Write the CheckingAccount class so that the following code generates the output\n",
        "# below:\n",
        "# class Account:\n",
        "#  def __init__(self, balance):\n",
        "#  self._balance = balance\n",
        "\n",
        "#  def getBalance(self):\n",
        "#  return self._balance\n",
        "\n",
        "\n",
        "# print('Number of Checking Accounts: ', CheckingAccount.numberOfAccount)\n",
        "# print(CheckingAccount())\n",
        "# print(CheckingAccount(100.00))\n",
        "# print(CheckingAccount(200.00))\n",
        "# print('Number of Checking Accounts: ', CheckingAccount.numberOfAccount)\n",
        "# OUTPUT:\n",
        "# Number of Checking\n",
        "# Accounts: 0\n",
        "# Account Balance: 0.0\n",
        "# Account Balance: 100.00\n",
        "# Account Balance: 200.00\n",
        "# Number of Checking\n",
        "# Accounts: 3\n",
        "\n",
        "class Account:\n",
        "    def __init__(self, balance):\n",
        "        self._balance = balance\n",
        "\n",
        "    def getBalance(self):\n",
        "        return self._balance\n",
        "\n",
        "class CheckingAccount(Account):\n",
        "    numberOfAccount = 0\n",
        "    def __init__(self, depo=0):\n",
        "        super().__init__(depo)\n",
        "        CheckingAccount.numberOfAccount += 1\n",
        "\n",
        "    def __str__(self):\n",
        "        return f'Account Balance: {super().getBalance()}0'\n",
        "\n",
        "print('Number of Checking Accounts: ', CheckingAccount.numberOfAccount)\n",
        "print(CheckingAccount())\n",
        "print(CheckingAccount(100.00))\n",
        "print(CheckingAccount(200.00))\n",
        "print('Number of Checking Accounts: ', CheckingAccount.numberOfAccount)"
      ],
      "metadata": {
        "colab": {
          "base_uri": "https://localhost:8080/"
        },
        "id": "4Ch-iYxXLmPm",
        "outputId": "85eefd50-ff53-4618-c5ac-40b9f1affd88"
      },
      "execution_count": 1,
      "outputs": [
        {
          "output_type": "stream",
          "name": "stdout",
          "text": [
            "Number of Checking Accounts:  0\n",
            "Account Balance: 00\n",
            "Account Balance: 100.00\n",
            "Account Balance: 200.00\n",
            "Number of Checking Accounts:  3\n"
          ]
        }
      ]
    }
  ]
}