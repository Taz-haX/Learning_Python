{
  "nbformat": 4,
  "nbformat_minor": 0,
  "metadata": {
    "colab": {
      "provenance": [],
      "authorship_tag": "ABX9TyMMX9wFb4MeBBPknam1nZ19",
      "include_colab_link": true
    },
    "kernelspec": {
      "name": "python3",
      "display_name": "Python 3"
    },
    "language_info": {
      "name": "python"
    }
  },
  "cells": [
    {
      "cell_type": "markdown",
      "metadata": {
        "id": "view-in-github",
        "colab_type": "text"
      },
      "source": [
        "<a href=\"https://colab.research.google.com/github/Taz-haX/Learning_Python/blob/main/Practice.ipynb\" target=\"_parent\"><img src=\"https://colab.research.google.com/assets/colab-badge.svg\" alt=\"Open In Colab\"/></a>"
      ]
    },
    {
      "cell_type": "markdown",
      "source": [
        "##ROCK, PAPER, SCISSORS GAME"
      ],
      "metadata": {
        "id": "rKoDVOlEtbi1"
      }
    },
    {
      "cell_type": "code",
      "execution_count": 1,
      "metadata": {
        "colab": {
          "base_uri": "https://localhost:8080/"
        },
        "id": "AEnHJPZgspf7",
        "outputId": "b3815fab-21e3-4917-f1c4-e8697218623e"
      },
      "outputs": [
        {
          "output_type": "stream",
          "name": "stdout",
          "text": [
            "rock, paper or scissors?: scissors\n",
            "Computer:  scissors\n",
            "Player:  scissors\n",
            "TIE tsk.\n",
            "Play again? (yes/no): yes\n",
            "rock, paper or scissors?: rock\n",
            "Computer:  paper\n",
            "Player:  rock\n",
            "ya lose boyo\n",
            "Play again? (yes/no): no\n",
            "wow, such a sore loser\n"
          ]
        }
      ],
      "source": [
        "import random\n",
        "import time\n",
        "\n",
        "\n",
        "while True:\n",
        "    choices = [\"rock\", \"paper\", \"scissors\"]\n",
        "\n",
        "    computer = random.choice(choices)\n",
        "    player = None\n",
        "\n",
        "    while player not in choices:\n",
        "        player = input(\"rock, paper or scissors?: \").lower()\n",
        "\n",
        "    time.sleep(1)\n",
        "\n",
        "    print(\"Computer: \", computer)\n",
        "    print(\"Player: \", player)\n",
        "\n",
        "    time.sleep(1)\n",
        "\n",
        "    if player == computer:\n",
        "        print(\"TIE tsk.\")\n",
        "    elif player == \"rock\":\n",
        "        if computer == \"paper\":\n",
        "            print(\"ya lose boyo\")\n",
        "        if computer == \"scissors\":\n",
        "            print(\"ya ya ye win. tsk\")\n",
        "    elif player == \"paper\":\n",
        "        if computer == \"rock\":\n",
        "            print(\"win, tsk\")\n",
        "        if computer == \"scissors\":\n",
        "            print(\"hahaha lose you\")\n",
        "    elif player == \"scissors\":\n",
        "        if computer == \"rock\":\n",
        "            print(\"lose you weakling\")\n",
        "        if computer == \"paper\":\n",
        "            print(\"Tsk, next time we gon cut ya\")\n",
        "\n",
        "    time.sleep(1)\n",
        "\n",
        "    play_again = input(\"Play again? (yes/no): \").lower()\n",
        "\n",
        "    if play_again != \"yes\":\n",
        "        break\n",
        "time.sleep(1)\n",
        "print(\"wow, such a sore loser\")"
      ]
    },
    {
      "cell_type": "markdown",
      "source": [
        "##MOVING, WRITING, REMOVING FILES"
      ],
      "metadata": {
        "id": "OLsULAX9uLEi"
      }
    },
    {
      "cell_type": "code",
      "source": [
        "import os\n",
        "\n",
        "source = \"haja.txt\"\n",
        "destiny = \"C:\\\\Users\\\\HP\\\\Downloads\\\\haja.txt\"   # Codes were copied from PyCharm, where it was originally written and run\n",
        "try:\n",
        "    if os.path.exists(destiny):\n",
        "        print(\"Already there bose\")\n",
        "    else:\n",
        "        os.replace(source, destiny)\n",
        "        print(\"Was moved: \" + source)\n",
        "except FileNotFoundError:\n",
        "    print(\"WAS MOVED boi\")"
      ],
      "metadata": {
        "colab": {
          "base_uri": "https://localhost:8080/"
        },
        "id": "jLxrwhJmtmFF",
        "outputId": "3903de25-dd5a-4d8c-fc29-6a47dbe4fc7f"
      },
      "execution_count": 3,
      "outputs": [
        {
          "output_type": "stream",
          "name": "stdout",
          "text": [
            "WAS MOVED boi\n"
          ]
        }
      ]
    },
    {
      "cell_type": "code",
      "source": [
        "with open(\"D:\\\\pyyy\\\\gaja.txt\",\"w\") as file:        # Codes were copied from PyCharm, where it was originally written and run\n",
        "    file.write(\"Ja issa tai hobe bebe\")"
      ],
      "metadata": {
        "id": "rXTM4gbquYA2"
      },
      "execution_count": 4,
      "outputs": []
    },
    {
      "cell_type": "code",
      "source": [
        "import os\n",
        "import shutil        # Codes were copied from PyCharm, where it was originally written and run\n",
        "path = \"jojo\"\n",
        "\n",
        "try:\n",
        "    #shutil.rmtree(path)\n",
        "   # os.rmdir(path)\n",
        "    os.remove(path)\n",
        "except FileNotFoundError:\n",
        "    print(\"Not found\")\n",
        "except PermissionError:\n",
        "    print(\"Ain't yo business homi\")\n",
        "except OSError:\n",
        "    print(\"Cannot still FIND\")\n",
        "else:\n",
        "    print(path+\" was deleted\")"
      ],
      "metadata": {
        "colab": {
          "base_uri": "https://localhost:8080/"
        },
        "id": "N01qns2iufrp",
        "outputId": "c19445d1-238a-48ce-8e0e-c05d89050982"
      },
      "execution_count": 6,
      "outputs": [
        {
          "output_type": "stream",
          "name": "stdout",
          "text": [
            "Not found\n"
          ]
        }
      ]
    },
    {
      "cell_type": "markdown",
      "source": [
        "##MODULE"
      ],
      "metadata": {
        "id": "O742Ow-FwCda"
      }
    },
    {
      "cell_type": "code",
      "source": [
        "try:\n",
        "  from messages import *    # Codes were copied from PyCharm, where it was originally written and run\n",
        "\n",
        "  hello()\n",
        "  bye()\n",
        "\n",
        "except ModuleNotFoundError:\n",
        "  print(\"Welp, such empty\")"
      ],
      "metadata": {
        "colab": {
          "base_uri": "https://localhost:8080/"
        },
        "id": "UjTv7HVzwAaB",
        "outputId": "ff172e49-47bd-4c02-a015-94ffedbe6360"
      },
      "execution_count": 11,
      "outputs": [
        {
          "output_type": "stream",
          "name": "stdout",
          "text": [
            "Welp, such empty\n"
          ]
        }
      ]
    }
  ]
}