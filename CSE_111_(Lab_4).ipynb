{
  "nbformat": 4,
  "nbformat_minor": 0,
  "metadata": {
    "colab": {
      "provenance": [],
      "authorship_tag": "ABX9TyP3CmKzF0VZ1v5kQLP3GAjq",
      "include_colab_link": true
    },
    "kernelspec": {
      "name": "python3",
      "display_name": "Python 3"
    },
    "language_info": {
      "name": "python"
    }
  },
  "cells": [
    {
      "cell_type": "markdown",
      "metadata": {
        "id": "view-in-github",
        "colab_type": "text"
      },
      "source": [
        "<a href=\"https://colab.research.google.com/github/Taz-haX/Learning_Python/blob/main/CSE_111_(Lab_4).ipynb\" target=\"_parent\"><img src=\"https://colab.research.google.com/assets/colab-badge.svg\" alt=\"Open In Colab\"/></a>"
      ]
    },
    {
      "cell_type": "code",
      "execution_count": null,
      "metadata": {
        "colab": {
          "base_uri": "https://localhost:8080/"
        },
        "id": "0BtN2PikGkjh",
        "outputId": "d8290a87-a64c-489c-a870-708f6a68ec8c"
      },
      "outputs": [
        {
          "output_type": "stream",
          "name": "stdout",
          "text": [
            "Let's Calculate!\n",
            "Entah Value 1: 1\n",
            "Entah function(+,-,*,/): +\n",
            "Entah value2: 2\n",
            "3\n"
          ]
        }
      ],
      "source": [
        "# Suppose your little sibling wants your help to check his math homework. He is done with\n",
        "# his homework but wants you to see if all his results are correct. Since the student with\n",
        "# all correct results gets 3 stars. However, you want your brother to check this on his own.\n",
        "# So, you design a calculator for him in python. You could have given your scientific\n",
        "# calculator but you wanted to give him a basic calculator and also wanted to see if you\n",
        "# can even design one.\n",
        "# Subtasks:\n",
        "# 1. Create a class called Calculator.\n",
        "# 2. Your class shall have 1 constructor and 4 methods, namely add, subtract,\n",
        "# multiply and divide.\n",
        "# 3. Now, create an object of your class. After creating an object, it should print “Let’s\n",
        "# Calculate!”\n",
        "# 4. Then take 3 inputs from the user: first value, operator, second value\n",
        "# 5. Now based on the given operator, call the required method and print the result.\n",
        "# Sample Input:\n",
        "# 1\n",
        "# +\n",
        "# 2\n",
        "# Sample Output:\n",
        "# Let’s Calculate!\n",
        "# Value 1: 1\n",
        "# Operator: +\n",
        "# Value 2: 2\n",
        "# Result: 3\n",
        "\n",
        "class Calculator:\n",
        "    def __init__(self):\n",
        "        print(\"Let's Calculate!\")\n",
        "\n",
        "    def calu(self, value1, operator, value2):\n",
        "        self.value1 = value1\n",
        "        self.operator = operator\n",
        "        self.value2 = value2\n",
        "\n",
        "        if operator == '+':\n",
        "            print(value1+value2)\n",
        "        if operator == '-':\n",
        "            print(value1-value2)\n",
        "        if operator == '*':\n",
        "            print(value1*value2)\n",
        "        if operator == '/':\n",
        "            print(value1/value2)\n",
        "\n",
        "calcu = Calculator()\n",
        "\n",
        "calcu.calu(int(input('Entah Value 1: ')), input('Entah function(+,-,*,/): '), int(input('Entah value2: ')))"
      ]
    },
    {
      "cell_type": "code",
      "source": [
        "# Write a class called Customer with the required constructor and methods to get the\n",
        "# following output.\n",
        "# Subtasks:\n",
        "# 1. Create a class called Customer.\n",
        "# 2. Create the required constructor.\n",
        "# 3. Create a method called greet that works if no arguments are passed or if one\n",
        "# argument is passed. (Hint: You may need to use the keyword NONE)\n",
        "# 4. Create a method called purchase that can take as many arguments as the user\n",
        "# wants to give.\n",
        "# [You are not allowed to change the code below]\n",
        "\n",
        "# # Write your codes for subtasks 1-4 here.\n",
        "# customer_1 = Customer(\"Sam\")\n",
        "# customer_1.greet()\n",
        "# customer_1.purchase(\"chips\", \"chocolate\", \"orange juice\")\n",
        "# print(\"-----------------------------\")\n",
        "# customer_2 = Customer(\"David\")\n",
        "# customer_2.greet(\"David\")\n",
        "# customer_2.purchase(\"orange juice\")\n",
        "\n",
        "# OUTPUT:\n",
        "# Hello!\n",
        "# Sam, you purchased 3 item(s):\n",
        "# chips\n",
        "# chocolate\n",
        "# orange juice\n",
        "# -----------------------------\n",
        "# Hello David!\n",
        "# David, you purchased 1 item(s):\n",
        "# orange juice\n",
        "\n",
        "class Customer:\n",
        "\n",
        "    def __init__(self, name):\n",
        "        self.name = name\n",
        "\n",
        "    def greet(self, *args):\n",
        "        jok = ''\n",
        "        self.args = args\n",
        "        if args == None:\n",
        "            print('Hello')\n",
        "        else:\n",
        "            for i in args:\n",
        "                jok = i\n",
        "            print('Hello', jok)\n",
        "\n",
        "    def purchase(self, *args):\n",
        "        blot = 0\n",
        "        for i in args:\n",
        "            blot += 1\n",
        "        self.args = args\n",
        "        print(self.name, 'Entered stuff: ', blot, 'items')\n",
        "        for i in args:\n",
        "            print(i)\n",
        "\n",
        "customer_1 = Customer(\"Sam\")\n",
        "customer_1.greet()\n",
        "customer_1.purchase(\"chips\", \"chocolate\", \"orange juice\")\n",
        "print(\"-----------------------------\")\n",
        "customer_2 = Customer(\"David\")\n",
        "customer_2.greet(\"David\")\n",
        "customer_2.purchase(\"orange juice\")"
      ],
      "metadata": {
        "id": "v8atuSrOG0Ui",
        "colab": {
          "base_uri": "https://localhost:8080/"
        },
        "outputId": "2249a12a-cb3c-4f52-e9d9-207ad44783e9"
      },
      "execution_count": 3,
      "outputs": [
        {
          "output_type": "stream",
          "name": "stdout",
          "text": [
            "Hello \n",
            "Sam Entered stuff:  3 items\n",
            "chips\n",
            "chocolate\n",
            "orange juice\n",
            "-----------------------------\n",
            "Hello David\n",
            "David Entered stuff:  1 items\n",
            "orange juice\n"
          ]
        }
      ]
    },
    {
      "cell_type": "code",
      "source": [
        "# The Giant Panda Protection and Research Center in the Sichuan province of southwest\n",
        "# China, actually employs a category of workers known as panda nannies. The primary\n",
        "# responsibility is to play with adorable panda cubs and name them, determine gender,\n",
        "# keep track of their age and hours they sleep. So being a programmer panda nanny, you\n",
        "# will create a code that will do all these works for you.\n",
        "# 1. Create a class named Panda and also write the constructor.\n",
        "# 2. Access the instance attributes and print them in the given format.\n",
        "# 3. Call instance methods to keep track of their daily hours of sleep.\n",
        "# 4. Suppose consulting with other panda nannies you have set some criteria based\n",
        "# on which you will make their diet plans. The criteria are:\n",
        "#  ** Mixed Veggies for pandas having 3 to 5 hours (included) of sleep daily.\n",
        "#  ** Eggplant & Tofu for pandas having 6 to 8 hours (included) of sleep daily.\n",
        "#  ** Broccoli Chicken for pandas having 9 to 11 hours (included) of sleep daily.\n",
        "#  ** Lastly if no arguments are passed then just give it bamboo leaves.\n",
        "# Now handle this problem modifying the method designed to keep track of their daily\n",
        "# hours of sleep and determine diet plan using method overloading.\n",
        "# [You are not allowed to change the code below]\n",
        "\n",
        "# panda1 = Panda(\"Kunfu\",\"Male\", 5)\n",
        "# panda2=Panda(\"Pan Pan\",\"Female\",3)\n",
        "# panda3=Panda(\"Ming Ming\",\"Female\",8)\n",
        "# print(\"{} is a {} Panda Bear who is {} years\n",
        "# old\".format(panda1.name,panda1.gender,panda1.age))\n",
        "# print(\"{} is a {} Panda Bear who is {} years\n",
        "# old\".format(panda2.name,panda2.gender,panda2.age))\n",
        "# print(\"{} is a {} Panda Bear who is {} years\n",
        "# old\".format(panda3.name,panda3.gender,panda3.age))\n",
        "#  print(\"===========================\")\n",
        "#  print(panda2.sleep(10))\n",
        "#  print(panda1.sleep(4))\n",
        "#  print(panda3.sleep())\n",
        "\n",
        "# OUTPUT:\n",
        "# Kunfu is a Male Panda Bear who is 5 years\n",
        "# old\n",
        "# Pan Pan is a Female Panda Bear who is 3\n",
        "# years old\n",
        "# Ming Ming is a Female Panda Bear who is 8\n",
        "# years old\n",
        "# ===========================\n",
        "# Pan Pan sleeps 10 hours daily and should\n",
        "# have Broccoli Chicken\n",
        "# Kunfu sleeps 4 hours daily and should have\n",
        "# Mixed Veggies\n",
        "# Ming Ming's duration is unknown thus should\n",
        "# have only bamboo leaves\n",
        "\n",
        "class Panda:\n",
        "    def __init__(self, name, gender, age):\n",
        "        self.name = name\n",
        "        self.gender = gender\n",
        "        self.age = age\n",
        "\n",
        "    def sleep(self, *args):\n",
        "        if args == ():\n",
        "            print(self.name, 'duration is unknown thus should have only bamboo leaves')\n",
        "        else:\n",
        "            for i in args:\n",
        "                if i == 0:\n",
        "                    print(self.name, 'duration is unknown thus should have only bamboo leaves')\n",
        "                if 3 <= i <= 5:\n",
        "                    print(self.name, 'sleeps', i, 'hours daily and should have Mixed Veggies')\n",
        "                if 6 <= i <= 8:\n",
        "                    print(self.name, 'sleeps', i, 'hours daily and should have Eggplant & Tofu')\n",
        "                if 9 <= i <= 11:\n",
        "                    print(self.name, 'sleeps', i, 'hours daily and should have Broccoli Chicken')\n",
        "\n",
        "\n",
        "\n",
        "panda1 = Panda(\"Kunfu\",\"Male\", 5)\n",
        "panda2=Panda(\"Pan Pan\",\"Female\",3)\n",
        "panda3=Panda(\"Ming Ming\",\"Female\",8)\n",
        "print(\"{} is a {} Panda Bear who is {} years old\".format(panda1.name,panda1.gender,panda1.age))\n",
        "print(\"{} is a {} Panda Bear who is {} years old\".format(panda2.name,panda2.gender,panda2.age))\n",
        "print(\"{} is a {} Panda Bear who is {} years old\".format(panda3.name,panda3.gender,panda3.age))\n",
        "print(\"===========================\")\n",
        "print(panda2.sleep(10))\n",
        "print(panda1.sleep(4))\n",
        "print(panda3.sleep())"
      ],
      "metadata": {
        "colab": {
          "base_uri": "https://localhost:8080/"
        },
        "id": "zozHTKn0y3V_",
        "outputId": "55b2b407-d350-48fd-9248-badfc15b75f3"
      },
      "execution_count": 4,
      "outputs": [
        {
          "output_type": "stream",
          "name": "stdout",
          "text": [
            "Kunfu is a Male Panda Bear who is 5 years old\n",
            "Pan Pan is a Female Panda Bear who is 3 years old\n",
            "Ming Ming is a Female Panda Bear who is 8 years old\n",
            "===========================\n",
            "Pan Pan sleeps 10 hours daily and should have Broccoli Chicken\n",
            "None\n",
            "Kunfu sleeps 4 hours daily and should have Mixed Veggies\n",
            "None\n",
            "Ming Ming duration is unknown thus should have only bamboo leaves\n",
            "None\n"
          ]
        }
      ]
    },
    {
      "cell_type": "code",
      "source": [],
      "metadata": {
        "id": "oGMC_q9K41U7"
      },
      "execution_count": null,
      "outputs": []
    }
  ]
}