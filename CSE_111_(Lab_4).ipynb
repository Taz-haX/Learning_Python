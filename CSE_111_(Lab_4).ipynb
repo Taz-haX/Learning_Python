{
  "nbformat": 4,
  "nbformat_minor": 0,
  "metadata": {
    "colab": {
      "provenance": [],
      "authorship_tag": "ABX9TyPqQipQGxiXnenyX/Wp8P8v",
      "include_colab_link": true
    },
    "kernelspec": {
      "name": "python3",
      "display_name": "Python 3"
    },
    "language_info": {
      "name": "python"
    }
  },
  "cells": [
    {
      "cell_type": "markdown",
      "metadata": {
        "id": "view-in-github",
        "colab_type": "text"
      },
      "source": [
        "<a href=\"https://colab.research.google.com/github/Taz-haX/Learning_Python/blob/main/CSE_111_(Lab_4).ipynb\" target=\"_parent\"><img src=\"https://colab.research.google.com/assets/colab-badge.svg\" alt=\"Open In Colab\"/></a>"
      ]
    },
    {
      "cell_type": "code",
      "execution_count": null,
      "metadata": {
        "colab": {
          "base_uri": "https://localhost:8080/"
        },
        "id": "0BtN2PikGkjh",
        "outputId": "d8290a87-a64c-489c-a870-708f6a68ec8c"
      },
      "outputs": [
        {
          "output_type": "stream",
          "name": "stdout",
          "text": [
            "Let's Calculate!\n",
            "Entah Value 1: 1\n",
            "Entah function(+,-,*,/): +\n",
            "Entah value2: 2\n",
            "3\n"
          ]
        }
      ],
      "source": [
        "# Suppose your little sibling wants your help to check his math homework. He is done with\n",
        "# his homework but wants you to see if all his results are correct. Since the student with\n",
        "# all correct results gets 3 stars. However, you want your brother to check this on his own.\n",
        "# So, you design a calculator for him in python. You could have given your scientific\n",
        "# calculator but you wanted to give him a basic calculator and also wanted to see if you\n",
        "# can even design one.\n",
        "# Subtasks:\n",
        "# 1. Create a class called Calculator.\n",
        "# 2. Your class shall have 1 constructor and 4 methods, namely add, subtract,\n",
        "# multiply and divide.\n",
        "# 3. Now, create an object of your class. After creating an object, it should print “Let’s\n",
        "# Calculate!”\n",
        "# 4. Then take 3 inputs from the user: first value, operator, second value\n",
        "# 5. Now based on the given operator, call the required method and print the result.\n",
        "# Sample Input:\n",
        "# 1\n",
        "# +\n",
        "# 2\n",
        "# Sample Output:\n",
        "# Let’s Calculate!\n",
        "# Value 1: 1\n",
        "# Operator: +\n",
        "# Value 2: 2\n",
        "# Result: 3\n",
        "\n",
        "class Calculator:\n",
        "    def __init__(self):\n",
        "        print(\"Let's Calculate!\")\n",
        "\n",
        "    def calu(self, value1, operator, value2):\n",
        "        self.value1 = value1\n",
        "        self.operator = operator\n",
        "        self.value2 = value2\n",
        "\n",
        "        if operator == '+':\n",
        "            print(value1+value2)\n",
        "        if operator == '-':\n",
        "            print(value1-value2)\n",
        "        if operator == '*':\n",
        "            print(value1*value2)\n",
        "        if operator == '/':\n",
        "            print(value1/value2)\n",
        "\n",
        "calcu = Calculator()\n",
        "\n",
        "calcu.calu(int(input('Entah Value 1: ')), input('Entah function(+,-,*,/): '), int(input('Entah value2: ')))"
      ]
    },
    {
      "cell_type": "code",
      "source": [
        "# Write a class called Customer with the required constructor and methods to get the\n",
        "# following output.\n",
        "# Subtasks:\n",
        "# 1. Create a class called Customer.\n",
        "# 2. Create the required constructor.\n",
        "# 3. Create a method called greet that works if no arguments are passed or if one\n",
        "# argument is passed. (Hint: You may need to use the keyword NONE)\n",
        "# 4. Create a method called purchase that can take as many arguments as the user\n",
        "# wants to give.\n",
        "# [You are not allowed to change the code below]\n",
        "\n",
        "# # Write your codes for subtasks 1-4 here.\n",
        "# customer_1 = Customer(\"Sam\")\n",
        "# customer_1.greet()\n",
        "# customer_1.purchase(\"chips\", \"chocolate\", \"orange juice\")\n",
        "# print(\"-----------------------------\")\n",
        "# customer_2 = Customer(\"David\")\n",
        "# customer_2.greet(\"David\")\n",
        "# customer_2.purchase(\"orange juice\")\n",
        "\n",
        "# OUTPUT:\n",
        "# Hello!\n",
        "# Sam, you purchased 3 item(s):\n",
        "# chips\n",
        "# chocolate\n",
        "# orange juice\n",
        "# -----------------------------\n",
        "# Hello David!\n",
        "# David, you purchased 1 item(s):\n",
        "# orange juice\n",
        "\n",
        "class Customer:\n",
        "\n",
        "    def __init__(self, name):\n",
        "        self.name = name\n",
        "\n",
        "    def greet(self, *args):\n",
        "        jok = ''\n",
        "        self.args = args\n",
        "        if args == None:\n",
        "            print('Hello')\n",
        "        else:\n",
        "            for i in args:\n",
        "                jok = i\n",
        "            print('Hello', jok)\n",
        "\n",
        "    def purchase(self, *args):\n",
        "        blot = 0\n",
        "        for i in args:\n",
        "            blot += 1\n",
        "        self.args = args\n",
        "        print(self.name, 'Entered stuff: ', blot, 'items')\n",
        "        for i in args:\n",
        "            print(i)\n",
        "\n",
        "customer_1 = Customer(\"Sam\")\n",
        "customer_1.greet()\n",
        "customer_1.purchase(\"chips\", \"chocolate\", \"orange juice\")\n",
        "print(\"-----------------------------\")\n",
        "customer_2 = Customer(\"David\")\n",
        "customer_2.greet(\"David\")\n",
        "customer_2.purchase(\"orange juice\")"
      ],
      "metadata": {
        "id": "v8atuSrOG0Ui",
        "colab": {
          "base_uri": "https://localhost:8080/"
        },
        "outputId": "2249a12a-cb3c-4f52-e9d9-207ad44783e9"
      },
      "execution_count": 3,
      "outputs": [
        {
          "output_type": "stream",
          "name": "stdout",
          "text": [
            "Hello \n",
            "Sam Entered stuff:  3 items\n",
            "chips\n",
            "chocolate\n",
            "orange juice\n",
            "-----------------------------\n",
            "Hello David\n",
            "David Entered stuff:  1 items\n",
            "orange juice\n"
          ]
        }
      ]
    },
    {
      "cell_type": "code",
      "source": [],
      "metadata": {
        "id": "zozHTKn0y3V_"
      },
      "execution_count": null,
      "outputs": []
    }
  ]
}