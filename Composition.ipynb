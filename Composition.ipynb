{
  "nbformat": 4,
  "nbformat_minor": 0,
  "metadata": {
    "colab": {
      "provenance": [],
      "authorship_tag": "ABX9TyOE8wFvZoCS1H0LME8CXl0A",
      "include_colab_link": true
    },
    "kernelspec": {
      "name": "python3",
      "display_name": "Python 3"
    },
    "language_info": {
      "name": "python"
    }
  },
  "cells": [
    {
      "cell_type": "markdown",
      "metadata": {
        "id": "view-in-github",
        "colab_type": "text"
      },
      "source": [
        "<a href=\"https://colab.research.google.com/github/Taz-haX/Learning_Python/blob/main/Composition.ipynb\" target=\"_parent\"><img src=\"https://colab.research.google.com/assets/colab-badge.svg\" alt=\"Open In Colab\"/></a>"
      ]
    },
    {
      "cell_type": "code",
      "execution_count": 1,
      "metadata": {
        "colab": {
          "base_uri": "https://localhost:8080/"
        },
        "id": "b6VPP19Ro3Jn",
        "outputId": "c7cc7fd7-22cd-4177-df7e-19845351a502"
      },
      "outputs": [
        {
          "output_type": "stream",
          "name": "stdout",
          "text": [
            "350 is engine cc\n",
            "350 cc engine gon stop\n",
            "khaa dun\n",
            "350 cc engine gon start\n",
            "khaa runin\n"
          ]
        }
      ],
      "source": [
        "class Engine:\n",
        "    def __init__(self, cc):\n",
        "        self.cc = cc\n",
        "        print(f'{self.cc} is engine cc')\n",
        "\n",
        "    def start(self):\n",
        "        print(f'{self.cc} cc engine gon start')\n",
        "\n",
        "    def stop(self):\n",
        "        print(f'{self.cc} cc engine gon stop')\n",
        "\n",
        "class Car:\n",
        "    def __init__(self, name, cc):\n",
        "        self.name = name\n",
        "        self.engine = Engine(cc)\n",
        "\n",
        "    def run(self):\n",
        "        self.engine.start()\n",
        "        print('khaa runin')\n",
        "\n",
        "    def off(self):\n",
        "        self.engine.stop()\n",
        "        print('khaa dun')\n",
        "\n",
        "c1 = Car(\"Chevorlet\", 350)\n",
        "c1.off()\n",
        "c1.run()"
      ]
    }
  ]
}