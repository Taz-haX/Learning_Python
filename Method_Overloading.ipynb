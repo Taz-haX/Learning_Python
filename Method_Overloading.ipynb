{
  "nbformat": 4,
  "nbformat_minor": 0,
  "metadata": {
    "colab": {
      "provenance": [],
      "authorship_tag": "ABX9TyN+fFVSz68tg+5A3j3rqXXt",
      "include_colab_link": true
    },
    "kernelspec": {
      "name": "python3",
      "display_name": "Python 3"
    },
    "language_info": {
      "name": "python"
    }
  },
  "cells": [
    {
      "cell_type": "markdown",
      "metadata": {
        "id": "view-in-github",
        "colab_type": "text"
      },
      "source": [
        "<a href=\"https://colab.research.google.com/github/Taz-haX/Learning_Python/blob/main/Method_Overloading.ipynb\" target=\"_parent\"><img src=\"https://colab.research.google.com/assets/colab-badge.svg\" alt=\"Open In Colab\"/></a>"
      ]
    },
    {
      "cell_type": "code",
      "execution_count": 3,
      "metadata": {
        "colab": {
          "base_uri": "https://localhost:8080/"
        },
        "id": "bpG0Pe_9Kmr2",
        "outputId": "5130f2e5-780e-4234-c88a-6fc7e1ec0896"
      },
      "outputs": [
        {
          "output_type": "stream",
          "name": "stdout",
          "text": [
            "2\n",
            "105\n"
          ]
        }
      ],
      "source": [
        "class Calculator:\n",
        "    def product(self, *nums):\n",
        "        sum = 1\n",
        "        for i in nums:\n",
        "            sum = sum*i\n",
        "        print(sum )\n",
        "\n",
        "po = Calculator()\n",
        "po.product(2)\n",
        "po.product(3,5,7)"
      ]
    },
    {
      "cell_type": "code",
      "source": [
        "from multipledispatch import dispatch\n",
        "\n",
        "class Calculator:\n",
        "\n",
        "  @dispatch(int, int)\n",
        "  def product(self, a, b):\n",
        "    print(a*b)\n",
        "  @dispatch(int, int, int)\n",
        "  def product(self, a, b, c):\n",
        "    print(a*b*c)\n",
        "\n",
        "yo = Calculator()\n",
        "\n",
        "yo.product(4,5)\n",
        "yo.product(6,4,5)"
      ],
      "metadata": {
        "colab": {
          "base_uri": "https://localhost:8080/"
        },
        "id": "3pA7rpgGMVX0",
        "outputId": "d1c14e6d-db9b-4b99-9a12-f2b26921f226"
      },
      "execution_count": 4,
      "outputs": [
        {
          "output_type": "stream",
          "name": "stdout",
          "text": [
            "20\n",
            "120\n"
          ]
        }
      ]
    }
  ]
}