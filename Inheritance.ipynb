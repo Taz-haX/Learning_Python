{
  "nbformat": 4,
  "nbformat_minor": 0,
  "metadata": {
    "colab": {
      "provenance": [],
      "authorship_tag": "ABX9TyNnljL9TP0XfwVyYFEk+U6b",
      "include_colab_link": true
    },
    "kernelspec": {
      "name": "python3",
      "display_name": "Python 3"
    },
    "language_info": {
      "name": "python"
    }
  },
  "cells": [
    {
      "cell_type": "markdown",
      "metadata": {
        "id": "view-in-github",
        "colab_type": "text"
      },
      "source": [
        "<a href=\"https://colab.research.google.com/github/Taz-haX/Learning_Python/blob/main/Inheritance.ipynb\" target=\"_parent\"><img src=\"https://colab.research.google.com/assets/colab-badge.svg\" alt=\"Open In Colab\"/></a>"
      ]
    },
    {
      "cell_type": "code",
      "execution_count": 1,
      "metadata": {
        "colab": {
          "base_uri": "https://localhost:8080/"
        },
        "id": "L_NbaOR0T-5H",
        "outputId": "8e53c1f4-cdf9-4815-b93c-4e239eda9dd2"
      },
      "outputs": [
        {
          "output_type": "stream",
          "name": "stdout",
          "text": [
            "HAmilton started that many drives\n",
            "This idiat HAmilton ain't no normal driver\n"
          ]
        }
      ],
      "source": [
        "class Driver:\n",
        "    def __init__(self, name):\n",
        "        self.name = name\n",
        "\n",
        "    def starts(self):\n",
        "        print(f'{self.name} started that many drives')\n",
        "\n",
        "class Racer(Driver):\n",
        "    def races(self):\n",
        "        print(f\"This idiat {self.name} ain't no normal driver\")\n",
        "\n",
        "d1 = Racer('HAmilton')\n",
        "b1 = Driver('PAjN')\n",
        "d1.starts()\n",
        "d1.races()"
      ]
    },
    {
      "cell_type": "code",
      "source": [
        "class Student:\n",
        "    def __init__(self, name, Id):\n",
        "        self.name = name\n",
        "        self.id = Id\n",
        "\n",
        "    def detail(self):\n",
        "        print(f'Life be shite {self.name}, should die in {self.id}')\n",
        "\n",
        "class CSstudent(Student):\n",
        "    def __init__(self, name, Id, labs):\n",
        "        super().__init__(name, Id)\n",
        "        self.no_labs = labs\n",
        "\n",
        "    def cry(self):\n",
        "        print(f'Weaklings, {self.name}, id {self.id} be'\n",
        "              f'cryin like hell for {self.no_labs} labs, tskk tskk')\n",
        "\n",
        "class BBAstudent(Student):\n",
        "    def party(self):\n",
        "        print(f'All vibes no study')\n",
        "\n",
        "class NewBatch(CSstudent):\n",
        "    def quirk(self):\n",
        "        print(f'Fresh blood, gud for kamla')\n",
        "\n",
        "s1 = CSstudent('Pajn', 30, 4)\n",
        "s2 = BBAstudent('lul', 34)\n",
        "s3 = NewBatch('Ayoo', 24, 2)\n",
        "\n",
        "s1.cry()\n",
        "s1.detail()\n",
        "s2.detail()\n",
        "print('==============================')\n",
        "s3.quirk()\n",
        "s3.detail()\n",
        "s3.cry()"
      ],
      "metadata": {
        "colab": {
          "base_uri": "https://localhost:8080/"
        },
        "id": "Jmd36JEQUNWO",
        "outputId": "49048bcd-44da-42fd-957d-1adcaf150cb8"
      },
      "execution_count": 3,
      "outputs": [
        {
          "output_type": "stream",
          "name": "stdout",
          "text": [
            "Weaklings, Pajn, id 30 becryin like hell for 4 labs, tskk tskk\n",
            "Life be shite Pajn, should die in 30\n",
            "Life be shite lul, should die in 34\n",
            "==============================\n",
            "Fresh blood, gud for kamla\n",
            "Life be shite Ayoo, should die in 24\n",
            "Weaklings, Ayoo, id 24 becryin like hell for 2 labs, tskk tskk\n"
          ]
        }
      ]
    }
  ]
}