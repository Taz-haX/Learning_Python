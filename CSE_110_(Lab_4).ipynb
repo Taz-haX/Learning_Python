{
  "nbformat": 4,
  "nbformat_minor": 0,
  "metadata": {
    "colab": {
      "provenance": [],
      "authorship_tag": "ABX9TyNWT1WcHN/Q3VNof8CkLynx",
      "include_colab_link": true
    },
    "kernelspec": {
      "name": "python3",
      "display_name": "Python 3"
    },
    "language_info": {
      "name": "python"
    }
  },
  "cells": [
    {
      "cell_type": "markdown",
      "metadata": {
        "id": "view-in-github",
        "colab_type": "text"
      },
      "source": [
        "<a href=\"https://colab.research.google.com/github/Taz-haX/Learning_Python/blob/main/CSE_110_(Lab_4).ipynb\" target=\"_parent\"><img src=\"https://colab.research.google.com/assets/colab-badge.svg\" alt=\"Open In Colab\"/></a>"
      ]
    },
    {
      "cell_type": "code",
      "execution_count": null,
      "metadata": {
        "colab": {
          "base_uri": "https://localhost:8080/"
        },
        "id": "P5QRVsCFOz3h",
        "outputId": "4a069e3a-28a7-442c-fe92-3467b0dc268d"
      },
      "outputs": [
        {
          "output_type": "stream",
          "name": "stdout",
          "text": [
            "Whatcha say boyo: Nothin\n",
            "nihtoN"
          ]
        }
      ],
      "source": [
        "# TASK_1\n",
        "# Write a Python program that takes a String as an input from the user and prints that String in reverse order.\n",
        "# You cannot use the built-in reverse() function for this task.\n",
        "\n",
        "x = input('Whatcha say boyo: ')\n",
        "\n",
        "for i in range(len(x)-1,-1,-1):\n",
        "    print(x[i],end='')\n",
        "\n",
        "# i = len(x)-1\n",
        "# while i != -1:\n",
        "#     print(x[i],end='')\n",
        "#     i -= 1"
      ]
    },
    {
      "cell_type": "code",
      "source": [
        "# TASK_2\n",
        "# Write a python program that takes 2 inputs from the user, where the first input is a string with length greater than 1.\n",
        "# The second input is the index of the first given string from where you have to start reversing.\n",
        "# After reversing the first input string from that index, print the new string back to the user.\n",
        "\n",
        "x = input('Pajn chao nak?: ')\n",
        "y = int(input('Number of numero: '))\n",
        "t = y+1\n",
        "for i in range(y,-1,-1):\n",
        "    print(x[i],end='')\n",
        "if len(x) > t:\n",
        "    for i in range(t,len(x)):\n",
        "        print(x[i],end='')"
      ],
      "metadata": {
        "colab": {
          "base_uri": "https://localhost:8080/"
        },
        "id": "H2marhBbPbY-",
        "outputId": "b49773dd-54c1-4928-bb7a-0f61b1ff4c09"
      },
      "execution_count": null,
      "outputs": [
        {
          "output_type": "stream",
          "name": "stdout",
          "text": [
            "Pajn chao nak?: 12345\n",
            "Number of numero: 2\n",
            "32145"
          ]
        }
      ]
    },
    {
      "cell_type": "code",
      "source": [
        "# TASK_3\n",
        "# Write a program that takes a string as input and prints “Binary Number”\n",
        "# if the string contains only 0s or 1s. Otherwise, print “Not a Binary Number”.\n",
        "\n",
        "x = input('Enter something: ')\n",
        "hogs = 0\n",
        "\n",
        "for i in range(len(x)):\n",
        "    if x[i] != '0' and x[i] != '1':\n",
        "        hogs += 1\n",
        "if hogs > 0:\n",
        "    print('Tis a Non-Binary')\n",
        "else:\n",
        "    print('Tis a Binary')"
      ],
      "metadata": {
        "colab": {
          "base_uri": "https://localhost:8080/"
        },
        "id": "ml1zdUzwQT-W",
        "outputId": "b83adda6-a18f-45ae-9135-efbaa6dbd703"
      },
      "execution_count": null,
      "outputs": [
        {
          "output_type": "stream",
          "name": "stdout",
          "text": [
            "Enter something: noo01d\n",
            "Tis a Non-Binary\n"
          ]
        }
      ]
    },
    {
      "cell_type": "code",
      "source": [
        "# TASK_4\n",
        "# Write a Python program that will ask the user to enter a word as an input.\n",
        "# If the length of the input string is less than 4, then your program should print the same string as an output.\n",
        "# If the input string’s length is greater than 3, then your program should add \"er\" at the end of the input string.\n",
        "# If the input string already ends with \"er\", then add \"est\" instead, regardless of the length of the input string\n",
        "# If the input string already ends with \"est\", then your program should print the same input string as an output.\n",
        "\n",
        "x = input('Entah sum weird shite: ')\n",
        "jok = 0\n",
        "bok = 0\n",
        "lok = 0\n",
        "\n",
        "if len(x) <= 4:\n",
        "    print(x)\n",
        "elif len(x)>4:\n",
        "    if len(x) > 4:\n",
        "        for i in range(len(x) - 3, len(x) - 2):\n",
        "            if x[i] == 'e' and x[i + 1] == 's':\n",
        "                jok += 1\n",
        "            if x[i] == 'e' and x[i + 1] == 's':\n",
        "                jok += 1\n",
        "            if x[i + 1] == 's' and x[i + 2] == 't':\n",
        "                jok += 1\n",
        "        if jok == 3:\n",
        "            print(x)\n",
        "    if len(x) > 4 and jok != 3:\n",
        "        for i in range(len(x) - 2, len(x) - 1):\n",
        "            if x[i] == 'e' and x[i + 1] == 'r':\n",
        "                bok += 1\n",
        "            if x[i] == 'e' and x[i + 1] == 'r':\n",
        "                bok += 1\n",
        "        if bok == 2:\n",
        "            print(x[0:len(x) - 2], end='')\n",
        "            print('est', end='')\n",
        "    if bok !=2 and jok != 3:\n",
        "        print(x[0:len(x)], end='')\n",
        "        print('er')"
      ],
      "metadata": {
        "colab": {
          "base_uri": "https://localhost:8080/"
        },
        "id": "Q8NrvwwJUrG7",
        "outputId": "532f9a47-6f1c-4b5c-c99c-2fcfe4c1d404"
      },
      "execution_count": 1,
      "outputs": [
        {
          "output_type": "stream",
          "name": "stdout",
          "text": [
            "Entah sum weird shite: Stronger\n",
            "Strongest"
          ]
        }
      ]
    },
    {
      "cell_type": "code",
      "source": [
        "# TASK_5\n",
        "# Write a Python program that will ask the user to input a string (containing exactly one word).\n",
        "# Then your program should print subsequent substrings of the given string\n",
        "# A right angled triangle\n",
        "\n",
        "x = input('Enter a word: ')\n",
        "\n",
        "while ' ' in x:\n",
        "    x = input('Enter ONE word: ')\n",
        "\n",
        "y = x.upper()\n",
        "\n",
        "for i in range(0, len(y)+1):\n",
        "    for j in range(0, i):\n",
        "        print(y[j], end='')\n",
        "    print()"
      ],
      "metadata": {
        "colab": {
          "base_uri": "https://localhost:8080/"
        },
        "id": "9rCOJKKzVHdS",
        "outputId": "1a4fdb92-fb94-4c4c-8306-02cf01ec3b8d"
      },
      "execution_count": 2,
      "outputs": [
        {
          "output_type": "stream",
          "name": "stdout",
          "text": [
            "Enter a word: totop\n",
            "\n",
            "T\n",
            "TO\n",
            "TOT\n",
            "TOTO\n",
            "TOTOP\n"
          ]
        }
      ]
    },
    {
      "cell_type": "code",
      "source": [
        "# TASK_6\n",
        "# Write a Python program that will ask the user to input a string (containing exactly one word).\n",
        "# Then print the ASCII code for each character in the String using the ord() function.\n",
        "\n",
        "x = input('Enter a word: ')\n",
        "\n",
        "while ' ' in x:\n",
        "    x = input('Enter ONE word: ')\n",
        "\n",
        "for i in range(len(x)):\n",
        "    print(str(x[i])+' : '+str(ord(x[i])))"
      ],
      "metadata": {
        "colab": {
          "base_uri": "https://localhost:8080/"
        },
        "id": "qj4skwnssouN",
        "outputId": "b60bbe43-2dd3-45d8-b68b-32a9544cdc2d"
      },
      "execution_count": 5,
      "outputs": [
        {
          "output_type": "stream",
          "name": "stdout",
          "text": [
            "Enter a word: Programming\n",
            "P : 80\n",
            "r : 114\n",
            "o : 111\n",
            "g : 103\n",
            "r : 114\n",
            "a : 97\n",
            "m : 109\n",
            "m : 109\n",
            "i : 105\n",
            "n : 110\n",
            "g : 103\n"
          ]
        }
      ]
    },
    {
      "cell_type": "code",
      "source": [
        "# TASK_7\n",
        "# Write a Python program that takes a string as an input from the user containing all small letters\n",
        "# and then prints the next alphabet in sequence for each alphabet in the input.\n",
        "# Sample Input 3: [Must fulfil this criteria]\n",
        "# xyzabc\n",
        "# Sample Output 3:\n",
        "# yzabcd\n",
        "\n",
        "x = input('Entah Sum shite: ')\n",
        "y = x.lower()\n",
        "\n",
        "for i in range(len(y)):\n",
        "    if x[i] == 'z':\n",
        "        print(chr(97),end='')\n",
        "    else:\n",
        "        print((chr(ord(y[i])+1)),end='')"
      ],
      "metadata": {
        "colab": {
          "base_uri": "https://localhost:8080/"
        },
        "id": "OKZiYLdocnMv",
        "outputId": "c544c59f-9005-4472-edcf-aca096bc2628"
      },
      "execution_count": 4,
      "outputs": [
        {
          "output_type": "stream",
          "name": "stdout",
          "text": [
            "Entah Sum shite: xyzabc Pajn life\n",
            "yzabcd!qbko!mjgf"
          ]
        }
      ]
    },
    {
      "cell_type": "code",
      "source": [
        "# TASK_8\n",
        "# Write a Python program that takes a String as input from the user,\n",
        "# removes the characters at even index and prints the resulting String in uppercase without using the built-in function upper().\n",
        "\n",
        "x = input('Entah shite my brothah: ')\n",
        "\n",
        "for i in range(len(x)):\n",
        "    if i%2 == 0 or i == 0:\n",
        "        pass\n",
        "    elif i%2!=0 or i != 0:\n",
        "        print(x[i].capitalize(), end='')"
      ],
      "metadata": {
        "colab": {
          "base_uri": "https://localhost:8080/"
        },
        "id": "imOUlPjOs6hT",
        "outputId": "c7dd0ca7-b66f-4839-bd29-4b72deb84be8"
      },
      "execution_count": 1,
      "outputs": [
        {
          "output_type": "stream",
          "name": "stdout",
          "text": [
            "Entah shite my brothah: String\n",
            "TIG"
          ]
        }
      ]
    },
    {
      "cell_type": "code",
      "source": [
        "# TASK_9\n",
        "# Given a string, create a new string with all the consecutive duplicates removed.\n",
        "\n",
        "x = input('Say sumin manh: ')\n",
        "\n",
        "for i in range(len(x)):\n",
        "    if i == len(x)-1:\n",
        "        print(x[i],end='')\n",
        "    elif x[i] == x[i+1]:\n",
        "        pass\n",
        "    else:\n",
        "        print(x[i],end='')"
      ],
      "metadata": {
        "colab": {
          "base_uri": "https://localhost:8080/"
        },
        "id": "xxLzerrtJ0qE",
        "outputId": "76d34b73-5e4e-408b-d27e-42caac40293e"
      },
      "execution_count": 2,
      "outputs": [
        {
          "output_type": "stream",
          "name": "stdout",
          "text": [
            "Say sumin manh: Man this a pAAaaaAaAain\n",
            "Man this a pAaAaAain"
          ]
        }
      ]
    },
    {
      "cell_type": "code",
      "source": [
        "# TASK_10\n",
        "# Write a Python program that will take one input from the user made up of two strings separated by a comma and a space.\n",
        "# Then create a mixed string with alternative characters from each string.\n",
        "# Any leftover chars will be appended at the end of the resulting string. [ Do not use lists for this task]\n",
        "\n",
        "x = input('Enter two words separated by a comma and a space: ')\n",
        "\n",
        "while ', ' not in x:\n",
        "    x = input('Enter two words separated by A COMMA and A SPACE: ')\n",
        "\n",
        "lok = 0\n",
        "okk = 0\n",
        "\n",
        "hok = ''\n",
        "tok = ''\n",
        "\n",
        "for i in range(len(x)):\n",
        "    if x[i] == ',':\n",
        "        lok += i\n",
        "    if x[i] == ' ':\n",
        "        okk += i\n",
        "for i in range(len(x)):\n",
        "    if i < lok:\n",
        "        hok += x[i]\n",
        "    if i > okk:\n",
        "        tok += x[i]\n",
        "for i in range(len(hok)):\n",
        "    if i%2 == 0:\n",
        "        print(hok[i],end='')\n",
        "        print(tok[i],end='')\n",
        "    if i%2!=0:\n",
        "        print(hok[i],end='')\n",
        "        print(tok[i],end='')\n",
        "if len(tok)>len(hok):\n",
        "    for i in range(len(hok), len(tok)):\n",
        "        print(tok[i], end='')"
      ],
      "metadata": {
        "colab": {
          "base_uri": "https://localhost:8080/"
        },
        "id": "eirr5lpiRfYc",
        "outputId": "931f09ed-8b39-48a8-f00f-a59fb08c73f0"
      },
      "execution_count": 3,
      "outputs": [
        {
          "output_type": "stream",
          "name": "stdout",
          "text": [
            "Enter two words separated by a comma and a space: ijkl, ABCDENDFGH\n",
            "iAjBkClDENDFGH"
          ]
        }
      ]
    }
  ]
}