{
  "nbformat": 4,
  "nbformat_minor": 0,
  "metadata": {
    "colab": {
      "provenance": [],
      "authorship_tag": "ABX9TyN6VieWFKeHelR3WV8p2KBj",
      "include_colab_link": true
    },
    "kernelspec": {
      "name": "python3",
      "display_name": "Python 3"
    },
    "language_info": {
      "name": "python"
    }
  },
  "cells": [
    {
      "cell_type": "markdown",
      "metadata": {
        "id": "view-in-github",
        "colab_type": "text"
      },
      "source": [
        "<a href=\"https://colab.research.google.com/github/Taz-haX/Learning_Python/blob/main/CSE_110_(Lab_4).ipynb\" target=\"_parent\"><img src=\"https://colab.research.google.com/assets/colab-badge.svg\" alt=\"Open In Colab\"/></a>"
      ]
    },
    {
      "cell_type": "code",
      "execution_count": 1,
      "metadata": {
        "colab": {
          "base_uri": "https://localhost:8080/"
        },
        "id": "P5QRVsCFOz3h",
        "outputId": "4a069e3a-28a7-442c-fe92-3467b0dc268d"
      },
      "outputs": [
        {
          "output_type": "stream",
          "name": "stdout",
          "text": [
            "Whatcha say boyo: Nothin\n",
            "nihtoN"
          ]
        }
      ],
      "source": [
        "# TASK_1\n",
        "# Write a Python program that takes a String as an input from the user and prints that String in reverse order.\n",
        "# You cannot use the built-in reverse() function for this task.\n",
        "\n",
        "x = input('Whatcha say boyo: ')\n",
        "\n",
        "for i in range(len(x)-1,-1,-1):\n",
        "    print(x[i],end='')\n",
        "\n",
        "# i = len(x)-1\n",
        "# while i != -1:\n",
        "#     print(x[i],end='')\n",
        "#     i -= 1"
      ]
    },
    {
      "cell_type": "code",
      "source": [
        "# TASK_2\n",
        "# Write a python program that takes 2 inputs from the user, where the first input is a string with length greater than 1.\n",
        "# The second input is the index of the first given string from where you have to start reversing.\n",
        "# After reversing the first input string from that index, print the new string back to the user.\n",
        "#\n",
        "x = input('Pajn chao nak?: ')\n",
        "y = int(input('Number of numero: '))\n",
        "t = y+1\n",
        "for i in range(y,-1,-1):\n",
        "    print(x[i],end='')\n",
        "if len(x) > t:\n",
        "    for i in range(t,len(x)):\n",
        "        print(x[i],end='')"
      ],
      "metadata": {
        "colab": {
          "base_uri": "https://localhost:8080/"
        },
        "id": "H2marhBbPbY-",
        "outputId": "b49773dd-54c1-4928-bb7a-0f61b1ff4c09"
      },
      "execution_count": 5,
      "outputs": [
        {
          "output_type": "stream",
          "name": "stdout",
          "text": [
            "Pajn chao nak?: 12345\n",
            "Number of numero: 2\n",
            "32145"
          ]
        }
      ]
    },
    {
      "cell_type": "code",
      "source": [
        "# TASK_3\n",
        "# Write a program that takes a string as input and prints “Binary Number”\n",
        "# if the string contains only 0s or 1s. Otherwise, print “Not a Binary Number”.\n",
        "\n",
        "x = input('Enter something: ')\n",
        "hogs = 0\n",
        "\n",
        "for i in range(len(x)):\n",
        "    if x[i] != '0' and x[i] != '1':\n",
        "        hogs += 1\n",
        "if hogs > 0:\n",
        "    print('Tis a Non-Binary')\n",
        "else:\n",
        "    print('Tis a Binary')"
      ],
      "metadata": {
        "colab": {
          "base_uri": "https://localhost:8080/"
        },
        "id": "ml1zdUzwQT-W",
        "outputId": "b83adda6-a18f-45ae-9135-efbaa6dbd703"
      },
      "execution_count": 4,
      "outputs": [
        {
          "output_type": "stream",
          "name": "stdout",
          "text": [
            "Enter something: noo01d\n",
            "Tis a Non-Binary\n"
          ]
        }
      ]
    }
  ]
}