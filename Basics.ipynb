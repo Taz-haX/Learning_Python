{
  "nbformat": 4,
  "nbformat_minor": 0,
  "metadata": {
    "colab": {
      "provenance": [],
      "include_colab_link": true
    },
    "kernelspec": {
      "name": "python3",
      "display_name": "Python 3"
    },
    "language_info": {
      "name": "python"
    }
  },
  "cells": [
    {
      "cell_type": "markdown",
      "metadata": {
        "id": "view-in-github",
        "colab_type": "text"
      },
      "source": [
        "<a href=\"https://colab.research.google.com/github/Taz-haX/Learning_Python/blob/main/Basics.ipynb\" target=\"_parent\"><img src=\"https://colab.research.google.com/assets/colab-badge.svg\" alt=\"Open In Colab\"/></a>"
      ]
    },
    {
      "cell_type": "markdown",
      "source": [
        "##101 BASICS"
      ],
      "metadata": {
        "id": "7EJqAc36yDM5"
      }
    },
    {
      "cell_type": "code",
      "execution_count": 1,
      "metadata": {
        "colab": {
          "base_uri": "https://localhost:8080/"
        },
        "id": "LoccLnmujPax",
        "outputId": "433ac0f5-f977-4e18-86d8-b116fff7cb30"
      },
      "outputs": [
        {
          "output_type": "stream",
          "name": "stdout",
          "text": [
            "Pain is eternal\n",
            "Also kinda WEIRD\n"
          ]
        }
      ],
      "source": [
        "print(\"Pain is eternal\")\n",
        "print(\"Also kinda WEIRD\")"
      ]
    },
    {
      "cell_type": "code",
      "source": [
        "#variables done\n",
        "\n",
        "first_name = \"Xab\"\n",
        "last_name = \"Pajn\"\n",
        "full_name = first_name + \" \" + last_name\n",
        "print(name)\n",
        "#print(type(name))\n",
        "print(\"Hello \"+full_name)"
      ],
      "metadata": {
        "colab": {
          "base_uri": "https://localhost:8080/"
        },
        "id": "YOQ3Cjvb6gog",
        "outputId": "a4a8d391-8953-45de-f022-92feaaada7ba"
      },
      "execution_count": null,
      "outputs": [
        {
          "output_type": "stream",
          "name": "stdout",
          "text": [
            "Xab\n",
            "Hello Xab Pajn\n"
          ]
        }
      ]
    },
    {
      "cell_type": "code",
      "source": [
        "age = 20\n",
        "age += 1\n",
        "print(age)"
      ],
      "metadata": {
        "colab": {
          "base_uri": "https://localhost:8080/"
        },
        "id": "DeJGB2K29A7X",
        "outputId": "dc76f3fc-e738-4e2e-fae4-a0ba5e47c4a6"
      },
      "execution_count": null,
      "outputs": [
        {
          "output_type": "stream",
          "name": "stdout",
          "text": [
            "21\n"
          ]
        }
      ]
    },
    {
      "cell_type": "code",
      "source": [
        "age = 20\n",
        "age = age + 1\n",
        "print(age)\n",
        "print(type(age))\n",
        "print(\"Your age is: \"+str(age))"
      ],
      "metadata": {
        "colab": {
          "base_uri": "https://localhost:8080/"
        },
        "id": "y5H7YxPh7JHQ",
        "outputId": "977b7ac9-9980-4fa7-e8e8-452377a3f18c"
      },
      "execution_count": null,
      "outputs": [
        {
          "output_type": "stream",
          "name": "stdout",
          "text": [
            "21\n",
            "<class 'int'>\n",
            "Your age is: 21\n"
          ]
        }
      ]
    },
    {
      "cell_type": "code",
      "source": [
        "height = 250.5\n",
        "print(height)\n",
        "print(type(height))\n",
        "print(\"Your height is: \"+str(height)+\"cm\")"
      ],
      "metadata": {
        "colab": {
          "base_uri": "https://localhost:8080/"
        },
        "id": "FSWWhpsT9Lrd",
        "outputId": "f2b259f7-5a0f-4fbd-fed3-042124ab75d3"
      },
      "execution_count": null,
      "outputs": [
        {
          "output_type": "stream",
          "name": "stdout",
          "text": [
            "250.5\n",
            "<class 'float'>\n",
            "Your height is: 250.5cm\n"
          ]
        }
      ]
    },
    {
      "cell_type": "code",
      "source": [
        "human = True\n",
        "print(human)\n",
        "print(type(human))\n",
        "print(\"Are you a human?: \"+str(human))"
      ],
      "metadata": {
        "colab": {
          "base_uri": "https://localhost:8080/"
        },
        "id": "TbejsteJ-r0W",
        "outputId": "b00ce102-4d82-407b-a18f-c2483c5d1ccc"
      },
      "execution_count": null,
      "outputs": [
        {
          "output_type": "stream",
          "name": "stdout",
          "text": [
            "True\n",
            "<class 'bool'>\n",
            "Are you a human?: True\n"
          ]
        }
      ]
    },
    {
      "cell_type": "markdown",
      "source": [
        "## MULTIPLE ASSIGNMENTS\n"
      ],
      "metadata": {
        "id": "rEYeKHUPycr3"
      }
    },
    {
      "cell_type": "code",
      "source": [
        "#multiple assignments\n",
        "\n",
        "name, age, attractive = \"Xab\", 20, False\n",
        "\n",
        "print(name)\n",
        "print(age)\n",
        "print(attractive)\n",
        "\n",
        "#Spongebob = 30\n",
        "#Patrick = 30\n",
        "#Sandy = 30\n",
        "#Squidward = 30\n",
        "\n",
        "Spongebob = Patrick = Sand1y = Squidward = 30\n",
        "\n",
        "print(Spongebob)\n",
        "print(Patrick)\n",
        "print(Sandy)\n",
        "print(Squidward)"
      ],
      "metadata": {
        "colab": {
          "base_uri": "https://localhost:8080/"
        },
        "id": "zN6AtY5J_nf7",
        "outputId": "ee015892-2a96-4b89-d11b-e4247f263f20"
      },
      "execution_count": null,
      "outputs": [
        {
          "output_type": "stream",
          "name": "stdout",
          "text": [
            "Xab\n",
            "20\n",
            "False\n",
            "30\n",
            "30\n",
            "30\n",
            "30\n"
          ]
        }
      ]
    },
    {
      "cell_type": "markdown",
      "source": [
        "## STRING METHODS AND TYPECASTING"
      ],
      "metadata": {
        "id": "p_o38m6YykpQ"
      }
    },
    {
      "cell_type": "code",
      "source": [
        "#String methods\n",
        "\n",
        "name = \"D A M\"\n",
        "\n",
        "print(len(name))\n",
        "print(name.find(\"D\"))\n",
        "print(name.capitalize())\n",
        "print(name.lower())\n",
        "print(name.isdigit())\n",
        "print(name.isalpha())\n",
        "print(name.count(\"M\"))\n",
        "print(name.replace(\"M\", \"M\"))\n",
        "print(name*3)"
      ],
      "metadata": {
        "colab": {
          "base_uri": "https://localhost:8080/"
        },
        "id": "mZPouvEKBwkK",
        "outputId": "fd77f242-1c24-4151-bacc-bff40a6a4263"
      },
      "execution_count": 2,
      "outputs": [
        {
          "output_type": "stream",
          "name": "stdout",
          "text": [
            "5\n",
            "0\n",
            "D a m\n",
            "d a m\n",
            "False\n",
            "False\n",
            "1\n",
            "D A M\n",
            "D A MD A MD A M\n"
          ]
        }
      ]
    },
    {
      "cell_type": "code",
      "source": [
        "#typecasting\n",
        "\n",
        "x = 1   #int\n",
        "y = 2.0  #float\n",
        "z = \"3\" #str\n",
        "\n",
        "\n",
        "print(x)\n",
        "print(int(y))\n",
        "print(y)\n",
        "print(z)\n",
        "print(z*3)"
      ],
      "metadata": {
        "colab": {
          "base_uri": "https://localhost:8080/"
        },
        "id": "FH7URhP2MV8U",
        "outputId": "5410b944-04f5-4c5c-a0e2-68a936f2a0ab"
      },
      "execution_count": null,
      "outputs": [
        {
          "output_type": "stream",
          "name": "stdout",
          "text": [
            "1\n",
            "2\n",
            "2.0\n",
            "3\n",
            "333\n"
          ]
        }
      ]
    },
    {
      "cell_type": "code",
      "source": [
        "x = 1   #int\n",
        "y = 2.0  #float\n",
        "z = \"3\" #str\n",
        "\n",
        "y = int(y)\n",
        "z = int(z)\n",
        "x = float(x)\n",
        "\n",
        "print(x)\n",
        "print(y)\n",
        "print(z*3)\n",
        "\n",
        "print(\"X is \"+str(x))"
      ],
      "metadata": {
        "colab": {
          "base_uri": "https://localhost:8080/"
        },
        "id": "c496k0y3SvwC",
        "outputId": "b828da36-17d8-411f-896f-2357c8f9289c"
      },
      "execution_count": null,
      "outputs": [
        {
          "output_type": "stream",
          "name": "stdout",
          "text": [
            "1.0\n",
            "2\n",
            "9\n",
            "X is 1.0\n"
          ]
        }
      ]
    },
    {
      "cell_type": "markdown",
      "source": [
        "## USER INPUT"
      ],
      "metadata": {
        "id": "YSh8Az3oypU-"
      }
    },
    {
      "cell_type": "code",
      "source": [
        "#user input\n",
        "\n",
        "input(\"What is your name?: \")"
      ],
      "metadata": {
        "colab": {
          "base_uri": "https://localhost:8080/",
          "height": 52
        },
        "id": "Xlc2LTIPTWmZ",
        "outputId": "e04a8976-830f-478a-8a1e-157da9c5ea28"
      },
      "execution_count": null,
      "outputs": [
        {
          "name": "stdout",
          "output_type": "stream",
          "text": [
            "What is your name?: Xab\n"
          ]
        },
        {
          "output_type": "execute_result",
          "data": {
            "text/plain": [
              "'Xab'"
            ],
            "application/vnd.google.colaboratory.intrinsic+json": {
              "type": "string"
            }
          },
          "metadata": {},
          "execution_count": 13
        }
      ]
    },
    {
      "cell_type": "code",
      "source": [
        "name = input(\"What is your name?: \")\n",
        "age = int(input(\"What is your age?: \"))\n",
        "height = float(input(\"How tall are you?: \"))\n",
        "\n",
        "\n",
        "age += 1\n",
        "\n",
        "print(\"Hello \"+name)\n",
        "print(\"You are \"+str(age)+\" years old\")\n",
        "print(\"You are \"+str(height)+\"cm tall\")\n"
      ],
      "metadata": {
        "colab": {
          "base_uri": "https://localhost:8080/"
        },
        "id": "g4dfmykHUQwQ",
        "outputId": "22804468-f73c-46b0-eee3-662fa6972ff9"
      },
      "execution_count": null,
      "outputs": [
        {
          "output_type": "stream",
          "name": "stdout",
          "text": [
            "What is your name?: Xab\n",
            "What is your age?: 20\n",
            "How tall are you?: 173.67\n",
            "Hello Xab\n",
            "You are 21 years old\n",
            "You are 173.67cm tall\n"
          ]
        }
      ]
    },
    {
      "cell_type": "markdown",
      "source": [
        "##MATHS FUNCTION"
      ],
      "metadata": {
        "id": "1FaCFeeYSG98"
      }
    },
    {
      "cell_type": "code",
      "source": [
        "#math functions\n",
        "\n",
        "import math\n",
        "\n",
        "pi = -3.14\n",
        "x = 1\n",
        "y = 2\n",
        "z = 3\n",
        "\n",
        "print(round(pi))\n",
        "print(math.ceil(pi))\n",
        "print(math.floor(pi))\n",
        "print(abs(pi))\n",
        "print(pow(pi,2))\n",
        "print(math.sqrt(69))\n",
        "print(max(x,y,z))\n",
        "print(min(x,y,z))"
      ],
      "metadata": {
        "colab": {
          "base_uri": "https://localhost:8080/"
        },
        "id": "NBllfOFIXHsV",
        "outputId": "50a5b756-7bd6-40f7-d692-0d715e8ecb35"
      },
      "execution_count": null,
      "outputs": [
        {
          "output_type": "stream",
          "name": "stdout",
          "text": [
            "-3\n",
            "-3\n",
            "-4\n",
            "3.14\n",
            "9.8596\n",
            "8.306623862918075\n",
            "3\n",
            "1\n"
          ]
        }
      ]
    },
    {
      "cell_type": "markdown",
      "source": [
        "##STRING SLICES"
      ],
      "metadata": {
        "id": "QQjKtGXBSTF2"
      }
    },
    {
      "cell_type": "code",
      "source": [
        "#slicing strings\n",
        "\n",
        "name = \"Xab Taz\"\n",
        "\n",
        "#indexing[start:stop:step] or slice()\n",
        "\n",
        "first_name = name[:3]\n",
        "last_name = name[4:7]\n",
        "\n",
        "weird_namawaea = name[::2]\n",
        "\n",
        "reversed_name = name[::-1]\n",
        "\n",
        "#first index inculsive, second exclusive\n",
        "\n",
        "print(first_name)\n",
        "print(last_name)\n",
        "print(weird_namawaea)\n",
        "print(reversed_name)\n"
      ],
      "metadata": {
        "colab": {
          "base_uri": "https://localhost:8080/"
        },
        "id": "jkxBRE2dYz7q",
        "outputId": "e867d35b-2e50-416e-a242-181b392a4ba5"
      },
      "execution_count": null,
      "outputs": [
        {
          "output_type": "stream",
          "name": "stdout",
          "text": [
            "Xab\n",
            "Taz\n",
            "XbTz\n",
            "zaT baX\n"
          ]
        }
      ]
    },
    {
      "cell_type": "code",
      "source": [
        "website = \"http://google.com\"\n",
        "\n",
        "cdi = slice(7,-4)\n",
        "\n",
        "print(website[cdi])\n",
        "\n",
        "#fuckin why"
      ],
      "metadata": {
        "colab": {
          "base_uri": "https://localhost:8080/"
        },
        "id": "Otdq5tNbb-ib",
        "outputId": "66f15f4d-5fcb-4dda-f1c4-54d3a8837507"
      },
      "execution_count": null,
      "outputs": [
        {
          "output_type": "stream",
          "name": "stdout",
          "text": [
            "google\n"
          ]
        }
      ]
    },
    {
      "cell_type": "markdown",
      "source": [
        "##IF STATEMENTS"
      ],
      "metadata": {
        "id": "iuhns5tBywOl"
      }
    },
    {
      "cell_type": "code",
      "source": [
        "#if statements\n",
        "\n",
        "age = int(input(\"How old are you?: \"))\n",
        "\n",
        "if age == 100:\n",
        "  print(\"Why ain't yo ass ded yet\")\n",
        "elif age >= 18:\n",
        "  print(\"You are an adult, sadge\")\n",
        "elif age < 0:\n",
        "  print(\"Dam time traveller much?\")\n",
        "else:\n",
        "  print(\"You are a child, kringe\")"
      ],
      "metadata": {
        "colab": {
          "base_uri": "https://localhost:8080/"
        },
        "id": "V5GVuJ1Afu0f",
        "outputId": "ba2e9e13-5e38-4d97-8d84-5fa85f53a2e8"
      },
      "execution_count": null,
      "outputs": [
        {
          "output_type": "stream",
          "name": "stdout",
          "text": [
            "How old are you?: 100\n",
            "Why ain't yo ass ded yet\n"
          ]
        }
      ]
    },
    {
      "cell_type": "markdown",
      "source": [
        "## LOGICAL OPERATORS"
      ],
      "metadata": {
        "id": "DdqVoenpyzv9"
      }
    },
    {
      "cell_type": "code",
      "source": [
        "#logical operators (and, or, not)\n",
        "\n",
        "temp = int(input(\"What is the temparature outside?: \"))\n",
        "\n",
        "if not(temp>=0 and temp<= 30):\n",
        "  print(\"The weather quite gud innit?\")\n",
        "  print(\"kys lol\")\n",
        "elif not(temp < 0 or temp > 30):\n",
        "  print(\"Ayo the weather quite fooked innit?\")\n",
        "  print(\"Sucks to be you lmao\")\n"
      ],
      "metadata": {
        "colab": {
          "base_uri": "https://localhost:8080/"
        },
        "id": "ZF-MJL4qnSfw",
        "outputId": "72e8663a-d045-4b98-e9ee-881038911d60"
      },
      "execution_count": null,
      "outputs": [
        {
          "output_type": "stream",
          "name": "stdout",
          "text": [
            "What is the temparature outside?: 34\n",
            "The weather quite gud innit?\n",
            "kys lol\n"
          ]
        }
      ]
    },
    {
      "cell_type": "markdown",
      "source": [
        "## WHILE AND FOR LOOPS"
      ],
      "metadata": {
        "id": "T5l7sr26y2n_"
      }
    },
    {
      "cell_type": "code",
      "source": [
        "#while loop UwU\n",
        "\n",
        "while 1==1:\n",
        "  print(\"Stuck in a loopy doopy\")"
      ],
      "metadata": {
        "id": "Q4LOhuwJqW6u"
      },
      "execution_count": null,
      "outputs": []
    },
    {
      "cell_type": "code",
      "source": [
        "name = \"\"\n",
        "\n",
        "while len(name)  == 0:\n",
        "  name = input(\"Enter your name: \")\n",
        "\n",
        "print(\"Hello \"+name)\n",
        "\n"
      ],
      "metadata": {
        "colab": {
          "base_uri": "https://localhost:8080/"
        },
        "id": "Pb8EiCWskw8F",
        "outputId": "98e88722-4403-495c-de16-5f716b75b956"
      },
      "execution_count": null,
      "outputs": [
        {
          "output_type": "stream",
          "name": "stdout",
          "text": [
            "Enter your name: \n",
            "Enter your name: \n",
            "Enter your name: \n",
            "Enter your name: Tutu\n",
            "Hello Tutu\n"
          ]
        }
      ]
    },
    {
      "cell_type": "code",
      "source": [
        "name = input(\"Enter your name: \")\n",
        "\n",
        "while name == \"\":\n",
        "  name = input(\"I said enter yo bloody name biatch: \")\n",
        "\n",
        "print(\"Hello \"+name)"
      ],
      "metadata": {
        "colab": {
          "base_uri": "https://localhost:8080/"
        },
        "id": "QyYxNiztlZGd",
        "outputId": "2c2e5946-9432-47b3-8428-aef3a2ea1b0c"
      },
      "execution_count": null,
      "outputs": [
        {
          "output_type": "stream",
          "name": "stdout",
          "text": [
            "Enter your name: \n",
            "I said enter yo bloody name biatch: \n",
            "I said enter yo bloody name biatch: ko\n",
            "Hello ko\n"
          ]
        }
      ]
    },
    {
      "cell_type": "code",
      "source": [
        "#for loop\n",
        "\n",
        "for i in range(10):\n",
        "  print(i+1)\n",
        "\n",
        "for i in range(50,100+1,2):\n",
        "  print(i)"
      ],
      "metadata": {
        "colab": {
          "base_uri": "https://localhost:8080/"
        },
        "id": "hISoTZjRl5Fr",
        "outputId": "b8578816-a771-466a-ae64-7109277f2077"
      },
      "execution_count": null,
      "outputs": [
        {
          "output_type": "stream",
          "name": "stdout",
          "text": [
            "1\n",
            "2\n",
            "3\n",
            "4\n",
            "5\n",
            "6\n",
            "7\n",
            "8\n",
            "9\n",
            "10\n",
            "50\n",
            "52\n",
            "54\n",
            "56\n",
            "58\n",
            "60\n",
            "62\n",
            "64\n",
            "66\n",
            "68\n",
            "70\n",
            "72\n",
            "74\n",
            "76\n",
            "78\n",
            "80\n",
            "82\n",
            "84\n",
            "86\n",
            "88\n",
            "90\n",
            "92\n",
            "94\n",
            "96\n",
            "98\n",
            "100\n"
          ]
        }
      ]
    },
    {
      "cell_type": "code",
      "source": [
        "import time\n",
        "\n",
        "\n",
        "#for i in \"Xab Taz\":\n",
        " # print(i)\n",
        "\n",
        "for seconds in range(10,0,-1):\n",
        "  print(seconds)\n",
        "  time.sleep(1)\n",
        "print(\"Happy New Year\")"
      ],
      "metadata": {
        "colab": {
          "base_uri": "https://localhost:8080/"
        },
        "id": "oLbayZSQm221",
        "outputId": "78db3899-e29d-4464-f934-f7709e2e7aa0"
      },
      "execution_count": null,
      "outputs": [
        {
          "output_type": "stream",
          "name": "stdout",
          "text": [
            "10\n",
            "9\n",
            "8\n",
            "7\n",
            "6\n",
            "5\n",
            "4\n",
            "3\n",
            "2\n",
            "1\n",
            "Happy New Year\n"
          ]
        }
      ]
    },
    {
      "cell_type": "code",
      "source": [
        "#nested loops\n",
        "\n",
        "rows = int(input(\"How many rows?: \"))\n",
        "columns = int(input(\"How many columns?: \"))\n",
        "symbol = input(\"Enter a symbol to use: \")\n",
        "\n",
        "for i in range(rows):\n",
        "  for j in range(columns):\n",
        "    print(symbol, end=\"\")\n",
        "  print()"
      ],
      "metadata": {
        "colab": {
          "base_uri": "https://localhost:8080/"
        },
        "id": "yvJ06Iqsn0ga",
        "outputId": "8f6d6ae7-2ae6-49af-e581-d9bea2319c96"
      },
      "execution_count": null,
      "outputs": [
        {
          "output_type": "stream",
          "name": "stdout",
          "text": [
            "How many rows?: 5\n",
            "How many columns?: 6\n",
            "Enter a symbol to use: &\n",
            "&&&&&&\n",
            "&&&&&&\n",
            "&&&&&&\n",
            "&&&&&&\n",
            "&&&&&&\n"
          ]
        }
      ]
    },
    {
      "cell_type": "code",
      "source": [
        "#loop control statements\n",
        "\n",
        "#break, continue, pass\n",
        "\n",
        "while True:\n",
        "  name = input(\"Enter your name: \")\n",
        "  if name != \"\": #why tho\n",
        "    break\n",
        "\n",
        "phone_number = \"123-456-7890\"\n",
        "\n",
        "for i in phone_number:\n",
        "  if i == \"-\":\n",
        "    continue\n",
        "  print(i, end=\"\")\n",
        "\n",
        "\n",
        "for i in range(1,21):\n",
        "  if i == 13:\n",
        "    pass\n",
        "  else:\n",
        "    print(i)"
      ],
      "metadata": {
        "colab": {
          "base_uri": "https://localhost:8080/"
        },
        "id": "bAoIzv68poQ6",
        "outputId": "edc77957-bde4-4426-9e7f-aad18469f992"
      },
      "execution_count": null,
      "outputs": [
        {
          "output_type": "stream",
          "name": "stdout",
          "text": [
            "Enter your name: \n",
            "Enter your name: \n",
            "Enter your name: oops\n",
            "12345678901\n",
            "2\n",
            "3\n",
            "4\n",
            "5\n",
            "6\n",
            "7\n",
            "8\n",
            "9\n",
            "10\n",
            "11\n",
            "12\n",
            "14\n",
            "15\n",
            "16\n",
            "17\n",
            "18\n",
            "19\n",
            "20\n"
          ]
        }
      ]
    },
    {
      "cell_type": "markdown",
      "source": [
        "#LISTS, TUPLES, SETS"
      ],
      "metadata": {
        "id": "sjmyJO7Fy9GS"
      }
    },
    {
      "cell_type": "code",
      "source": [
        "#list UwU\n",
        "\n",
        "food = [\"pizza\",\"hamburg\",\"pain\",\"ded\"]\n",
        "\n",
        "food[2] = \"sushu\"\n",
        "\n",
        "food.append(\"ice cream\")\n",
        "food.remove(\"hamburg\")\n",
        "food.pop()\n",
        "food.insert(0, \"cakeyu\")\n",
        "#food.clear()\n",
        "\n",
        "\n",
        "print(food[2])\n",
        "\n",
        "for x in food:\n",
        "  print(x)"
      ],
      "metadata": {
        "colab": {
          "base_uri": "https://localhost:8080/"
        },
        "id": "8mOBicsqsnAK",
        "outputId": "6443510b-e1ac-4819-c5bd-44b2bf3a4a98"
      },
      "execution_count": null,
      "outputs": [
        {
          "output_type": "stream",
          "name": "stdout",
          "text": [
            "sushu\n",
            "cakeyu\n",
            "pizza\n",
            "sushu\n",
            "ded\n"
          ]
        }
      ]
    },
    {
      "cell_type": "code",
      "source": [
        "#2d lists, multi dimensional\n",
        "\n",
        "drinks = [\"coffee\",\"soda\",\"tea\"]\n",
        "dinner = [\"pizza\",\"hamburg\",\"hotdog\"]\n",
        "dessert = [\"cakeyu\",\"ice cream\"]\n",
        "\n",
        "food = [drinks,dinner,dessert]\n",
        "\n",
        "print(food[2][1])"
      ],
      "metadata": {
        "colab": {
          "base_uri": "https://localhost:8080/"
        },
        "id": "Vq2PEjtYu_UT",
        "outputId": "e07d8297-3c9f-4b90-8c66-1e23d38ad705"
      },
      "execution_count": null,
      "outputs": [
        {
          "output_type": "stream",
          "name": "stdout",
          "text": [
            "ice cream\n"
          ]
        }
      ]
    },
    {
      "cell_type": "code",
      "source": [
        "#tuple whatever ( non edit-able)\n",
        "\n",
        "student = (\"Ayo\",\"20\",\"male\")\n",
        "\n",
        "print(student.count(\"Ayo\"))\n",
        "\n",
        "print(student.index(\"male\"))\n",
        "\n",
        "for x in student:\n",
        "  print(x)\n",
        "\n",
        "if \"20\" in student:\n",
        "  print(\"Dam life be pajn innit?\")"
      ],
      "metadata": {
        "colab": {
          "base_uri": "https://localhost:8080/"
        },
        "id": "NxnsHg3PwB9e",
        "outputId": "188fb417-b539-4964-fa3c-fb25f85f7cba"
      },
      "execution_count": null,
      "outputs": [
        {
          "output_type": "stream",
          "name": "stdout",
          "text": [
            "1\n",
            "2\n",
            "Ayo\n",
            "20\n",
            "male\n",
            "Dam life be pajn innit?\n"
          ]
        }
      ]
    },
    {
      "cell_type": "code",
      "source": [
        "# set, unordered, unindexed, no duplicate\n",
        "\n",
        "utensils = {\"fork\",\"spoon\",\"knife\"}\n",
        "dishes = {\"bowl\",\"plate\",\"cup\",\"spoon\"}\n",
        "\n",
        "utensils.add(\"napkin\")\n",
        "utensils.remove(\"fork\")\n",
        "#utensils.clear()\n",
        "utensils.update(dishes)\n",
        "dinner_table = utensils.union(dishes)\n",
        "\n",
        "print(utensils.difference(dishes))\n",
        "print(utensils.intersection(dishes))\n",
        "\n",
        "for x in utensils:\n",
        "  print(x)"
      ],
      "metadata": {
        "colab": {
          "base_uri": "https://localhost:8080/"
        },
        "id": "LejHZnbExQqs",
        "outputId": "40777db6-8816-4801-c679-c6b8e683e6b8"
      },
      "execution_count": null,
      "outputs": [
        {
          "output_type": "stream",
          "name": "stdout",
          "text": [
            "{'napkin', 'knife'}\n",
            "{'cup', 'plate', 'bowl', 'spoon'}\n",
            "spoon\n",
            "napkin\n",
            "bowl\n",
            "plate\n",
            "cup\n",
            "knife\n"
          ]
        }
      ]
    },
    {
      "cell_type": "code",
      "source": [
        "columns = int(input(\"Enter number of columns: \"))\n",
        "rows = int(input(\"Enter number of rows: \"))\n",
        "symbol = input(\"Enter symbol: \")\n",
        "\n",
        "for i in range(columns):\n",
        "  for j in range(rows):\n",
        "    print(symbol, end=\"\")\n",
        "  print()"
      ],
      "metadata": {
        "colab": {
          "base_uri": "https://localhost:8080/"
        },
        "id": "x59xxNLOqkvS",
        "outputId": "9b9aa94b-8439-406b-f9c2-986edfac63cb"
      },
      "execution_count": null,
      "outputs": [
        {
          "output_type": "stream",
          "name": "stdout",
          "text": [
            "Enter number of columns: 7\n",
            "Enter number of rows: 13\n",
            "Enter symbol: %\n",
            "%%%%%%%%%%%%%\n",
            "%%%%%%%%%%%%%\n",
            "%%%%%%%%%%%%%\n",
            "%%%%%%%%%%%%%\n",
            "%%%%%%%%%%%%%\n",
            "%%%%%%%%%%%%%\n",
            "%%%%%%%%%%%%%\n"
          ]
        }
      ]
    },
    {
      "cell_type": "code",
      "source": [
        "Samp = \"Hello World\"\n",
        "print(Samp)"
      ],
      "metadata": {
        "colab": {
          "base_uri": "https://localhost:8080/"
        },
        "id": "JphR84bj7hQ9",
        "outputId": "edb0f533-8591-4bb5-9b81-c7039109da1f"
      },
      "execution_count": null,
      "outputs": [
        {
          "output_type": "stream",
          "name": "stdout",
          "text": [
            "Hello World\n"
          ]
        }
      ]
    },
    {
      "cell_type": "markdown",
      "source": [
        "## LAB WORK"
      ],
      "metadata": {
        "id": "Z3FbfpuzzLJA"
      }
    },
    {
      "cell_type": "code",
      "source": [
        "A = int(input())\n",
        "B = int(input())\n",
        "C = int(input())\n",
        "D = float(input())\n",
        "\n",
        "x = (A**C+B*A-D/3)\n",
        "\n",
        "print(int(x))\n"
      ],
      "metadata": {
        "colab": {
          "base_uri": "https://localhost:8080/"
        },
        "id": "9bF_vho89ldW",
        "outputId": "361550cc-4a70-4e8f-fc74-f809e02990ae"
      },
      "execution_count": null,
      "outputs": [
        {
          "output_type": "stream",
          "name": "stdout",
          "text": [
            "2\n",
            "6\n",
            "8\n",
            "1.3\n",
            "267\n"
          ]
        }
      ]
    },
    {
      "cell_type": "code",
      "source": [
        "z = int(input())\n",
        "\n",
        "\n",
        "\n",
        "\n",
        "\n",
        "print(y)"
      ],
      "metadata": {
        "colab": {
          "base_uri": "https://localhost:8080/"
        },
        "id": "9kUA5TJEAc2i",
        "outputId": "61905cb0-72e0-402c-f023-0dc67077c06e"
      },
      "execution_count": null,
      "outputs": [
        {
          "output_type": "stream",
          "name": "stdout",
          "text": [
            "60\n",
            "0\n"
          ]
        }
      ]
    },
    {
      "cell_type": "code",
      "source": [
        "op = str(input())\n",
        "po = str(input())\n",
        "\n",
        "print(po+op)"
      ],
      "metadata": {
        "colab": {
          "base_uri": "https://localhost:8080/"
        },
        "id": "Cbgelf6CfPcH",
        "outputId": "756b07dc-1c73-40f6-a3f7-92fe7cdd2a07"
      },
      "execution_count": null,
      "outputs": [
        {
          "output_type": "stream",
          "name": "stdout",
          "text": [
            "Hello\n",
            "World\n",
            "WorldHello\n"
          ]
        }
      ]
    },
    {
      "cell_type": "code",
      "source": [
        "t = int(input())\n",
        "uf = float(input())\n",
        "toot = int(input())\n",
        "\n",
        "print(str(t)+\", \"+str(uf)+\", \"+str(toot))\n",
        "\n",
        "print(f\"{t}, {uf}, {toot}\")\n",
        "\n",
        "uwu = float(t)+uf\n",
        "\n",
        "print(str(uwu)+str(toot))\n"
      ],
      "metadata": {
        "colab": {
          "base_uri": "https://localhost:8080/"
        },
        "id": "9emp6dn0gInu",
        "outputId": "16808d94-8857-40a8-c919-905f6e19cf7e"
      },
      "execution_count": null,
      "outputs": [
        {
          "output_type": "stream",
          "name": "stdout",
          "text": [
            "3\n",
            "11.57\n",
            "7\n",
            "3, 11.57, 7\n",
            "3, 11.57, 7\n",
            "14.577\n"
          ]
        }
      ]
    },
    {
      "cell_type": "code",
      "source": [
        "dope = int(input())\n",
        "\n",
        "if dope%2 == 0:\n",
        "  print(\"True\")\n",
        "else:\n",
        "  print(\"False\")\n"
      ],
      "metadata": {
        "colab": {
          "base_uri": "https://localhost:8080/"
        },
        "id": "0ng-voL9lDKc",
        "outputId": "bbcf6b6a-2716-41ae-d9b3-7d1bbbbd22ee"
      },
      "execution_count": null,
      "outputs": [
        {
          "output_type": "stream",
          "name": "stdout",
          "text": [
            "-26\n",
            "True\n"
          ]
        }
      ]
    },
    {
      "cell_type": "code",
      "source": [
        "import math\n",
        "\n",
        "\n",
        "rimjob = int(input())\n",
        "\n",
        "ari = math.pi*rimjob**2\n",
        "\n",
        "cur = 2*math.pi*rimjob\n",
        "\n",
        "print(f\"Area is {ari}\\nCircumference is {cur}\")"
      ],
      "metadata": {
        "colab": {
          "base_uri": "https://localhost:8080/"
        },
        "id": "O1OcIhOIm5jK",
        "outputId": "5b5a4a36-f870-4482-ce0b-cdaa7c71f890"
      },
      "execution_count": null,
      "outputs": [
        {
          "output_type": "stream",
          "name": "stdout",
          "text": [
            "4\n",
            "Area is 50.26548245743669\n",
            "Circumference is 25.132741228718345\n"
          ]
        }
      ]
    },
    {
      "cell_type": "code",
      "source": [
        "Borobai = int(input())\n",
        "Sodobai = int(input())\n",
        "\n",
        "if Borobai>Sodobai:\n",
        "  print(Borobai-Sodobai)\n",
        "else:\n",
        "  print(Sodobai-Borobai)"
      ],
      "metadata": {
        "colab": {
          "base_uri": "https://localhost:8080/"
        },
        "id": "bzPWDPpem5k2",
        "outputId": "62cc49bf-b603-498e-91e9-6a6b24d9e107"
      },
      "execution_count": null,
      "outputs": [
        {
          "output_type": "stream",
          "name": "stdout",
          "text": [
            "-40\n",
            "-4\n",
            "36\n"
          ]
        }
      ]
    },
    {
      "cell_type": "code",
      "source": [
        "tudon = int(input())\n",
        "\n",
        "if tudon%2 == 0 and tudon%5 == 0:\n",
        "  print(tudon)\n",
        "else:\n",
        "  print(\"Not a multiple of 2 OR 5\")"
      ],
      "metadata": {
        "colab": {
          "base_uri": "https://localhost:8080/"
        },
        "id": "EVSfY2L3qCSu",
        "outputId": "eb35d6ea-edea-40e5-e315-8b06491c8556"
      },
      "execution_count": null,
      "outputs": [
        {
          "output_type": "stream",
          "name": "stdout",
          "text": [
            "10\n",
            "10\n"
          ]
        }
      ]
    },
    {
      "cell_type": "code",
      "source": [
        "tufudon = int(input())\n",
        "\n",
        "if tufudon%2 == 0 and tufudon%5 == 0:\n",
        "  print(\"It is a multiple of 2 and 5\")\n",
        "elif tufudon%2 == 0 or tufudon%5 == 0:\n",
        "  print(\"It is a multiple of either 2 or 5 but not both\")\n",
        "else:\n",
        "  print(\"Not a multiple we want\")"
      ],
      "metadata": {
        "colab": {
          "base_uri": "https://localhost:8080/"
        },
        "id": "RcV0iE3NsE_N",
        "outputId": "cb1796d3-2876-4559-e835-a68dbe10da06"
      },
      "execution_count": null,
      "outputs": [
        {
          "output_type": "stream",
          "name": "stdout",
          "text": [
            "17\n",
            "Not a multiple we want\n"
          ]
        }
      ]
    },
    {
      "cell_type": "code",
      "source": [
        "seconds = int(input())\n",
        "\n",
        "hours = seconds//3600\n",
        "\n",
        "x = seconds-hours*3600\n",
        "\n",
        "minutao = x//60\n",
        "\n",
        "y = x-minutao*60\n",
        "\n",
        "print(str(hours)+\":\"+str(minutao)+\":\"+str(y))"
      ],
      "metadata": {
        "id": "PV2vpNI_u0T8",
        "colab": {
          "base_uri": "https://localhost:8080/"
        },
        "outputId": "37909002-9e60-4e4e-a2bb-f367be0c4b74"
      },
      "execution_count": null,
      "outputs": [
        {
          "output_type": "stream",
          "name": "stdout",
          "text": [
            "10000\n",
            "2:46:40\n"
          ]
        }
      ]
    },
    {
      "cell_type": "code",
      "source": [
        "punch = int(input())\n",
        "\n",
        "if 0>punch or punch>168:\n",
        "  print(\"Impossible timing\")\n",
        "elif punch>40:\n",
        "  x = punch-40\n",
        "  y = x*300\n",
        "  print(8000+y)\n",
        "else:\n",
        "  z = punch*200\n",
        "  print(z)"
      ],
      "metadata": {
        "colab": {
          "base_uri": "https://localhost:8080/"
        },
        "id": "f7cpMTxLygCi",
        "outputId": "159d99bd-4354-4ab8-e342-57d05ad9ce39"
      },
      "execution_count": null,
      "outputs": [
        {
          "output_type": "stream",
          "name": "stdout",
          "text": [
            "30\n",
            "6000\n"
          ]
        }
      ]
    },
    {
      "cell_type": "code",
      "source": [
        "S = int(input())\n",
        "\n",
        "if S>=100:\n",
        "\n",
        "  U = S**2/14900\n",
        "  V = 4+U\n",
        "  P = 12000/V\n",
        "\n",
        "  L = P\n",
        "\n",
        "  print(L)\n",
        "else:\n",
        "\n",
        "  K = 125*S**2\n",
        "  L = 3000-K\n",
        "\n",
        "  print(L)"
      ],
      "metadata": {
        "colab": {
          "base_uri": "https://localhost:8080/"
        },
        "id": "ybGbYnjV39uS",
        "outputId": "a7a515ea-68b4-432c-d906-a918892357a7"
      },
      "execution_count": null,
      "outputs": [
        {
          "output_type": "stream",
          "name": "stdout",
          "text": [
            "3\n",
            "1875\n"
          ]
        }
      ]
    },
    {
      "cell_type": "code",
      "source": [
        "toggi = int(input())\n",
        "\n",
        "if toggi<0 or toggi>23:\n",
        "  print(\"Wrong time\")\n",
        "elif toggi>=4 and toggi<=6:\n",
        "  print(\"Breakfast\")\n",
        "elif toggi>=12 and toggi<=13:\n",
        "  print(\"Lunch\")\n",
        "elif toggi>=16 and toggi<=17:\n",
        "  print(\"Snacks\")\n",
        "elif toggi>=19 and toggi<=20:\n",
        "  print(\"Dinner\")\n",
        "else:\n",
        "  print(\"Patience is Virtue\")"
      ],
      "metadata": {
        "colab": {
          "base_uri": "https://localhost:8080/"
        },
        "id": "lat0T4Q15Zch",
        "outputId": "51c05088-184e-48b1-c614-5f64ec378ac5"
      },
      "execution_count": null,
      "outputs": [
        {
          "output_type": "stream",
          "name": "stdout",
          "text": [
            "18\n",
            "Patience is Virtue\n"
          ]
        }
      ]
    },
    {
      "cell_type": "code",
      "source": [
        "ma = int(input())\n",
        "\n",
        "if ma<0 or ma>100:\n",
        "  print(\"Invalid input\")\n",
        "elif ma>=90:\n",
        "  print(\"A\")\n",
        "elif ma>=80 and ma<=89:\n",
        "  print(\"B\")\n",
        "elif ma>=70 and ma<=79:\n",
        "  print(\"C\")\n",
        "elif ma>=60 and ma<=69:\n",
        "  print(\"D\")\n",
        "elif ma>=50 and ma<=59:\n",
        "  print(\"E\")\n",
        "else:\n",
        "  print(\"F\")"
      ],
      "metadata": {
        "colab": {
          "base_uri": "https://localhost:8080/"
        },
        "id": "MVlOerXD7xuT",
        "outputId": "d97624e5-18b4-43c2-86f4-c0c501332a26"
      },
      "execution_count": null,
      "outputs": [
        {
          "output_type": "stream",
          "name": "stdout",
          "text": [
            "33\n",
            "F\n"
          ]
        }
      ]
    },
    {
      "cell_type": "code",
      "source": [
        "mys = int(input())\n",
        "sxc = int(input())\n",
        "\n",
        "ms = mys/sxc\n",
        "\n",
        "kb = float(3.6)\n",
        "\n",
        "kys = ms*kb\n",
        "\n",
        "if kys>90:\n",
        "  print(\"Too fast. Only a few changes should be suffice.\")\n",
        "elif kys>=60 and kys<=90:\n",
        "  print(\"Velocity is okay. The car is ready.\")\n",
        "else:\n",
        "  print(\"Too slow. Needs more changes.\")"
      ],
      "metadata": {
        "colab": {
          "base_uri": "https://localhost:8080/"
        },
        "id": "PCjbUqSS-uYU",
        "outputId": "75c679d1-a2b6-44a8-f3e7-8582f5cd6c04"
      },
      "execution_count": null,
      "outputs": [
        {
          "output_type": "stream",
          "name": "stdout",
          "text": [
            "25400\n",
            "3600\n",
            "Too slow. Needs more changes.\n"
          ]
        }
      ]
    },
    {
      "cell_type": "code",
      "source": [
        "grd = float(input())\n",
        "cred = int(input())\n",
        "\n",
        "if cred<30 and grd<3.8:\n",
        "  print(\"THe student is not eligible for a waiver.\")\n",
        "elif grd>=3.80 and grd<=3.89:\n",
        "  print(\"The student is elligible for a waiver of 25 percent.\")\n",
        "elif grd>=3.90 and grd<=3.94:\n",
        "  print(\"The student is elligible for a waiver of 50 percent.\")\n",
        "elif grd>=3.95 and grd>=3.99:\n",
        "  print(\"The student is elligible for a waiver of 75 percent.\")\n",
        "else:\n",
        "  print(\"The student is elligible for a waiver of 100 percent.\")\n"
      ],
      "metadata": {
        "colab": {
          "base_uri": "https://localhost:8080/"
        },
        "id": "X-uPsLrgBWgx",
        "outputId": "aba32717-c0c9-4a81-e08a-8c36e7f03aaf"
      },
      "execution_count": null,
      "outputs": [
        {
          "output_type": "stream",
          "name": "stdout",
          "text": [
            "3.79\n",
            "24\n",
            "THe student is not eligible for a waiver.\n"
          ]
        }
      ]
    },
    {
      "cell_type": "markdown",
      "source": [
        "## DICTIONARIES"
      ],
      "metadata": {
        "id": "Vut55lT_zUJf"
      }
    },
    {
      "cell_type": "code",
      "source": [
        "#dictionary, changable, unordered unique key: value pairs access value quickly\n",
        "\n",
        "capitals = {'USA':'Washington DC',\n",
        "            'India':'New Delhi',\n",
        "            'China':'Beijing',\n",
        "            'Russia':'Moscow'}\n",
        "\n",
        "capitals.update({'Germany':'Berlin'})\n",
        "capitals.update({'USA':'Las Vegas'})\n",
        "capitals.pop('China')\n",
        "\n",
        "print(capitals['Russia'])\n",
        "\n",
        "print(capitals.get('Germany'))\n",
        "\n",
        "print(capitals.keys())\n",
        "\n",
        "print(capitals.values())\n",
        "\n",
        "print(capitals.items())\n",
        "\n",
        "\n",
        "for key,value in capitals.items():\n",
        "  print(key,value)"
      ],
      "metadata": {
        "id": "NJQ7hNkcD8rJ",
        "colab": {
          "base_uri": "https://localhost:8080/"
        },
        "outputId": "fd0ed5b2-ac2a-4bdd-8a51-260447f60608"
      },
      "execution_count": null,
      "outputs": [
        {
          "output_type": "stream",
          "name": "stdout",
          "text": [
            "Moscow\n",
            "Berlin\n",
            "dict_keys(['USA', 'India', 'Russia', 'Germany'])\n",
            "dict_values(['Las Vegas', 'New Delhi', 'Moscow', 'Berlin'])\n",
            "dict_items([('USA', 'Las Vegas'), ('India', 'New Delhi'), ('Russia', 'Moscow'), ('Germany', 'Berlin')])\n",
            "USA Las Vegas\n",
            "India New Delhi\n",
            "Russia Moscow\n",
            "Germany Berlin\n"
          ]
        }
      ]
    },
    {
      "cell_type": "markdown",
      "source": [
        "#INDEX OPERATOR AND FUCNTIONS"
      ],
      "metadata": {
        "id": "u4ZSY4c4zhxA"
      }
    },
    {
      "cell_type": "code",
      "source": [
        "#index operator in python, gives access to sequence's elements\n",
        "\n",
        "name = 'bose Hose!'\n",
        "\n",
        "if (name[0].islower()):\n",
        "  name = name.capitalize()\n",
        "\n",
        "first_name = name[0:4].upper()\n",
        "last_name = name[5:].lower()\n",
        "last_character = name[-1]\n",
        "\n",
        "print(name)\n",
        "print(first_name)\n",
        "print(last_name)\n",
        "print(last_character)\n"
      ],
      "metadata": {
        "colab": {
          "base_uri": "https://localhost:8080/"
        },
        "id": "-6nCUKsKjAuD",
        "outputId": "b9d2201b-e3d0-4cb5-f199-5470c048aebf"
      },
      "execution_count": null,
      "outputs": [
        {
          "output_type": "stream",
          "name": "stdout",
          "text": [
            "Bose hose!\n",
            "BOSE\n",
            "hose!\n",
            "!\n"
          ]
        }
      ]
    },
    {
      "cell_type": "code",
      "source": [
        "#functions UwU, executed only when it is called, invoking a function\n",
        "\n",
        "def cdi(name):\n",
        "  print(\"hahas us \"+name)\n",
        "  print('kys lmao')\n",
        "\n",
        "cdi(\"Bose\")\n",
        "\n",
        "def sus(first_name,last_name,age):\n",
        "  print(\"Shaddap biss, \"+first_name+\" \"+last_name)\n",
        "  print(\"Matro \"+str(age)+\" bosor\")\n",
        "\n",
        "sus(\"Ahammok\", \"Idiat\",23)"
      ],
      "metadata": {
        "colab": {
          "base_uri": "https://localhost:8080/"
        },
        "id": "4KaBGwTBklwa",
        "outputId": "4281b2b1-b57a-4e85-8aa5-c9dc717d61dd"
      },
      "execution_count": null,
      "outputs": [
        {
          "output_type": "stream",
          "name": "stdout",
          "text": [
            "hahas us Bose\n",
            "kys lmao\n",
            "Shaddap biss, Ahammok Idiat\n",
            "Matro 23 bosor\n"
          ]
        }
      ]
    },
    {
      "cell_type": "code",
      "source": [
        "#return statements UwU, cdi manh\n",
        "\n",
        "def multiply(nou1,nou2):\n",
        "  result = nou1*nou2\n",
        "  return result\n",
        "  #or return nou1 * nou2, no need for x\n",
        "\n",
        "x = multiply(6,8)\n",
        "\n",
        "print(x)"
      ],
      "metadata": {
        "colab": {
          "base_uri": "https://localhost:8080/"
        },
        "id": "tIhi0hiqnVPo",
        "outputId": "3ead8d03-4051-4b19-bc0e-b543054ca57a"
      },
      "execution_count": null,
      "outputs": [
        {
          "output_type": "stream",
          "name": "stdout",
          "text": [
            "48\n"
          ]
        }
      ]
    },
    {
      "cell_type": "code",
      "source": [
        "#keyword arguments, preceeded by an identifier when we pass them through a fucntionn, order does not matter.\n",
        "\n",
        "def hello(first,middle,last):\n",
        "  print(\"Hello \"+first+\" \"+middle+\" \"+last)\n",
        "\n",
        "hello(\"Bose\",\"Dose\",\"Hose\")\n",
        "\n",
        "hello(last=\"dose\",middle=\"bose\",first=\"hose\") #this the keyword"
      ],
      "metadata": {
        "colab": {
          "base_uri": "https://localhost:8080/"
        },
        "id": "GhpQEQXzolcE",
        "outputId": "648013f5-6261-4178-b96d-c84acdcac839"
      },
      "execution_count": null,
      "outputs": [
        {
          "output_type": "stream",
          "name": "stdout",
          "text": [
            "Hello Bose Dose Hose\n",
            "Hello hose bose dose\n"
          ]
        }
      ]
    },
    {
      "cell_type": "code",
      "source": [
        "#nested funtion calls in python (function calls in fucntion calls)\n",
        "\n",
        "num = input(\"Enter a whole positive number: \")\n",
        "num = float(num)\n",
        "num = abs(num)\n",
        "num = round(num)\n",
        "print(num)\n",
        "\n",
        "print(round(abs(float(input(\"Enter a whole positive number :\")))))  #nested examples\n",
        "\n"
      ],
      "metadata": {
        "colab": {
          "base_uri": "https://localhost:8080/"
        },
        "id": "JzBRhHKdpwQ9",
        "outputId": "e6754a42-87ba-4b15-c774-dc47b853fb94"
      },
      "execution_count": null,
      "outputs": [
        {
          "output_type": "stream",
          "name": "stdout",
          "text": [
            "Enter a whole positive number: -3.890\n",
            "4\n",
            "Enter a whole positive number :-3.890\n",
            "4\n"
          ]
        }
      ]
    },
    {
      "cell_type": "code",
      "source": [
        "# scope, the region that a variable is recognized\n",
        "\n",
        "namawe = \"Hasar cdi\"\n",
        "\n",
        "def display_name():\n",
        "  namawe = \"Code\"\n",
        "  print(namawe)\n",
        "\n",
        "display_name()\n",
        "print(namawe)\n",
        "\n",
        "\n",
        "\n",
        "#local region first, then global, built in"
      ],
      "metadata": {
        "colab": {
          "base_uri": "https://localhost:8080/"
        },
        "id": "C9u5xIIBrDtw",
        "outputId": "41103c27-0413-4b58-ce21-ba96a9c105ea"
      },
      "execution_count": null,
      "outputs": [
        {
          "output_type": "stream",
          "name": "stdout",
          "text": [
            "Code\n",
            "Hasar cdi\n"
          ]
        }
      ]
    },
    {
      "cell_type": "markdown",
      "source": [
        "##KWARGS AND ARGS"
      ],
      "metadata": {
        "id": "QY_fY0DazrV9"
      }
    },
    {
      "cell_type": "code",
      "source": [
        "# *args i dunno, pack all arguments into a tuple.\n",
        "\n",
        "#PAIN IN DA ASS, ITERABLE MANE KI UFFF\n",
        "\n",
        "def add(num1,num2):\n",
        "  sum = num1 + num2\n",
        "  return sum\n",
        "\n",
        "print(add(1,2))\n",
        "\n",
        "def ass(*args):\n",
        "  suum = 0\n",
        "  args = list(args)\n",
        "  args[0] = 0\n",
        "  for i in args:\n",
        "    suum += i\n",
        "  return suum\n",
        "\n",
        "print(ass(1,5,6,8,9,10))"
      ],
      "metadata": {
        "colab": {
          "base_uri": "https://localhost:8080/"
        },
        "id": "9TICWOxast-8",
        "outputId": "79abba2c-a8e2-4080-84b5-9fa06894d051"
      },
      "execution_count": null,
      "outputs": [
        {
          "output_type": "stream",
          "name": "stdout",
          "text": [
            "3\n",
            "38\n"
          ]
        }
      ]
    },
    {
      "cell_type": "code",
      "source": [
        "# **kwargs PAIN AAAAAA, packs all in a dictiona, acepts varying amount of keywordy\n",
        "\n",
        "#def hello(first,last):\n",
        " # print(\"Cdi tomae \"+first+\" \"+last)\n",
        "\n",
        "#hello(first=\"Al\",last=\"Ahammok\")\n",
        "\n",
        "def hanso(**kwargs):\n",
        "  print(\"Fare tar \" + kwargs['first'] +\" \"+ kwargs['last'])\n",
        "\n",
        "hanso(first=\"Ahammok\",middle=\"Sodo\",last=\"Al\")\n",
        "\n",
        "def sos(**kwargs):\n",
        "  print(\"Hello\", end=\" \")\n",
        "  for key,value in kwargs.items():\n",
        "    print(value, end=\" \")\n",
        "\n",
        "sos(first='Doick',third='kota',last='loitar')\n"
      ],
      "metadata": {
        "colab": {
          "base_uri": "https://localhost:8080/"
        },
        "id": "Zbbsr0xpvga8",
        "outputId": "cacce01f-f7a3-471f-ae37-857ac62b0d19"
      },
      "execution_count": null,
      "outputs": [
        {
          "output_type": "stream",
          "name": "stdout",
          "text": [
            "Fare tar Ahammok Al\n",
            "Hello Doick kota loitar "
          ]
        }
      ]
    },
    {
      "cell_type": "markdown",
      "source": [
        "## STRING FORMATTING"
      ],
      "metadata": {
        "id": "bibKYVR4zu6t"
      }
    },
    {
      "cell_type": "code",
      "source": [
        "#str.format()  optional method that gives users more control when displaying output\n",
        "\n",
        "animal = \"cow\"\n",
        "item = \"moon\"\n",
        "\n",
        "print(\"The \"+animal+\" jumped over the \"+item)\n",
        "\n",
        "print(\"The {} jumped over the {}\".format(animal,item)) #format 01\n",
        "print(\"The {1} jumped over the {0}\".format(animal,item)) #positional\n",
        "print(\"The {item} jumped over the {item}\".format(animal=\"cow\",item=\"moon\")) #keyword\n",
        "\n",
        "text = \"The {} jumped over the {}\"\n",
        "print(text.format(animal, item))\n",
        "print(text)\n",
        "\n",
        "#add some padding\n",
        "\n",
        "name = \"Pajn Life Manh\"\n",
        "\n",
        "print(\"Hello, my name is {}\".format(name))\n",
        "print(\"Hello, my name is {:10}. Nice to meet you\".format(name))\n",
        "\n",
        "number = 3.14159\n",
        "nomber = 1000\n",
        "\n",
        "print(\"The number pi is {:.2f}\".format(number))\n",
        "print(\"The nomber is {:,}\".format(nomber))\n",
        "print(\"The nomber is {:b}\".format(nomber))\n",
        "print(\"The nomber is {:o}\".format(nomber))"
      ],
      "metadata": {
        "colab": {
          "base_uri": "https://localhost:8080/"
        },
        "id": "UmmdhCXZzUca",
        "outputId": "a2fc7e91-a28c-43d0-a199-19dd506019a7"
      },
      "execution_count": null,
      "outputs": [
        {
          "output_type": "stream",
          "name": "stdout",
          "text": [
            "The cow jumped over the moon\n",
            "The cow jumped over the moon\n",
            "The moon jumped over the cow\n",
            "The moon jumped over the moon\n",
            "The cow jumped over the moon\n",
            "The {} jumped over the {}\n",
            "Hello, my name is Pajn Life Manh\n",
            "Hello, my name is Pajn Life Manh. Nice to meet you\n",
            "The number pi is 3.14\n",
            "The nomber is 1,000\n",
            "The nomber is 1111101000\n",
            "The nomber is 1750\n"
          ]
        }
      ]
    },
    {
      "cell_type": "code",
      "source": [
        "#random module\n",
        "\n",
        "import random\n",
        "\n",
        "x = random.randint(1,6)\n",
        "y = random.random()\n",
        "print(y)\n",
        "\n",
        "myList = ['rock','paper','scissors']\n",
        "z = random.choice(myList)\n",
        "\n",
        "print(z)\n",
        "\n",
        "cards = [1,2,3,4,5,6,7,8,9,\"J\",\"Q\",\"K\",\"A\"]\n",
        "random.shuffle(cards)\n",
        "\n",
        "print(cards)"
      ],
      "metadata": {
        "colab": {
          "base_uri": "https://localhost:8080/"
        },
        "id": "6uY817_pNfDc",
        "outputId": "6a1f00a1-a7b4-4b5b-eea4-b2a7dc880a17"
      },
      "execution_count": null,
      "outputs": [
        {
          "output_type": "stream",
          "name": "stdout",
          "text": [
            "0.14135648478707974\n",
            "paper\n",
            "[6, 'K', 7, 8, 'J', 1, 3, 5, 2, 'A', 9, 'Q', 4]\n"
          ]
        }
      ]
    },
    {
      "cell_type": "markdown",
      "source": [
        "##TRY AND EXCEPTION"
      ],
      "metadata": {
        "id": "CD11Xz96z0ly"
      }
    },
    {
      "cell_type": "code",
      "source": [
        "#exception interrupts the flow of a program, CLAUSE\n",
        "\n",
        "try:\n",
        "  numerator = int(input(\"Enter a number to divide: \"))\n",
        "  denominator = int(input(\"Enter a number to divide by: \"))\n",
        "  result = numerator / denominator\n",
        "except ZeroDivisionError as e:\n",
        "  print(\"that's 0 dumbass\")\n",
        "  print(e)\n",
        "\n",
        "#except Exceptionpe:\n",
        "  #print(\"Something went wrong.\")\n",
        "except ValueError as e:\n",
        "  print(\"Enter only numbers bitch\")\n",
        "  print(e)\n",
        "else:\n",
        "  print(result)\n",
        "finally:\n",
        "  print(\"This will always execute. paJn\")\n",
        "\n",
        "\n"
      ],
      "metadata": {
        "colab": {
          "base_uri": "https://localhost:8080/"
        },
        "id": "rUccCEx5O7Wl",
        "outputId": "95350d27-dd62-41db-c5cd-36c1f7c02fc7"
      },
      "execution_count": null,
      "outputs": [
        {
          "output_type": "stream",
          "name": "stdout",
          "text": [
            "Enter a number to divide: 90\n",
            "Enter a number to divide by: 80\n",
            "1.125\n",
            "This will always execute. paJn\n"
          ]
        }
      ]
    },
    {
      "cell_type": "code",
      "source": [
        "try:\n",
        "  numerator = int(input(\"Enter a bloody no: \"))\n",
        "  denominator = int(input(\"Enter another bloody no: \"))\n",
        "  result = numerator / denominator\n",
        "  print(result)\n",
        "except ZeroDivisionError:\n",
        "  print(\"Dumbass\")"
      ],
      "metadata": {
        "id": "oTdzZ7cnbKSu",
        "colab": {
          "base_uri": "https://localhost:8080/"
        },
        "outputId": "44f4d4b1-ab7f-40c0-b50b-9778685a56b4"
      },
      "execution_count": null,
      "outputs": [
        {
          "output_type": "stream",
          "name": "stdout",
          "text": [
            "Enter a bloody no: 600\n",
            "Enter another bloody no: 0\n",
            "Dumbass\n"
          ]
        }
      ]
    },
    {
      "cell_type": "code",
      "source": [
        "try:\n",
        "  numerator = int(input(\"Enter a bloody no: \"))\n",
        "  denominator = int(input(\"Enter another bloody no: \"))\n",
        "  result = numerator / denominator\n",
        "  print(result)\n",
        "\n",
        "except Exception:\n",
        "  print(\"SOmething went wrong lol\")"
      ],
      "metadata": {
        "colab": {
          "base_uri": "https://localhost:8080/"
        },
        "id": "wmYLv_u3OZ7H",
        "outputId": "9fe2fa0a-7f26-4b66-fc3b-f53a0dead51a"
      },
      "execution_count": null,
      "outputs": [
        {
          "output_type": "stream",
          "name": "stdout",
          "text": [
            "Enter a bloody no: 8\n",
            "Enter another bloody no: 0\n",
            "SOmething went wrong lol\n"
          ]
        }
      ]
    }
  ]
}