{
  "nbformat": 4,
  "nbformat_minor": 0,
  "metadata": {
    "colab": {
      "provenance": [],
      "authorship_tag": "ABX9TyPpUFx5/VVg4SnW5kBIJLvV",
      "include_colab_link": true
    },
    "kernelspec": {
      "name": "python3",
      "display_name": "Python 3"
    },
    "language_info": {
      "name": "python"
    }
  },
  "cells": [
    {
      "cell_type": "markdown",
      "metadata": {
        "id": "view-in-github",
        "colab_type": "text"
      },
      "source": [
        "<a href=\"https://colab.research.google.com/github/Taz-haX/Learning_Python/blob/main/CSE_110_(Lab_8).ipynb\" target=\"_parent\"><img src=\"https://colab.research.google.com/assets/colab-badge.svg\" alt=\"Open In Colab\"/></a>"
      ]
    },
    {
      "cell_type": "code",
      "execution_count": null,
      "metadata": {
        "id": "Wun_CISmsGdG",
        "colab": {
          "base_uri": "https://localhost:8080/"
        },
        "outputId": "0eded20f-e17e-4deb-eb33-db182993d6bf"
      },
      "outputs": [
        {
          "output_type": "stream",
          "name": "stdout",
          "text": [
            "[1, 2, 2, 3, 5, 6, 10, 11, 12, 14, 15, 17, 18, 20, 29]\n"
          ]
        }
      ],
      "source": [
        "# TASK_1\n",
        "# Suppose you have a list named my_list as given below.\n",
        "# my_list = [10, 1, 20, 3, 6, 2, 5, 11, 15, 2, 12, 14, 17, 18, 29]\n",
        "# Now use bubble sort to sort my_list into ascending order.\n",
        "\n",
        "def bubble_sort(x):\n",
        "\n",
        "    for i in range(len(x)):\n",
        "        for j in range(len(x)-i-1):\n",
        "            if x[j]>x[j+1]:\n",
        "                x[j], x[j+1] = x[j+1], x[j]\n",
        "\n",
        "    print(x)\n",
        "\n",
        "my_list = [10, 1, 20, 3, 6, 2, 5, 11, 15, 2, 12, 14, 17, 18, 29]\n",
        "\n",
        "bubble_sort(my_list)"
      ]
    },
    {
      "cell_type": "code",
      "source": [
        "# TASK_2\n",
        "# Suppose you have a list named my_list as given below\n",
        "# my_list= [10, 1, 20, 3, 6, 2, 5, 11, 15, 2, 12, 14, 17, 18, 29]\n",
        "# Now use selection sort to sort my_list into ascending order.\n",
        "\n",
        "def selec_sort(x):\n",
        "\n",
        "    for i in range(len(x)-1):\n",
        "        cur_min = i\n",
        "        for j in range(i+1, len(x)):\n",
        "            if x[j] < x[cur_min]:\n",
        "                cur_min = j\n",
        "        x[i], x[cur_min] = x[cur_min], x[i]\n",
        "\n",
        "my_list = [10, 1, 20, 3, 6, 2, 5, 11, 15, 2, 12, 14, 17, 18, 29]\n",
        "\n",
        "selec_sort(my_list)\n",
        "print(my_list)"
      ],
      "metadata": {
        "colab": {
          "base_uri": "https://localhost:8080/"
        },
        "id": "ougcR4iW9tiy",
        "outputId": "e4cf68ff-292b-4420-9c30-c0e5749b3ff1"
      },
      "execution_count": null,
      "outputs": [
        {
          "output_type": "stream",
          "name": "stdout",
          "text": [
            "[1, 2, 2, 3, 5, 6, 10, 11, 12, 14, 15, 17, 18, 20, 29]\n"
          ]
        }
      ]
    },
    {
      "cell_type": "code",
      "source": [
        "# TASK_3\n",
        "# Suppose you have a list named my_list as given below.\n",
        "# my_list = [10, 1, 20, 3, 6, 2, 5, 11, 15, 2, 12, 14, 17, 18, 29]\n",
        "# Now use any of the two sorting techniques you have used above to sort the list in descending order.\n",
        "\n",
        "def selec_sort(x):\n",
        "    for i in range(len(x) - 1):\n",
        "        cur_max = i\n",
        "        for j in range(i + 1, len(x)):\n",
        "            if x[j] > x[cur_max]:\n",
        "                cur_max = j\n",
        "        x[i], x[cur_max] = x[cur_max], x[i]\n",
        "\n",
        "my_list = [10, 1, 20, 3, 6, 2, 5, 11, 15, 2, 12, 14, 17, 18, 29]\n",
        "\n",
        "selec_sort(my_list)\n",
        "\n",
        "print(my_list)"
      ],
      "metadata": {
        "colab": {
          "base_uri": "https://localhost:8080/"
        },
        "id": "66fvOXnf90IT",
        "outputId": "512ac2e1-a3a5-4a17-a1a1-c57f09ce3a9a"
      },
      "execution_count": null,
      "outputs": [
        {
          "output_type": "stream",
          "name": "stdout",
          "text": [
            "[29, 20, 18, 17, 15, 14, 12, 11, 10, 6, 5, 3, 2, 2, 1]\n"
          ]
        }
      ]
    },
    {
      "cell_type": "code",
      "source": [
        "# TASK_4\n",
        "# Suppose you have a sitting arrangement of the students who will give the final exam in a list. The list contains the last two digits of their student ID as given below.\n",
        "# sitting_list = [10,30,20,70,11,15,22,16,58,100,12,56,70,80]\n",
        "# Now you want to organize the sitting arrangement of the students in your own way.\n",
        "# You decide to sort all the students in the even indices of the list in ascending order and all the students in the odd indices of the list in descending order.\n",
        "# So, write a python program that organizes the list for you in this way.\n",
        "\n",
        "def selec_sort(x):\n",
        "\n",
        "    tot = []\n",
        "    bot = []\n",
        "\n",
        "    for i in range(len(x)):\n",
        "        if x[i]%2==0:\n",
        "            tot.append(x[i])\n",
        "        else:\n",
        "            bot.append(x[i])\n",
        "\n",
        "    for i in range(len(tot)-1):\n",
        "        cur_min = i\n",
        "        for j in range(i+1,len(tot)):\n",
        "            if tot[j] < tot[cur_min]:\n",
        "                cur_min = j\n",
        "        tot[i], tot[cur_min] = tot[cur_min], tot[i]\n",
        "\n",
        "    for i in range(len(bot)-1):\n",
        "        cur_max = i\n",
        "        for j in range(i+1,len(bot)):\n",
        "            if bot[j] > bot[cur_max]:\n",
        "                cur_max = j\n",
        "        bot[i], bot[cur_max] = bot[cur_max], bot[i]\n",
        "\n",
        "    for i in bot:\n",
        "        tot.append(i)\n",
        "\n",
        "    print(tot)\n",
        "\n",
        "sitting_list = [10, 30, 20, 70, 11, 15, 22, 16, 58, 100, 12, 56, 70, 80]\n",
        "\n",
        "selec_sort(sitting_list)"
      ],
      "metadata": {
        "colab": {
          "base_uri": "https://localhost:8080/"
        },
        "id": "2No02Exx_S8B",
        "outputId": "f0d164a7-3455-4863-adf3-290582d7600f"
      },
      "execution_count": null,
      "outputs": [
        {
          "output_type": "stream",
          "name": "stdout",
          "text": [
            "[10, 12, 16, 20, 22, 30, 56, 58, 70, 70, 80, 100, 15, 11]\n"
          ]
        }
      ]
    },
    {
      "cell_type": "code",
      "source": [
        "# TASK_6\n",
        "# Suppose you have a list named my_list as given below.\n",
        "# Your task is to sort the list in ascending order and print the count of numbers that have changed their positions in the process of sorting.\n",
        "# my_list = [4, 2, 3, 1, 6, 5]\n",
        "# The sorted list would be [1, 2, 3, 4, 5, 6] where 4 numbers (4, 1, 6, and 5) have changed their positions.\n",
        "# Therefore our sample output here would be 4.\n",
        "# Please check if your code is working correctly by changing the above list and using the knowledge given here to verify whether your code gives the correct output for all different lists.\n",
        "\n",
        "def bub_sort(x):\n",
        "\n",
        "    bot = 0\n",
        "\n",
        "    for i in range(len(x)-1):\n",
        "        cur_min = i\n",
        "        for j in range(i+1, len(x)):\n",
        "            if x[j] < x[cur_min]:\n",
        "                cur_min = j\n",
        "        x[i], x[cur_min] = x[cur_min], x[i]\n",
        "        bot += 1\n",
        "    print(bot-1)\n",
        "\n",
        "my_list = [4, 2, 3, 1, 6, 5]\n",
        "\n",
        "bub_sort(my_list)\n",
        "\n",
        "print(my_list)"
      ],
      "metadata": {
        "colab": {
          "base_uri": "https://localhost:8080/"
        },
        "id": "VronbwasVj1W",
        "outputId": "6171000b-cfc4-4f0f-b68b-700d093125cc"
      },
      "execution_count": 1,
      "outputs": [
        {
          "output_type": "stream",
          "name": "stdout",
          "text": [
            "4\n",
            "[1, 2, 3, 4, 5, 6]\n"
          ]
        }
      ]
    },
    {
      "cell_type": "code",
      "source": [
        "# TASK_7\n",
        "# Write a python program that takes two lists from the user, merges the two lists, sorts the resulting list, and then finds the median of the elements in the two lists.\n",
        "\n",
        "def bub_sort(x,y):\n",
        "\n",
        "    z = x+y\n",
        "\n",
        "    for i in range(len(z)-1):\n",
        "        cur_min = i\n",
        "        for j in range(i+1, len(z)):\n",
        "            if z[j] < z[cur_min]:\n",
        "                cur_min = j\n",
        "        z[i], z[cur_min] = z[cur_min], z[i]\n",
        "\n",
        "    print(z)\n",
        "\n",
        "    if len(z)%2!=0:\n",
        "        tot = (len(z)//2)\n",
        "        print(z[tot])\n",
        "    else:\n",
        "        bot = len(z)//2\n",
        "        hob = bot/bot-1\n",
        "        print(hob)\n",
        "\n",
        "list_one = [1, 2, 1, 4]\n",
        "list_two = [5, 4, 1]\n",
        "\n",
        "bub_sort(list_one, list_two)"
      ],
      "metadata": {
        "colab": {
          "base_uri": "https://localhost:8080/"
        },
        "id": "xP4R5hCcVvju",
        "outputId": "1aeec536-e134-44dc-888b-8d7a2a2b97c6"
      },
      "execution_count": 3,
      "outputs": [
        {
          "output_type": "stream",
          "name": "stdout",
          "text": [
            "[1, 1, 1, 2, 4, 4, 5]\n",
            "2\n"
          ]
        }
      ]
    },
    {
      "cell_type": "code",
      "source": [
        "# TASK_8\n",
        "# Write a python program that takes a list from a user containing both positive and negative numbers.\n",
        "# The program then finds two pairs of values whose summation is closest to zero.\n",
        "\n",
        "def selec_sort(x):\n",
        "    bor = []\n",
        "\n",
        "\n",
        "\n",
        "    for i in range(len(x)-1):\n",
        "        cur_min = x[i]+x[i+1]\n",
        "        for j in range(len(x)):\n",
        "            if j == len(x)-1:\n",
        "                pass\n",
        "            else:\n",
        "                if x[j]+x[j+1] == 0 or x[j]+x[j+1] < cur_min:\n",
        "                    if cur_min !=0:\n",
        "                        cur_min = x[j] + x[j + 1]\n",
        "                        bor.clear()\n",
        "                        bor.append(x[j])\n",
        "                        bor.append(x[j + 1])\n",
        "                    else:\n",
        "                        pass\n",
        "    print(bor)\n",
        "\n",
        "\n",
        "list_one = [-10, 15, 2, 4, -4, 7, -8]\n",
        "\n",
        "selec_sort(list_one)\n",
        "print(list_one)"
      ],
      "metadata": {
        "colab": {
          "base_uri": "https://localhost:8080/"
        },
        "id": "HEdcrppvjU3O",
        "outputId": "c2ff5cef-d76f-47e7-dc2f-cd7154f416c5"
      },
      "execution_count": 5,
      "outputs": [
        {
          "output_type": "stream",
          "name": "stdout",
          "text": [
            "[4, -4]\n",
            "[-10, 15, 2, 4, -4, 7, -8]\n"
          ]
        }
      ]
    },
    {
      "cell_type": "code",
      "source": [
        "# TASK_9\n",
        "# You will be given a list of tuples where each tuple indicates a point i.e. (x, y) in a 2-dimensional coordinate system.\n",
        "# You need to write a python program to find the minimum distance and the point that is closest to the origin i.e. (0,0)\n",
        "\n",
        "import math\n",
        "\n",
        "def tupe(x):\n",
        "    doc = 0\n",
        "    hobs = []\n",
        "    tot = []\n",
        "\n",
        "    for i in x:\n",
        "        b = list(i)\n",
        "        for j in b:\n",
        "            doc += j**2\n",
        "        jol = math.sqrt(doc)\n",
        "        hobs.append(jol)\n",
        "        doc = 0\n",
        "\n",
        "    for i in range(len(hobs)-1):\n",
        "        cur_min = i\n",
        "        for j in range(i+1, len(hobs)):\n",
        "            if hobs[j] < hobs[cur_min]:\n",
        "                cur_min = j\n",
        "        hobs[i], hobs[cur_min] = hobs[cur_min], hobs[i]\n",
        "\n",
        "\n",
        "    print(hobs[0])\n",
        "    print(hobs)\n",
        "\n",
        "points = [(1,7), (4,5), (-1,7), (-2,0), (1,1), (5,-1)]\n",
        "\n",
        "tupe(points)"
      ],
      "metadata": {
        "colab": {
          "base_uri": "https://localhost:8080/"
        },
        "id": "-sEEuIdAsvOT",
        "outputId": "9f3d3081-077f-4bf9-82cd-ed6f0cfb547d"
      },
      "execution_count": 13,
      "outputs": [
        {
          "output_type": "stream",
          "name": "stdout",
          "text": [
            "1.4142135623730951\n",
            "[1.4142135623730951, 2.0, 5.0990195135927845, 6.4031242374328485, 7.0710678118654755, 7.0710678118654755]\n"
          ]
        }
      ]
    }
  ]
}