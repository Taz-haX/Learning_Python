{
  "nbformat": 4,
  "nbformat_minor": 0,
  "metadata": {
    "colab": {
      "provenance": [],
      "authorship_tag": "ABX9TyOCNpYrgCp0vNIFc1FkJ73O",
      "include_colab_link": true
    },
    "kernelspec": {
      "name": "python3",
      "display_name": "Python 3"
    },
    "language_info": {
      "name": "python"
    }
  },
  "cells": [
    {
      "cell_type": "markdown",
      "metadata": {
        "id": "view-in-github",
        "colab_type": "text"
      },
      "source": [
        "<a href=\"https://colab.research.google.com/github/Taz-haX/Learning_Python/blob/main/CSE_110_(Lab_8).ipynb\" target=\"_parent\"><img src=\"https://colab.research.google.com/assets/colab-badge.svg\" alt=\"Open In Colab\"/></a>"
      ]
    },
    {
      "cell_type": "code",
      "execution_count": null,
      "metadata": {
        "id": "Wun_CISmsGdG",
        "colab": {
          "base_uri": "https://localhost:8080/"
        },
        "outputId": "0eded20f-e17e-4deb-eb33-db182993d6bf"
      },
      "outputs": [
        {
          "output_type": "stream",
          "name": "stdout",
          "text": [
            "[1, 2, 2, 3, 5, 6, 10, 11, 12, 14, 15, 17, 18, 20, 29]\n"
          ]
        }
      ],
      "source": [
        "# TASK_1\n",
        "# Suppose you have a list named my_list as given below.\n",
        "# my_list = [10, 1, 20, 3, 6, 2, 5, 11, 15, 2, 12, 14, 17, 18, 29]\n",
        "# Now use bubble sort to sort my_list into ascending order.\n",
        "\n",
        "def bubble_sort(x):\n",
        "\n",
        "    for i in range(len(x)):\n",
        "        for j in range(len(x)-i-1):\n",
        "            if x[j]>x[j+1]:\n",
        "                x[j], x[j+1] = x[j+1], x[j]\n",
        "\n",
        "    print(x)\n",
        "\n",
        "my_list = [10, 1, 20, 3, 6, 2, 5, 11, 15, 2, 12, 14, 17, 18, 29]\n",
        "\n",
        "bubble_sort(my_list)"
      ]
    },
    {
      "cell_type": "code",
      "source": [
        "# TASK_2\n",
        "# Suppose you have a list named my_list as given below\n",
        "# my_list= [10, 1, 20, 3, 6, 2, 5, 11, 15, 2, 12, 14, 17, 18, 29]\n",
        "# Now use selection sort to sort my_list into ascending order.\n",
        "\n",
        "def selec_sort(x):\n",
        "\n",
        "    for i in range(len(x)-1):\n",
        "        cur_min = i\n",
        "        for j in range(i+1, len(x)):\n",
        "            if x[j] < x[cur_min]:\n",
        "                cur_min = j\n",
        "        x[i], x[cur_min] = x[cur_min], x[i]\n",
        "\n",
        "my_list = [10, 1, 20, 3, 6, 2, 5, 11, 15, 2, 12, 14, 17, 18, 29]\n",
        "\n",
        "selec_sort(my_list)\n",
        "print(my_list)"
      ],
      "metadata": {
        "colab": {
          "base_uri": "https://localhost:8080/"
        },
        "id": "ougcR4iW9tiy",
        "outputId": "e4cf68ff-292b-4420-9c30-c0e5749b3ff1"
      },
      "execution_count": null,
      "outputs": [
        {
          "output_type": "stream",
          "name": "stdout",
          "text": [
            "[1, 2, 2, 3, 5, 6, 10, 11, 12, 14, 15, 17, 18, 20, 29]\n"
          ]
        }
      ]
    },
    {
      "cell_type": "code",
      "source": [
        "# TASK_3\n",
        "# Suppose you have a list named my_list as given below.\n",
        "# my_list = [10, 1, 20, 3, 6, 2, 5, 11, 15, 2, 12, 14, 17, 18, 29]\n",
        "# Now use any of the two sorting techniques you have used above to sort the list in descending order.\n",
        "\n",
        "def selec_sort(x):\n",
        "    for i in range(len(x) - 1):\n",
        "        cur_max = i\n",
        "        for j in range(i + 1, len(x)):\n",
        "            if x[j] > x[cur_max]:\n",
        "                cur_max = j\n",
        "        x[i], x[cur_max] = x[cur_max], x[i]\n",
        "\n",
        "my_list = [10, 1, 20, 3, 6, 2, 5, 11, 15, 2, 12, 14, 17, 18, 29]\n",
        "\n",
        "selec_sort(my_list)\n",
        "\n",
        "print(my_list)"
      ],
      "metadata": {
        "colab": {
          "base_uri": "https://localhost:8080/"
        },
        "id": "66fvOXnf90IT",
        "outputId": "512ac2e1-a3a5-4a17-a1a1-c57f09ce3a9a"
      },
      "execution_count": null,
      "outputs": [
        {
          "output_type": "stream",
          "name": "stdout",
          "text": [
            "[29, 20, 18, 17, 15, 14, 12, 11, 10, 6, 5, 3, 2, 2, 1]\n"
          ]
        }
      ]
    },
    {
      "cell_type": "code",
      "source": [
        "# TASK_4\n",
        "# Suppose you have a sitting arrangement of the students who will give the final exam in a list. The list contains the last two digits of their student ID as given below.\n",
        "# sitting_list = [10,30,20,70,11,15,22,16,58,100,12,56,70,80]\n",
        "# Now you want to organize the sitting arrangement of the students in your own way.\n",
        "# You decide to sort all the students in the even indices of the list in ascending order and all the students in the odd indices of the list in descending order.\n",
        "# So, write a python program that organizes the list for you in this way.\n",
        "\n",
        "def selec_sort(x):\n",
        "\n",
        "    tot = []\n",
        "    bot = []\n",
        "\n",
        "    for i in range(len(x)):\n",
        "        if x[i]%2==0:\n",
        "            tot.append(x[i])\n",
        "        else:\n",
        "            bot.append(x[i])\n",
        "\n",
        "    for i in range(len(tot)-1):\n",
        "        cur_min = i\n",
        "        for j in range(i+1,len(tot)):\n",
        "            if tot[j] < tot[cur_min]:\n",
        "                cur_min = j\n",
        "        tot[i], tot[cur_min] = tot[cur_min], tot[i]\n",
        "\n",
        "    for i in range(len(bot)-1):\n",
        "        cur_max = i\n",
        "        for j in range(i+1,len(bot)):\n",
        "            if bot[j] > bot[cur_max]:\n",
        "                cur_max = j\n",
        "        bot[i], bot[cur_max] = bot[cur_max], bot[i]\n",
        "\n",
        "    for i in bot:\n",
        "        tot.append(i)\n",
        "\n",
        "    print(tot)\n",
        "\n",
        "sitting_list = [10, 30, 20, 70, 11, 15, 22, 16, 58, 100, 12, 56, 70, 80]\n",
        "\n",
        "selec_sort(sitting_list)"
      ],
      "metadata": {
        "colab": {
          "base_uri": "https://localhost:8080/"
        },
        "id": "2No02Exx_S8B",
        "outputId": "f0d164a7-3455-4863-adf3-290582d7600f"
      },
      "execution_count": null,
      "outputs": [
        {
          "output_type": "stream",
          "name": "stdout",
          "text": [
            "[10, 12, 16, 20, 22, 30, 56, 58, 70, 70, 80, 100, 15, 11]\n"
          ]
        }
      ]
    }
  ]
}