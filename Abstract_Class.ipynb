{
  "nbformat": 4,
  "nbformat_minor": 0,
  "metadata": {
    "colab": {
      "provenance": [],
      "authorship_tag": "ABX9TyPUAvp1mAhY/NVrBU5rFPxd",
      "include_colab_link": true
    },
    "kernelspec": {
      "name": "python3",
      "display_name": "Python 3"
    },
    "language_info": {
      "name": "python"
    }
  },
  "cells": [
    {
      "cell_type": "markdown",
      "metadata": {
        "id": "view-in-github",
        "colab_type": "text"
      },
      "source": [
        "<a href=\"https://colab.research.google.com/github/Taz-haX/Learning_Python/blob/main/Abstract_Class.ipynb\" target=\"_parent\"><img src=\"https://colab.research.google.com/assets/colab-badge.svg\" alt=\"Open In Colab\"/></a>"
      ]
    },
    {
      "cell_type": "code",
      "execution_count": 1,
      "metadata": {
        "colab": {
          "base_uri": "https://localhost:8080/"
        },
        "id": "uOd06VdQ2PEM",
        "outputId": "0dfb9dab-f980-4fe0-9d06-3b6253fc19a0"
      },
      "outputs": [
        {
          "output_type": "stream",
          "name": "stdout",
          "text": [
            "Override to pass\n",
            "=============\n",
            "ERROR: Abstract class tsk\n"
          ]
        }
      ],
      "source": [
        "from abc import ABC, abstractmethod\n",
        "\n",
        "class Idiat(ABC):\n",
        "    @abstractmethod\n",
        "    def met(self):\n",
        "        pass\n",
        "\n",
        "class Donkey(Idiat):\n",
        "    def met(self):\n",
        "        print('Override to pass')\n",
        "\n",
        "b1 = Donkey()\n",
        "b1.met()\n",
        "print('=============')\n",
        "try:\n",
        "    a1 = Idiat()\n",
        "except TypeError:\n",
        "    print('ERROR: Abstract class tsk')"
      ]
    }
  ]
}