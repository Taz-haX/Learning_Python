{
  "nbformat": 4,
  "nbformat_minor": 0,
  "metadata": {
    "colab": {
      "provenance": [],
      "authorship_tag": "ABX9TyOUAQOlTcE2KIWkhd7dcBdI",
      "include_colab_link": true
    },
    "kernelspec": {
      "name": "python3",
      "display_name": "Python 3"
    },
    "language_info": {
      "name": "python"
    }
  },
  "cells": [
    {
      "cell_type": "markdown",
      "metadata": {
        "id": "view-in-github",
        "colab_type": "text"
      },
      "source": [
        "<a href=\"https://colab.research.google.com/github/Taz-haX/Learning_Python/blob/main/CSE_111_(Lab_3).ipynb\" target=\"_parent\"><img src=\"https://colab.research.google.com/assets/colab-badge.svg\" alt=\"Open In Colab\"/></a>"
      ]
    },
    {
      "cell_type": "code",
      "execution_count": 3,
      "metadata": {
        "colab": {
          "base_uri": "https://localhost:8080/"
        },
        "id": "8G8hxIi0Z_LT",
        "outputId": "6a779f81-7101-4c7a-efac-49b004460b10"
      },
      "outputs": [
        {
          "output_type": "stream",
          "name": "stdout",
          "text": [
            "Integer\n",
            "1234\n",
            "=====================\n",
            "String\n",
            "Hello\n",
            "=====================\n",
            "Float\n",
            "4.0\n"
          ]
        }
      ],
      "source": [
        "# Write a class that for running the following codes:\n",
        "# [You are not allowed to change the code below]\n",
        "#\n",
        "# Write your class code here\n",
        "#\n",
        "# data_type1 = DataType('Integer', 1234)\n",
        "# print(data_type1.name)\n",
        "# print(data_type1.value)\n",
        "# print('=====================')\n",
        "# data_type2 = DataType('String', 'Hello')\n",
        "# print(data_type2.name)\n",
        "# print(data_type2.value)\n",
        "# print('=====================')\n",
        "# data_type3 = DataType('Float', 4.0)\n",
        "# print(data_type3.name)\n",
        "# print(data_type3.value)\n",
        "\n",
        "class DataType:\n",
        "    def __init__(self, name, value):\n",
        "        self.name = name\n",
        "        self.value = value\n",
        "\n",
        "data_type1 = DataType('Integer', 1234)\n",
        "print(data_type1.name)\n",
        "print(data_type1.value)\n",
        "print('=====================')\n",
        "data_type2 = DataType('String', 'Hello')\n",
        "print(data_type2.name)\n",
        "print(data_type2.value)\n",
        "print('=====================')\n",
        "data_type3 = DataType('Float', 4.0)\n",
        "print(data_type3.name)\n",
        "print(data_type3.value)"
      ]
    },
    {
      "cell_type": "code",
      "source": [
        "# Design a class called Flower with the instance variables so that after executing the\n",
        "# following line of code the desired result shown in the output box will be printed.\n",
        "# [You are not allowed to change the code below]\n",
        "\n",
        "# #Write your class code here\n",
        "\n",
        "# flower1 = Flower()\n",
        "# flower1.name=\"Rose\"\n",
        "# flower1.color=\"Red\"\n",
        "# flower1.num_of_petal=6\n",
        "# print(\"Name of this flower:\", flower1.name)\n",
        "# print(\"Color of this flower:\",flower1.color)\n",
        "# print(\"Number of petal:\",flower1.num_of_petal)\n",
        "# print(“=====================”)\n",
        "# flower2 = Flower()\n",
        "# flower2.name=\"Orchid\"\n",
        "# flower2.color=\"Purple\"\n",
        "# flower2.num_of_petal=4\n",
        "# print(\"Name of this flower:\",flower2.name)\n",
        "# print(\"Color of this flower:\",flower2.color)\n",
        "# print (\"Number of petal:\",flower2. num_of_petal)\n",
        "\n",
        "class Flower:\n",
        "    def name(self, nam):\n",
        "        self.nam = nam\n",
        "    def color(self, col):\n",
        "        self.col = col\n",
        "    def num_of_petal(self, num):\n",
        "        self.num = num\n",
        "\n",
        "flower1 = Flower()\n",
        "flower1.name=\"Rose\"\n",
        "flower1.color=\"Red\"\n",
        "flower1.num_of_petal=6\n",
        "print(\"Name of this flower:\", flower1.name)\n",
        "print(\"Color of this flower:\",flower1.color)\n",
        "print(\"Number of petal:\",flower1.num_of_petal)\n",
        "print('=====================')\n",
        "flower2 = Flower()\n",
        "flower2.name=\"Orchid\"\n",
        "flower2.color=\"Purple\"\n",
        "flower2.num_of_petal=4\n",
        "print(\"Name of this flower:\",flower2.name)\n",
        "print(\"Color of this flower:\",flower2.color)\n",
        "print (\"Number of petal:\",flower2. num_of_petal)"
      ],
      "metadata": {
        "colab": {
          "base_uri": "https://localhost:8080/"
        },
        "id": "Mvacsx5jaa8T",
        "outputId": "12bf4653-5d7d-49db-c1fe-fb63dd252585"
      },
      "execution_count": 4,
      "outputs": [
        {
          "output_type": "stream",
          "name": "stdout",
          "text": [
            "Name of this flower: Rose\n",
            "Color of this flower: Red\n",
            "Number of petal: 6\n",
            "=====================\n",
            "Name of this flower: Orchid\n",
            "Color of this flower: Purple\n",
            "Number of petal: 4\n"
          ]
        }
      ]
    },
    {
      "cell_type": "code",
      "source": [],
      "metadata": {
        "id": "tE6Gjm0Le2KM"
      },
      "execution_count": null,
      "outputs": []
    }
  ]
}