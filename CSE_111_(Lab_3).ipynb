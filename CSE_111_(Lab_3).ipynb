{
  "nbformat": 4,
  "nbformat_minor": 0,
  "metadata": {
    "colab": {
      "provenance": [],
      "authorship_tag": "ABX9TyNbrO9v+4imGh4uZ6Mgd9KJ",
      "include_colab_link": true
    },
    "kernelspec": {
      "name": "python3",
      "display_name": "Python 3"
    },
    "language_info": {
      "name": "python"
    }
  },
  "cells": [
    {
      "cell_type": "markdown",
      "metadata": {
        "id": "view-in-github",
        "colab_type": "text"
      },
      "source": [
        "<a href=\"https://colab.research.google.com/github/Taz-haX/Learning_Python/blob/main/CSE_111_(Lab_3).ipynb\" target=\"_parent\"><img src=\"https://colab.research.google.com/assets/colab-badge.svg\" alt=\"Open In Colab\"/></a>"
      ]
    },
    {
      "cell_type": "code",
      "execution_count": 3,
      "metadata": {
        "colab": {
          "base_uri": "https://localhost:8080/"
        },
        "id": "8G8hxIi0Z_LT",
        "outputId": "6a779f81-7101-4c7a-efac-49b004460b10"
      },
      "outputs": [
        {
          "output_type": "stream",
          "name": "stdout",
          "text": [
            "Integer\n",
            "1234\n",
            "=====================\n",
            "String\n",
            "Hello\n",
            "=====================\n",
            "Float\n",
            "4.0\n"
          ]
        }
      ],
      "source": [
        "# Write a class that for running the following codes:\n",
        "# [You are not allowed to change the code below]\n",
        "#\n",
        "# Write your class code here\n",
        "#\n",
        "# data_type1 = DataType('Integer', 1234)\n",
        "# print(data_type1.name)\n",
        "# print(data_type1.value)\n",
        "# print('=====================')\n",
        "# data_type2 = DataType('String', 'Hello')\n",
        "# print(data_type2.name)\n",
        "# print(data_type2.value)\n",
        "# print('=====================')\n",
        "# data_type3 = DataType('Float', 4.0)\n",
        "# print(data_type3.name)\n",
        "# print(data_type3.value)\n",
        "\n",
        "class DataType:\n",
        "    def __init__(self, name, value):\n",
        "        self.name = name\n",
        "        self.value = value\n",
        "\n",
        "data_type1 = DataType('Integer', 1234)\n",
        "print(data_type1.name)\n",
        "print(data_type1.value)\n",
        "print('=====================')\n",
        "data_type2 = DataType('String', 'Hello')\n",
        "print(data_type2.name)\n",
        "print(data_type2.value)\n",
        "print('=====================')\n",
        "data_type3 = DataType('Float', 4.0)\n",
        "print(data_type3.name)\n",
        "print(data_type3.value)"
      ]
    },
    {
      "cell_type": "code",
      "source": [
        "# Design a class called Flower with the instance variables so that after executing the\n",
        "# following line of code the desired result shown in the output box will be printed.\n",
        "# [You are not allowed to change the code below]\n",
        "\n",
        "# #Write your class code here\n",
        "\n",
        "# flower1 = Flower()\n",
        "# flower1.name=\"Rose\"\n",
        "# flower1.color=\"Red\"\n",
        "# flower1.num_of_petal=6\n",
        "# print(\"Name of this flower:\", flower1.name)\n",
        "# print(\"Color of this flower:\",flower1.color)\n",
        "# print(\"Number of petal:\",flower1.num_of_petal)\n",
        "# print(“=====================”)\n",
        "# flower2 = Flower()\n",
        "# flower2.name=\"Orchid\"\n",
        "# flower2.color=\"Purple\"\n",
        "# flower2.num_of_petal=4\n",
        "# print(\"Name of this flower:\",flower2.name)\n",
        "# print(\"Color of this flower:\",flower2.color)\n",
        "# print (\"Number of petal:\",flower2. num_of_petal)\n",
        "\n",
        "class Flower:\n",
        "    def name(self, nam):\n",
        "        self.nam = nam\n",
        "    def color(self, col):\n",
        "        self.col = col\n",
        "    def num_of_petal(self, num):\n",
        "        self.num = num\n",
        "\n",
        "flower1 = Flower()\n",
        "flower1.name=\"Rose\"\n",
        "flower1.color=\"Red\"\n",
        "flower1.num_of_petal=6\n",
        "print(\"Name of this flower:\", flower1.name)\n",
        "print(\"Color of this flower:\",flower1.color)\n",
        "print(\"Number of petal:\",flower1.num_of_petal)\n",
        "print('=====================')\n",
        "flower2 = Flower()\n",
        "flower2.name=\"Orchid\"\n",
        "flower2.color=\"Purple\"\n",
        "flower2.num_of_petal=4\n",
        "print(\"Name of this flower:\",flower2.name)\n",
        "print(\"Color of this flower:\",flower2.color)\n",
        "print (\"Number of petal:\",flower2. num_of_petal)"
      ],
      "metadata": {
        "colab": {
          "base_uri": "https://localhost:8080/"
        },
        "id": "Mvacsx5jaa8T",
        "outputId": "12bf4653-5d7d-49db-c1fe-fb63dd252585"
      },
      "execution_count": 4,
      "outputs": [
        {
          "output_type": "stream",
          "name": "stdout",
          "text": [
            "Name of this flower: Rose\n",
            "Color of this flower: Red\n",
            "Number of petal: 6\n",
            "=====================\n",
            "Name of this flower: Orchid\n",
            "Color of this flower: Purple\n",
            "Number of petal: 4\n"
          ]
        }
      ]
    },
    {
      "cell_type": "code",
      "source": [
        "# A class has been designed for this question. Solve the questions to get the desired\n",
        "# result as shown in the output box.\n",
        "# [You are not allowed to change the code below]\n",
        "# class Wadiya():\n",
        "# def __init__(self):\n",
        "#  self.name = 'Aladeen'\n",
        "#  self.designation = 'President Prime Minister Admiral General'\n",
        "#  self.num_of_wife = 100\n",
        "#  self.dictator = True\n",
        "# #Write your code for subtask 1, 2, 3 and 4 here\n",
        "# Output:\n",
        "# Part 1:\n",
        "# Name of President: Aladeen\n",
        "# Designation: President Prime Minister Admiral General\n",
        "# Number of wife: 100\n",
        "# Is he/she a dictator: True\n",
        "# Part 2:\n",
        "# Name of President: Donald Trump\n",
        "# Designation: President\n",
        "# Number of wife: 1\n",
        "# Is he/she a dictator: False\n",
        "\n",
        "class Wadiya:\n",
        "    def __init__(self):\n",
        "        self.name = 'Aladeen'\n",
        "        self.designation = 'President Prime Minister Admiral General'\n",
        "        self.num_of_wife = 100\n",
        "        self.dictator = True\n",
        "\n",
        "aladin1 = Wadiya()\n",
        "\n",
        "print(str(aladin1.name))\n",
        "print(str(aladin1.designation))\n",
        "print(str(aladin1.num_of_wife))\n",
        "print(str(aladin1.dictator))\n",
        "\n",
        "print('===================')\n",
        "\n",
        "trum = Wadiya()\n",
        "trum.name = 'Trump'\n",
        "trum.designation = 'President'\n",
        "trum.num_of_wife = 1\n",
        "trum.dictator = False\n",
        "\n",
        "print(str(trum.name))\n",
        "print(str(trum.designation))\n",
        "print(str(trum.num_of_wife))\n",
        "print(str(trum.dictator))"
      ],
      "metadata": {
        "colab": {
          "base_uri": "https://localhost:8080/"
        },
        "id": "tE6Gjm0Le2KM",
        "outputId": "bfad8f2f-cdd9-4b83-cd68-de268a738862"
      },
      "execution_count": 5,
      "outputs": [
        {
          "output_type": "stream",
          "name": "stdout",
          "text": [
            "Aladeen\n",
            "President Prime Minister Admiral General\n",
            "100\n",
            "True\n",
            "===================\n",
            "Trump\n",
            "President\n",
            "1\n",
            "False\n"
          ]
        }
      ]
    },
    {
      "cell_type": "code",
      "source": [
        "# Design a class Joker with parameterized constructor so that the following line of code\n",
        "# prints the result shown in the output box.\n",
        "# [You are not allowed to change the code below]\n",
        "# #Write your class code here\n",
        "# j1 = Joker('Heath Ledger', 'Mind Game', False)\n",
        "# print(j1.name)\n",
        "# print(j1.power)\n",
        "# print(j1.is_he_psycho)\n",
        "# print(“=====================”)\n",
        "# j2 = Joker('Joaquin Phoenix', 'Laughing out Loud', True)\n",
        "# print(j2.name)\n",
        "# print(j2.power)\n",
        "# print(j2.is_he_psycho)\n",
        "# print(“=====================”)\n",
        "# if j1 == j2:\n",
        "#  print('same')\n",
        "# else:\n",
        "#  print('different')\n",
        "# j2.name = 'Heath Ledger'\n",
        "# if j1.name == j2.name:\n",
        "#  print('same')\n",
        "# else:\n",
        "#  print('different')\n",
        "\n",
        "class Joker:\n",
        "    def __init__(self, name, power, is_he_psycho):\n",
        "        self.name = name\n",
        "        self.power = power\n",
        "        self.is_he_psycho = is_he_psycho\n",
        "\n",
        "j1 = Joker('Heath Ledger', 'Mind Game', False)\n",
        "print(j1.name)\n",
        "print(j1.power)\n",
        "print(j1.is_he_psycho)\n",
        "print('===========================')\n",
        "j2 = Joker('Joaquin Phoenix', 'Laughing out Loud', True)\n",
        "print(j2.name)\n",
        "print(j2.power)\n",
        "print(j2.is_he_psycho)\n",
        "print('===========================')\n",
        "if j1 == j2:\n",
        " print('same')\n",
        "else:\n",
        " print('different')\n",
        "j2.name = 'Heath Ledger'\n",
        "if j1.name == j2.name:\n",
        " print('same')\n",
        "else:\n",
        " print('different')"
      ],
      "metadata": {
        "colab": {
          "base_uri": "https://localhost:8080/"
        },
        "id": "Y9LOxV-9o99E",
        "outputId": "594a889e-fe96-42f2-f25e-6a4fb38a8292"
      },
      "execution_count": 6,
      "outputs": [
        {
          "output_type": "stream",
          "name": "stdout",
          "text": [
            "Heath Ledger\n",
            "Mind Game\n",
            "False\n",
            "===========================\n",
            "Joaquin Phoenix\n",
            "Laughing out Loud\n",
            "True\n",
            "===========================\n",
            "different\n",
            "same\n"
          ]
        }
      ]
    },
    {
      "cell_type": "code",
      "source": [
        "# Design a class called Pokemon using a parameterized constructor so that after\n",
        "# executing the following line of code the desired result shown in the output box will be\n",
        "# printed. First object along with print has been done for you, you also need to create\n",
        "# other objects and print accordingly to get the output correctly.\n",
        "# [You are not allowed to change the code below]\n",
        "# #Write your code for class here\n",
        "# team_pika = Pokemon('pikachu', 'charmander', 90, 60, 10)\n",
        "# print('=======Team 1=======')\n",
        "# print('Pokemon 1:',team_pika.pokemon1_name,\n",
        "# team_pika.pokemon1_power)\n",
        "# print('Pokemon 2:',team_pika.pokemon2_name,\n",
        "# team_pika.pokemon2_power)\n",
        "# pika_combined_power = (team_pika.pokemon1_power +\n",
        "# team_pika.pokemon2_power) * team_pika.damage_rate\n",
        "# print('Combined Power:', pika_combined_power)\n",
        "\n",
        "class Pokemon:\n",
        "    def __init__(self, pokemon1_name, pokemon2_name, pokemon1_power, pokemon2_power, damage_rate):\n",
        "        self.pokemon1_name = pokemon1_name\n",
        "        self.pokemon2_name = pokemon2_name\n",
        "        self.pokemon1_power = pokemon1_power\n",
        "        self.pokemon2_power = pokemon2_power\n",
        "        self.damage_rate = damage_rate\n",
        "\n",
        "team_pika = Pokemon('pikachu', 'charmander', 90, 60, 10)\n",
        "print('=======Team 1=======')\n",
        "print('Pokemon 1:',team_pika.pokemon1_name, team_pika.pokemon1_power)\n",
        "print('Pokemon 2:',team_pika.pokemon2_name,\n",
        "team_pika.pokemon2_power)\n",
        "pika_combined_power = (team_pika.pokemon1_power +\n",
        "team_pika.pokemon2_power) * team_pika.damage_rate\n",
        "print('Combined Power:', pika_combined_power)"
      ],
      "metadata": {
        "colab": {
          "base_uri": "https://localhost:8080/"
        },
        "id": "1aft55uDrRLu",
        "outputId": "ff77ca83-7c8f-4f0e-8a2d-4a72010e6fa9"
      },
      "execution_count": 7,
      "outputs": [
        {
          "output_type": "stream",
          "name": "stdout",
          "text": [
            "=======Team 1=======\n",
            "Pokemon 1: pikachu 90\n",
            "Pokemon 2: charmander 60\n",
            "Combined Power: 1500\n"
          ]
        }
      ]
    },
    {
      "cell_type": "code",
      "source": [
        "# Design the Player class so that the code gives the expected output.\n",
        "# [You are not allowed to change the code below]\n",
        "# # Write Your Class Code Here\n",
        "# player1 = Player()\n",
        "# player1.name = \"Ronaldo\"\n",
        "# player1.jersy_number = 9\n",
        "# player1.position = \"Striker\"\n",
        "# print(\"Name of the Player:\", player1.name)\n",
        "# print(\"Jersey Number of player:\", player1.jersy_number)\n",
        "# print(\"Position of player:\", player1.position)\n",
        "# print(“===========================”)\n",
        "# player2 = Player()\n",
        "# player2.name = \"Neuer\"\n",
        "# player2.jersy_number = 1\n",
        "# player2.position = \"Goal Keeper\"\n",
        "# print(\"Name of the player:\", player2.name)\n",
        "# print(\"Jersey Number of player:\", player2.jersy_number)\n",
        "# print(\"Position of player:\", player2.position)\n",
        "\n",
        "class Player:\n",
        "    def numb(self, jersey_number):\n",
        "        self.jersey_number = jersey_number\n",
        "    def namwae(self, name):\n",
        "        self.name = name\n",
        "    def pos(self, position):\n",
        "        self.position = position\n",
        "\n",
        "player1 = Player()\n",
        "player1.name = \"Ronaldo\"\n",
        "player1.jersy_number = 9\n",
        "player1.position = \"Striker\"\n",
        "print(\"Name of the Player:\", player1.name)\n",
        "print(\"Jersey Number of player:\", player1.jersy_number)\n",
        "print(\"Position of player:\", player1.position)\n",
        "print('==================================')\n",
        "player2 = Player()\n",
        "player2.name = \"Neuer\"\n",
        "player2.jersy_number = 1\n",
        "player2.position = \"Goal Keeper\"\n",
        "print(\"Name of the player:\", player2.name)\n",
        "print(\"Jersey Number of player:\", player2.jersy_number)\n",
        "print(\"Position of player:\", player2.position)\n"
      ],
      "metadata": {
        "colab": {
          "base_uri": "https://localhost:8080/"
        },
        "id": "rVgstJ3O5QSg",
        "outputId": "0d7a94b2-4b4a-4839-91ee-55e74b91c520"
      },
      "execution_count": 8,
      "outputs": [
        {
          "output_type": "stream",
          "name": "stdout",
          "text": [
            "Name of the Player: Ronaldo\n",
            "Jersey Number of player: 9\n",
            "Position of player: Striker\n",
            "==================================\n",
            "Name of the player: Neuer\n",
            "Jersey Number of player: 1\n",
            "Position of player: Goal Keeper\n"
          ]
        }
      ]
    },
    {
      "cell_type": "code",
      "source": [
        "# Design the Country class so that the code gives the expected output.\n",
        "# # Write your Class Code here\n",
        "# country = Country()\n",
        "# print('Name:',country.name)\n",
        "# print('Continent:',country.continent)\n",
        "# print('Capital:',country.capital)\n",
        "# print('Fifa Ranking:',country.fifa_ranking)\n",
        "# print('===================')\n",
        "# country.name = “Belgium”\n",
        "# country.continent = “Europe”\n",
        "# country.capital = “Brussels”\n",
        "# country.fifa_ranking = 1\n",
        "# print('Name:',country.name)\n",
        "# print('Continent:',country.continent)\n",
        "# print('Capital:',country.capital)\n",
        "# print('Fifa Ranking:',country.fifa_ranking)\n",
        "# Output:\n",
        "# Name: Bangladesh\n",
        "# Continent: Asia\n",
        "# Capital: Dhaka\n",
        "# Fifa Ranking: 187\n",
        "# ===================\n",
        "# Name: Belgium\n",
        "# Continent: Europe\n",
        "# Capital: Brussels\n",
        "# Fifa Ranking: 1\n",
        "\n",
        "class Country:\n",
        "\n",
        "    def __init__(self):\n",
        "        self.name = 'Bangladesh'\n",
        "        self.continent = 'Asia'\n",
        "        self.capital = 'Dhaka'\n",
        "        self.fifa_ranking = 187\n",
        "\n",
        "country = Country()\n",
        "print('Name:',country.name)\n",
        "print('Continent:',country.continent)\n",
        "print('Capital:',country.capital)\n",
        "print('Fifa Ranking:',country.fifa_ranking)\n",
        "print('===================')\n",
        "country.name = 'Belgium'\n",
        "country.continent = 'Europe'\n",
        "country.capital = 'Brussels'\n",
        "country.fifa_ranking = 1\n",
        "print('Name:',country.name)\n",
        "print('Continent:',country.continent)\n",
        "print('Capital:',country.capital)\n",
        "print('Fifa Ranking:',country.fifa_ranking)"
      ],
      "metadata": {
        "colab": {
          "base_uri": "https://localhost:8080/"
        },
        "id": "gI2IR_ix8Wma",
        "outputId": "de95e928-37bf-4738-a803-2a111f293663"
      },
      "execution_count": 9,
      "outputs": [
        {
          "output_type": "stream",
          "name": "stdout",
          "text": [
            "Name: Bangladesh\n",
            "Continent: Asia\n",
            "Capital: Dhaka\n",
            "Fifa Ranking: 187\n",
            "===================\n",
            "Name: Belgium\n",
            "Continent: Europe\n",
            "Capital: Brussels\n",
            "Fifa Ranking: 1\n"
          ]
        }
      ]
    },
    {
      "cell_type": "code",
      "source": [
        "# Write the DemonSlayer class so that the code gives the expected output.\n",
        "# # Write your Class Code here\n",
        "# tanjiro = DemonSlayer(\"Tanjiro\", \"Water Breathing\", 10, 10)\n",
        "# print('Name:',tanjiro.name)\n",
        "# print('Fighting Style:',tanjiro.style)\n",
        "# print(f'Knows {tanjiro.number_of_technique} technique(s) and has\n",
        "# killed {tanjiro.kill} demon(s)')\n",
        "# print('===================')\n",
        "# zenitsu = DemonSlayer(\"Zenitsu\", \"Thunder Breathing\", 1, 4)\n",
        "# print('Name:',zenitsu.name)\n",
        "# print('Fighting Style:',zenitsu.style)\n",
        "# print(f'Knows {zenitsu.number_of_technique} technique(s) and has\n",
        "# killed {zenitsu.kill} demon(s)')\n",
        "# print('===================')\n",
        "# inosuke = DemonSlayer(\"Inosuke\", \"Beast Breathing\", 5, 7)\n",
        "# print('Name:',inosuke.name)\n",
        "# print('Fighting Style:',inosuke.style)\n",
        "# print(f'Knows {inosuke.number_of_technique} technique(s) and has\n",
        "# killed {inosuke.kill} demon(s)')\n",
        "# print('===================')\n",
        "# print(f'{tanjiro.name}, {zenitsu.name}, {inosuke.name} knows\n",
        "# total {tanjiro.number_of_technique + zenitsu.number_of_technique\n",
        "# + inosuke.number_of_technique} techniques')\n",
        "# print(f'They have killed total {tanjiro.kill + zenitsu.kill +\n",
        "# inosuke.kill} demons')\n",
        "\n",
        "class DemonSlayer:\n",
        "    def __init__(self, name, style, number_of_technique, kill):\n",
        "        self.name = name\n",
        "        self.style = style\n",
        "        self.number_of_technique = number_of_technique\n",
        "        self.kill = kill\n",
        "\n",
        "tanjiro = DemonSlayer(\"Tanjiro\", \"Water Breathing\", 10, 10)\n",
        "print('Name:',tanjiro.name)\n",
        "print('Fighting Style:',tanjiro.style)\n",
        "print(f'Knows {tanjiro.number_of_technique} technique(s) and has killed {tanjiro.kill} demon(s)')\n",
        "print('===================')\n",
        "zenitsu = DemonSlayer(\"Zenitsu\", \"Thunder Breathing\", 1, 4)\n",
        "print('Name:',zenitsu.name)\n",
        "print('Fighting Style:',zenitsu.style)\n",
        "print(f'Knows {zenitsu.number_of_technique} technique(s) and has killed {zenitsu.kill} demon(s)')\n",
        "print('===================')\n",
        "inosuke = DemonSlayer(\"Inosuke\", \"Beast Breathing\", 5, 7)\n",
        "print('Name:',inosuke.name)\n",
        "print('Fighting Style:',inosuke.style)\n",
        "print(f'Knows {inosuke.number_of_technique} technique(s) and has killed {inosuke.kill} demon(s)')\n",
        "print('===================')\n",
        "print(f'{tanjiro.name}, {zenitsu.name}, {inosuke.name} knows total {tanjiro.number_of_technique + zenitsu.number_of_technique + inosuke.number_of_technique} techniques')\n",
        "print(f'They have killed total {tanjiro.kill + zenitsu.kill + inosuke.kill} demons')"
      ],
      "metadata": {
        "colab": {
          "base_uri": "https://localhost:8080/"
        },
        "id": "5LQ0a6eT-NZp",
        "outputId": "4b1ad826-8452-4a2a-d002-d893ea32ab0e"
      },
      "execution_count": 10,
      "outputs": [
        {
          "output_type": "stream",
          "name": "stdout",
          "text": [
            "Name: Tanjiro\n",
            "Fighting Style: Water Breathing\n",
            "Knows 10 technique(s) and has killed 10 demon(s)\n",
            "===================\n",
            "Name: Zenitsu\n",
            "Fighting Style: Thunder Breathing\n",
            "Knows 1 technique(s) and has killed 4 demon(s)\n",
            "===================\n",
            "Name: Inosuke\n",
            "Fighting Style: Beast Breathing\n",
            "Knows 5 technique(s) and has killed 7 demon(s)\n",
            "===================\n",
            "Tanjiro, Zenitsu, Inosuke knows total 16 techniques\n",
            "They have killed total 21 demons\n"
          ]
        }
      ]
    }
  ]
}