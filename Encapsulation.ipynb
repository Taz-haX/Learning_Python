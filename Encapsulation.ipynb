{
  "nbformat": 4,
  "nbformat_minor": 0,
  "metadata": {
    "colab": {
      "provenance": [],
      "authorship_tag": "ABX9TyNc/GJjGspS8hR3rGuID9tq",
      "include_colab_link": true
    },
    "kernelspec": {
      "name": "python3",
      "display_name": "Python 3"
    },
    "language_info": {
      "name": "python"
    }
  },
  "cells": [
    {
      "cell_type": "markdown",
      "metadata": {
        "id": "view-in-github",
        "colab_type": "text"
      },
      "source": [
        "<a href=\"https://colab.research.google.com/github/Taz-haX/Learning_Python/blob/main/Encapsulation.ipynb\" target=\"_parent\"><img src=\"https://colab.research.google.com/assets/colab-badge.svg\" alt=\"Open In Colab\"/></a>"
      ]
    },
    {
      "cell_type": "code",
      "execution_count": null,
      "metadata": {
        "id": "7XPLswzvr-ei",
        "outputId": "6ad7be2a-3d8c-48b0-e30f-9102186394e6",
        "colab": {
          "base_uri": "https://localhost:8080/"
        }
      },
      "outputs": [
        {
          "output_type": "stream",
          "name": "stdout",
          "text": [
            "{'name': 'Hammer', '_Winners__id': 44, '__id': 69}\n",
            "{'name': 'Hammer', '_Winners__id': 14, '__id': 69}\n",
            "Dickhead: Hammer\n",
            "Numbah: 14\n"
          ]
        }
      ],
      "source": [
        "class Winners:\n",
        "    def __init__(self, name, id):\n",
        "        self.name = name\n",
        "        self.__id = id\n",
        "\n",
        "    def show(self):\n",
        "        print(f'Dickhead: {self.name}\\nNumbah: {self.__id}')\n",
        "\n",
        "    def change_numbah(self, id):\n",
        "        if id > 0:\n",
        "            self.__id = id\n",
        "        else:\n",
        "            print('Screw Yerself')\n",
        "\n",
        "d1 = Winners('Vettel', 00)\n",
        "d2 = Winners('Hammer', 44)\n",
        "\n",
        "d2.__id = 69\n",
        "print(d2.__dict__)\n",
        "\n",
        "d2.change_numbah(14)\n",
        "print(d2.__dict__)\n",
        "\n",
        "d2.show()\n"
      ]
    }
  ]
}