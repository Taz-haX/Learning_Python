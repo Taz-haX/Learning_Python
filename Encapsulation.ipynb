{
  "nbformat": 4,
  "nbformat_minor": 0,
  "metadata": {
    "colab": {
      "provenance": [],
      "authorship_tag": "ABX9TyPrwwfvd4oDd1nklLNGZ6rC",
      "include_colab_link": true
    },
    "kernelspec": {
      "name": "python3",
      "display_name": "Python 3"
    },
    "language_info": {
      "name": "python"
    }
  },
  "cells": [
    {
      "cell_type": "markdown",
      "metadata": {
        "id": "view-in-github",
        "colab_type": "text"
      },
      "source": [
        "<a href=\"https://colab.research.google.com/github/Taz-haX/Learning_Python/blob/main/Encapsulation.ipynb\" target=\"_parent\"><img src=\"https://colab.research.google.com/assets/colab-badge.svg\" alt=\"Open In Colab\"/></a>"
      ]
    },
    {
      "cell_type": "code",
      "execution_count": 3,
      "metadata": {
        "id": "7XPLswzvr-ei",
        "outputId": "d4c2208e-c1f2-4fb7-9561-2aadba62cc88",
        "colab": {
          "base_uri": "https://localhost:8080/"
        }
      },
      "outputs": [
        {
          "output_type": "stream",
          "name": "stdout",
          "text": [
            "{'name': 'Hammer', '_Winners__id': 44, '__id': 69}\n",
            "44\n",
            "Hammer\n",
            "{'name': 'Hammer', '_Winners__id': 14, '__id': 69}\n",
            "Dickhead: Hammer\n",
            "Numbah: 14\n",
            "Hammer\n",
            "14\n"
          ]
        }
      ],
      "source": [
        "# private variable\n",
        "\n",
        "class Winners:\n",
        "    def __init__(self, name, id):\n",
        "        self.name = name\n",
        "        self.__id = id\n",
        "\n",
        "    def show(self):\n",
        "        print(f'Dickhead: {self.name}\\nNumbah: {self.__id}')\n",
        "\n",
        "    def change_numbah(self, id):\n",
        "        if id > 0:\n",
        "            self.__id = id\n",
        "        else:\n",
        "            print('Screw Yerself')\n",
        "\n",
        "    def get_number(self):\n",
        "        print(self.__id)\n",
        "\n",
        "    def get_name(self):\n",
        "        print(self.name)\n",
        "\n",
        "\n",
        "d1 = Winners('Vettel', 00)\n",
        "d2 = Winners('Hammer', 44)\n",
        "\n",
        "d2.__id = 69\n",
        "print(d2.__dict__)\n",
        "d2.get_number()\n",
        "d2.get_name()\n",
        "\n",
        "d2.change_numbah(14)\n",
        "print(d2.__dict__)\n",
        "\n",
        "d2.show()\n",
        "d2.get_name()\n",
        "d2.get_number()\n"
      ]
    },
    {
      "cell_type": "code",
      "source": [
        "# private method\n",
        "\n",
        "class Pain:\n",
        "    def __init__(self, x, y):\n",
        "        self.x = x\n",
        "        self.__y = y\n",
        "\n",
        "    def details(self):\n",
        "        print(f'This normal method {self.x} and {self.__y}')\n",
        "        self.__private_method()\n",
        "\n",
        "    def __private_method(self):\n",
        "        print(f'This a private print boiiii')\n",
        "\n",
        "life = Pain(4, 7)\n",
        "\n",
        "life.details()\n",
        "# life.__private_method()"
      ],
      "metadata": {
        "id": "xrWNeTbWEuGm",
        "outputId": "bf998813-434f-48da-c780-6c7feb52b252",
        "colab": {
          "base_uri": "https://localhost:8080/"
        }
      },
      "execution_count": null,
      "outputs": [
        {
          "output_type": "stream",
          "name": "stdout",
          "text": [
            "This normal method 4 and 7\n",
            "This a private print boiiii\n"
          ]
        }
      ]
    }
  ]
}