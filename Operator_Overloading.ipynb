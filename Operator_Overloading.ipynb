{
  "nbformat": 4,
  "nbformat_minor": 0,
  "metadata": {
    "colab": {
      "provenance": [],
      "authorship_tag": "ABX9TyOE2awwVpSOZkujuEa1AlKi",
      "include_colab_link": true
    },
    "kernelspec": {
      "name": "python3",
      "display_name": "Python 3"
    },
    "language_info": {
      "name": "python"
    }
  },
  "cells": [
    {
      "cell_type": "markdown",
      "metadata": {
        "id": "view-in-github",
        "colab_type": "text"
      },
      "source": [
        "<a href=\"https://colab.research.google.com/github/Taz-haX/Learning_Python/blob/main/Operator_Overloading.ipynb\" target=\"_parent\"><img src=\"https://colab.research.google.com/assets/colab-badge.svg\" alt=\"Open In Colab\"/></a>"
      ]
    },
    {
      "cell_type": "code",
      "execution_count": 1,
      "metadata": {
        "colab": {
          "base_uri": "https://localhost:8080/"
        },
        "id": "HJ4Kcjl3cCB8",
        "outputId": "69a63a14-c3c5-465f-b886-d55311102218"
      },
      "outputs": [
        {
          "output_type": "stream",
          "name": "stdout",
          "text": [
            "11\n"
          ]
        }
      ],
      "source": [
        "class Championships:\n",
        "\n",
        "    def __init__(self, x):\n",
        "        self.x = x\n",
        "\n",
        "    def __add__(self, other):\n",
        "        return self.x + other.x\n",
        "\n",
        "ham = Championships(7)\n",
        "vet = Championships(4)\n",
        "\n",
        "print(ham + vet)"
      ]
    },
    {
      "cell_type": "code",
      "source": [
        "class Wins:\n",
        "    def __init__(self, x):\n",
        "        self.x = x\n",
        "\n",
        "    def __gt__(self, other):\n",
        "        if self.x > other.x:\n",
        "            return True\n",
        "        else:\n",
        "            return False\n",
        "\n",
        "ham = Wins(7)\n",
        "vers = Wins(3)\n",
        "\n",
        "if (ham > vers):\n",
        "    print('Screw the Dutchman')\n",
        "else:\n",
        "    print('Life is PAjN')"
      ],
      "metadata": {
        "colab": {
          "base_uri": "https://localhost:8080/"
        },
        "id": "JAI8SvSPcyOa",
        "outputId": "d0892f7e-e711-4332-b751-930edce72fec"
      },
      "execution_count": 2,
      "outputs": [
        {
          "output_type": "stream",
          "name": "stdout",
          "text": [
            "Screw the Dutchman\n"
          ]
        }
      ]
    },
    {
      "cell_type": "code",
      "source": [
        "class Racers:\n",
        "\n",
        "    def __init__(self, r, w):\n",
        "        self.r = r\n",
        "        self.w = w\n",
        "\n",
        "    def info(self):\n",
        "        print(f'Them have won {self.w} races over {self.r} races')\n",
        "\n",
        "    def __add__(self, other):\n",
        "        total_r = self.r + other.r\n",
        "        total_w = self.w + other.w\n",
        "        obj = Racers(total_r, total_w)\n",
        "        return obj\n",
        "\n",
        "ham = Racers(220, 104)\n",
        "vers = Racers(120, 54)\n",
        "\n",
        "tot = (ham + vers)\n",
        "tot.info()"
      ],
      "metadata": {
        "colab": {
          "base_uri": "https://localhost:8080/"
        },
        "id": "cyAQD1Iemh37",
        "outputId": "8fdc4f69-624d-4a28-bf49-e437dfc3a694"
      },
      "execution_count": 3,
      "outputs": [
        {
          "output_type": "stream",
          "name": "stdout",
          "text": [
            "Them have won 158 races over 340 races\n"
          ]
        }
      ]
    }
  ]
}