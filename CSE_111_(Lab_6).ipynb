{
  "nbformat": 4,
  "nbformat_minor": 0,
  "metadata": {
    "colab": {
      "provenance": [],
      "authorship_tag": "ABX9TyP5m+Kt/QJje0Sd+9h9aFo6",
      "include_colab_link": true
    },
    "kernelspec": {
      "name": "python3",
      "display_name": "Python 3"
    },
    "language_info": {
      "name": "python"
    }
  },
  "cells": [
    {
      "cell_type": "markdown",
      "metadata": {
        "id": "view-in-github",
        "colab_type": "text"
      },
      "source": [
        "<a href=\"https://colab.research.google.com/github/Taz-haX/Learning_Python/blob/main/CSE_111_(Lab_6).ipynb\" target=\"_parent\"><img src=\"https://colab.research.google.com/assets/colab-badge.svg\" alt=\"Open In Colab\"/></a>"
      ]
    },
    {
      "cell_type": "code",
      "execution_count": 1,
      "metadata": {
        "colab": {
          "base_uri": "https://localhost:8080/"
        },
        "id": "nWI6EHvYCaOU",
        "outputId": "14779edc-9dc6-4d2b-bc32-d334f3403594"
      },
      "outputs": [
        {
          "output_type": "stream",
          "name": "stdout",
          "text": [
            "ID: 0\n",
            "Name: Samin\n",
            "Subject: CSE\n",
            "Age: 21\n",
            "CGPA: 3.91\n",
            "-----------------------\n",
            "ID: 0\n",
            "Name: Fahim\n",
            "Subject: ECE\n",
            "Age: 21\n",
            "CGPA: 3.85\n",
            "-----------------------\n",
            "ID: 0\n",
            "Name: Tahura\n",
            "Subject: EEE\n",
            "Age: 22\n",
            "CGPA: 3.01\n",
            "-----------------------\n",
            "ID: 0\n",
            "Name: Sumaiya\n",
            "Subject: BBA\n",
            "Age: 23\n",
            "CGPA: 3.96\n"
          ]
        }
      ],
      "source": [
        "# Write a Student class to get the desired output as shown below.\n",
        "# 1. Create a Student class and a class variable called ID initialized with 0.\n",
        "# 2. Create a constructor that takes 4 parameters: name, department, age and cgpa.\n",
        "# 3. Write a get_details() method to represent all the details of a Student\n",
        "# 4. Write a class method from_String() that takes 1 parameter which includes\n",
        "# name, department, age and cgpa all four attributes in string.\n",
        "# #Write your code here for subtasks 1-6.\n",
        "# s1 = Student(\"Samin\", \"CSE\", 21, 3.91)\n",
        "# s1.get_details()\n",
        "# print(\"-----------------------\")\n",
        "# s2 = Student(\"Fahim\", \"ECE\", 21, 3.85)\n",
        "# s2.get_details()\n",
        "# print(\"-----------------------\")\n",
        "# s3 = Student(\"Tahura\", \"EEE\", 22, 3.01)\n",
        "# s3.get_details()\n",
        "# print(\"-----------------------\")\n",
        "# s4 = Student.from_String(\"Sumaiya-BBA-23-3.96\")\n",
        "# s4.get_details()\n",
        "# # Write the answer of subtask 5 here\n",
        "# # Write the answer of subtask 6 here\n",
        "# #You are not allowed to change the code above\n",
        "# OUTPUT\n",
        "# ID: 1\n",
        "# Name: Samin\n",
        "# Department: CSE\n",
        "# Age: 21\n",
        "# CGPA: 3.91\n",
        "# -----------------------\n",
        "# ID: 2\n",
        "# Name: Fahim\n",
        "# Department: ECE\n",
        "# Age: 21\n",
        "# CGPA: 3.85\n",
        "# -----------------------\n",
        "# ID: 3\n",
        "# Name: Tahura\n",
        "# Department: EEE\n",
        "# Age: 22\n",
        "# CGPA: 3.01\n",
        "# -----------------------\n",
        "# ID: 4\n",
        "# Name: Sumaiya\n",
        "# Department: BBA\n",
        "# Age: 23\n",
        "# CGPA: 3.96\n",
        "\n",
        "class Student:\n",
        "\n",
        "    ID = 0\n",
        "\n",
        "    def __init__(self, name = None, sub = None, age = 0, cg = 0.0):\n",
        "        self.name = name\n",
        "        self.sub = sub\n",
        "        self.age = age\n",
        "        self.cg = cg\n",
        "\n",
        "    def get_details(self):\n",
        "        print(f'ID: {Student.ID}\\nName: {self.name}\\nSubject: {self.sub}'\n",
        "              f'\\nAge: {self.age}\\nCGPA: {self.cg}')\n",
        "\n",
        "    @classmethod\n",
        "    def from_String(cls, inpt):\n",
        "        name, sub, age, cg = inpt.split('-')\n",
        "        return Student(name, sub, age, cg)\n",
        "\n",
        "s1 = Student(\"Samin\", \"CSE\", 21, 3.91)\n",
        "s1.get_details()\n",
        "print(\"-----------------------\")\n",
        "s2 = Student(\"Fahim\", \"ECE\", 21, 3.85)\n",
        "s2.get_details()\n",
        "print(\"-----------------------\")\n",
        "s3 = Student(\"Tahura\", \"EEE\", 22, 3.01)\n",
        "s3.get_details()\n",
        "print(\"-----------------------\")\n",
        "s4 = Student.from_String(\"Sumaiya-BBA-23-3.96\")\n",
        "s4.get_details()"
      ]
    },
    {
      "cell_type": "code",
      "source": [],
      "metadata": {
        "id": "uR7MATWgDK_c"
      },
      "execution_count": null,
      "outputs": []
    }
  ]
}