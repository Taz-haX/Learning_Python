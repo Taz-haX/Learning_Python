{
  "nbformat": 4,
  "nbformat_minor": 0,
  "metadata": {
    "colab": {
      "provenance": [],
      "authorship_tag": "ABX9TyNAaobO12oBFcGkbjbqFiwk",
      "include_colab_link": true
    },
    "kernelspec": {
      "name": "python3",
      "display_name": "Python 3"
    },
    "language_info": {
      "name": "python"
    }
  },
  "cells": [
    {
      "cell_type": "markdown",
      "metadata": {
        "id": "view-in-github",
        "colab_type": "text"
      },
      "source": [
        "<a href=\"https://colab.research.google.com/github/Taz-haX/Learning_Python/blob/main/CSE110(Lab__3).ipynb\" target=\"_parent\"><img src=\"https://colab.research.google.com/assets/colab-badge.svg\" alt=\"Open In Colab\"/></a>"
      ]
    },
    {
      "cell_type": "code",
      "execution_count": 1,
      "metadata": {
        "colab": {
          "base_uri": "https://localhost:8080/"
        },
        "id": "-9CoB21TzTrG",
        "outputId": "70468d35-3d7d-416b-c66a-b116cdbf668f"
      },
      "outputs": [
        {
          "output_type": "stream",
          "name": "stdout",
          "text": [
            "-6 0 6 12 18 24 \n",
            "-10 -5 0 5 10 15 \n"
          ]
        }
      ],
      "source": [
        "# TASK_1\n",
        "# Write the python programs, which prints the following sequences of values in loops: a) 24, 18, 12, 6, 0, -6\n",
        "\n",
        "for i in range(-6,25,6):\n",
        "    print(i, end=\" \")\n",
        "\n",
        "print()\n",
        "\n",
        "for i in range(-10,20,5):\n",
        "    print(i, end=\" \")\n",
        "\n",
        "print()"
      ]
    },
    {
      "cell_type": "code",
      "source": [
        "# #TASK_2\n",
        "# Write a Python code for the following: 1) Ask the user to enter the name of his favorite car. 2) Ask the user to enter a Number.\n",
        "\n",
        "pota = input(\"What is your favourite car and why is it Porsche?: \")\n",
        "\n",
        "tota = int(input(\"Enter a number, UwU: \"))\n",
        "\n",
        "for i in range(tota):\n",
        "    print(pota)\n"
      ],
      "metadata": {
        "colab": {
          "base_uri": "https://localhost:8080/"
        },
        "id": "KWRHQs3FzbdP",
        "outputId": "6c3fea2c-10b8-41b0-9c25-2c0b424e9b4e"
      },
      "execution_count": 3,
      "outputs": [
        {
          "output_type": "stream",
          "name": "stdout",
          "text": [
            "What is your favourite car and why is it Porsche?: Ferrari\n",
            "Enter a number, UwU: 7\n",
            "Ferrari\n",
            "Ferrari\n",
            "Ferrari\n",
            "Ferrari\n",
            "Ferrari\n",
            "Ferrari\n",
            "Ferrari\n"
          ]
        }
      ]
    },
    {
      "cell_type": "code",
      "source": [
        "#Task 4\n",
        "# Write a Python code of a program that adds all numbers that are multiples of either 7 or 9 but not both,\n",
        "# up to 600 (including 600) i.e. 7, 9, 14, 18, 21..... and so on but not the numbers 63, 126, 189..... which are multiples of both 7 and 9.\n",
        "\n",
        "jok = 0\n",
        "\n",
        "for i in range(0,601):\n",
        "    if i%7 == 0 and i%9 == 0:\n",
        "        jok +=0\n",
        "    elif i%7 == 0 or i%9 == 0:\n",
        "        jok +=i\n",
        "    if i == 601:\n",
        "        break\n",
        "\n",
        "print(jok)"
      ],
      "metadata": {
        "colab": {
          "base_uri": "https://localhost:8080/"
        },
        "id": "80_Tg3phz1sR",
        "outputId": "513a5031-3fdb-4a9e-cd39-9c00867531c8"
      },
      "execution_count": 4,
      "outputs": [
        {
          "output_type": "stream",
          "name": "stdout",
          "text": [
            "39814\n"
          ]
        }
      ]
    },
    {
      "cell_type": "code",
      "source": [
        "#Task_5\n",
        "# Write the Python code of a program that displays all the odd numbers between 10 and 50 (inclusive).\n",
        "\n",
        "\n",
        "for i in range(10,50):\n",
        "    if i%2!=0:\n",
        "        print(i, end=\" \")"
      ],
      "metadata": {
        "colab": {
          "base_uri": "https://localhost:8080/"
        },
        "id": "aaw4J4-70AYn",
        "outputId": "4c7d6daf-32c6-4a84-8c5b-fd30b1fbeb4a"
      },
      "execution_count": 5,
      "outputs": [
        {
          "output_type": "stream",
          "name": "stdout",
          "text": [
            "11 13 15 17 19 21 23 25 27 29 31 33 35 37 39 41 43 45 47 49 "
          ]
        }
      ]
    },
    {
      "cell_type": "code",
      "source": [
        "# TASK_6\n",
        "# Write a Python code that will calculate the value of y if the expression of y is as follows (n is the input):\n",
        "# y=12−22+32−42+52.........+n2\n",
        "\n",
        "tok = 0\n",
        "n = int(input(\"Enter a bloody number: \"))\n",
        "\n",
        "for i in range(n):\n",
        "    if i%2 != 0:\n",
        "        tok += (i**2)\n",
        "    if i%2 == 0:\n",
        "\n",
        "      tok += -(i**2)\n",
        "\n",
        "print(tok)"
      ],
      "metadata": {
        "colab": {
          "base_uri": "https://localhost:8080/"
        },
        "id": "aMKFiqPV0UWe",
        "outputId": "08f64f23-6d16-49fc-d34e-aa2c4d72571b"
      },
      "execution_count": 9,
      "outputs": [
        {
          "output_type": "stream",
          "name": "stdout",
          "text": [
            "Enter a bloody number: 9\n",
            "-36\n"
          ]
        }
      ]
    },
    {
      "cell_type": "code",
      "source": [
        "#TASK_7\n",
        "# Write a Python code of a program that asks the user to enter ten numbers and then display\n",
        "# the total and the average of ONLY the odd numbers among those ten numbers.\n",
        "\n",
        "jok = 0\n",
        "bib = 0\n",
        "\n",
        "try:\n",
        "    for i in range(10):\n",
        "        x = int(input(\"Entah a numbah boyoooo: \"))\n",
        "        if x % 2 != 0:\n",
        "            jok += x\n",
        "            bib += 1\n",
        "\n",
        "    gor = jok / bib\n",
        "\n",
        "    print(f\"The total of the odd numbers is {jok} and their average is {gor}\")\n",
        "\n",
        "except ZeroDivisionError:\n",
        "    print(\"Dam sun, quite dumb aren't we?\")"
      ],
      "metadata": {
        "colab": {
          "base_uri": "https://localhost:8080/"
        },
        "id": "YuhVkJi401V5",
        "outputId": "b1adda62-3436-415a-bd23-42d3b8379b58"
      },
      "execution_count": 10,
      "outputs": [
        {
          "output_type": "stream",
          "name": "stdout",
          "text": [
            "Entah a numbah boyoooo: 8\n",
            "Entah a numbah boyoooo: 7\n",
            "Entah a numbah boyoooo: 6\n",
            "Entah a numbah boyoooo: 8\n",
            "Entah a numbah boyoooo: 9\n",
            "Entah a numbah boyoooo: 5\n",
            "Entah a numbah boyoooo: 5\n",
            "Entah a numbah boyoooo: 4\n",
            "Entah a numbah boyoooo: 6\n",
            "Entah a numbah boyoooo: 7\n",
            "The total of the odd numbers is 33 and their average is 6.6\n"
          ]
        }
      ]
    },
    {
      "cell_type": "code",
      "source": [
        "#TASK_8\n",
        "# Write a Python code for the following:\n",
        "# Ask the user to enter a Number, N\n",
        "# Display the summation of multiples of 7 up to that number (from 1 to N inclusive)\n",
        "\n",
        "pop = int(input(\"UwU, numberu: \"))\n",
        "\n",
        "tot = []\n",
        "pot = 0\n",
        "for i in range(pop+1):\n",
        "    if i%7 == 0:\n",
        "        tot.append(i)\n",
        "        pot += i\n",
        "\n",
        "\n",
        "print(tot)\n",
        "print(pot)"
      ],
      "metadata": {
        "colab": {
          "base_uri": "https://localhost:8080/"
        },
        "id": "5sbdQuR91ICx",
        "outputId": "0ed3a49f-fe79-44cf-9ec3-17ff8f4aa5c0"
      },
      "execution_count": 11,
      "outputs": [
        {
          "output_type": "stream",
          "name": "stdout",
          "text": [
            "UwU, numberu: 6\n",
            "[0]\n",
            "0\n"
          ]
        }
      ]
    },
    {
      "cell_type": "code",
      "source": [
        "#TASK_9\n",
        "# Write a Python code that will read 5 numbers from the user.\n",
        "# Your program should print the first number, the sum of the first 2 numbers,\n",
        "# the sum of the first 3 numbers, and so on up to the sum of 5 numbers.\n",
        "\n",
        "tot = []\n",
        "don = 0\n",
        "\n",
        "for i in range(5):\n",
        "    opo = int(input(\"Numbaaaaa biiiiiis: \"))\n",
        "    don += opo\n",
        "    tot.append(don)\n",
        "\n",
        "for index in tot:\n",
        "    print(index)"
      ],
      "metadata": {
        "colab": {
          "base_uri": "https://localhost:8080/"
        },
        "id": "8IU2n1LF1YlO",
        "outputId": "807f4dec-e067-44c8-cd4e-fb3d2fc0be45"
      },
      "execution_count": 13,
      "outputs": [
        {
          "output_type": "stream",
          "name": "stdout",
          "text": [
            "Numbaaaaa biiiiiis: 7\n",
            "Numbaaaaa biiiiiis: 8\n",
            "Numbaaaaa biiiiiis: 6\n",
            "Numbaaaaa biiiiiis: 5\n",
            "Numbaaaaa biiiiiis: 7\n",
            "7\n",
            "15\n",
            "21\n",
            "26\n",
            "33\n"
          ]
        }
      ]
    },
    {
      "cell_type": "code",
      "source": [
        "#TASK_10\n",
        "# Write a Python program which takes a number and prints the digits from\n",
        "# the unit place, then the tenth, then hundredth, etc. (Right to Left)\n",
        "\n",
        "x = int(input('Enter a number: '))\n",
        "\n",
        "to = 0\n",
        "po = 0\n",
        "\n",
        "ho = []\n",
        "\n",
        "if x == 0:\n",
        "    print(x)\n",
        "\n",
        "for i in range(x):\n",
        "    to = x%10\n",
        "    ho.append(to)\n",
        "    print(*ho)\n",
        "    ho.clear()\n",
        "    po = x//10\n",
        "    x = po\n",
        "    if po == 0:\n",
        "        break"
      ],
      "metadata": {
        "colab": {
          "base_uri": "https://localhost:8080/"
        },
        "id": "SSj-3ZhX1mEo",
        "outputId": "92757894-a3ca-42ce-ac49-561809273e95"
      },
      "execution_count": 17,
      "outputs": [
        {
          "output_type": "stream",
          "name": "stdout",
          "text": [
            "Enter a number: 213\n",
            "3\n",
            "1\n",
            "2\n"
          ]
        }
      ]
    },
    {
      "cell_type": "code",
      "source": [
        "# #TASK_11\n",
        "# Write a Python program that takes a number and prints how many digits are in that number.\n",
        "# [Consider the input number to be an INTEGER.]\n",
        "\n",
        "count = 0\n",
        "x=int(input(\"No: \"))\n",
        "hog = x//10\n",
        "top = str(x)\n",
        "\n",
        "for i in top:\n",
        "    count += 1\n",
        "print(count)"
      ],
      "metadata": {
        "colab": {
          "base_uri": "https://localhost:8080/"
        },
        "id": "ulqwl-Rf18YS",
        "outputId": "85ced694-d5c8-4105-fdd8-b8daff67c8ab"
      },
      "execution_count": 18,
      "outputs": [
        {
          "output_type": "stream",
          "name": "stdout",
          "text": [
            "No: 21\n",
            "2\n"
          ]
        }
      ]
    },
    {
      "cell_type": "code",
      "source": [
        "# Task_12\n",
        "# Write a Python program that takes a number from the user and prints its digits from left to right.\n",
        "\n",
        "x = int(input('Enter Number: '))\n",
        "\n",
        "top = str(x)\n",
        "lol = reversed(top)\n",
        "\n",
        "\n",
        "for i in lol:\n",
        "    print(i, end=' ')"
      ],
      "metadata": {
        "colab": {
          "base_uri": "https://localhost:8080/"
        },
        "id": "Rs-iI0Hp2G2E",
        "outputId": "ce41e718-be8f-496c-8e5a-295326405cc3"
      },
      "execution_count": 19,
      "outputs": [
        {
          "output_type": "stream",
          "name": "stdout",
          "text": [
            "Enter Number: 23\n",
            "3 2 "
          ]
        }
      ]
    },
    {
      "cell_type": "code",
      "source": [
        "#TASK_13\n",
        "# Write a Python program that takes a number as input from the user and prints the divisors of that number as well as how many divisors the number has.\n",
        "\n",
        "x = int(input('Enter a number: '))\n",
        "ho = 0\n",
        "\n",
        "tot = str(x)\n",
        "lol = []\n",
        "for i in range(x):\n",
        "    if i == 0:\n",
        "        pass\n",
        "    elif x%i == 0:\n",
        "        lol.append(i)\n",
        "        ho+=1\n",
        "\n",
        "print(*lol,str(x))\n",
        "print(\"The total number of divisor is: \"+str(ho+1))"
      ],
      "metadata": {
        "colab": {
          "base_uri": "https://localhost:8080/"
        },
        "id": "0JbbJBbS2YOp",
        "outputId": "2fab4b2b-5c69-4d18-a0fe-346d2e90709b"
      },
      "execution_count": 20,
      "outputs": [
        {
          "output_type": "stream",
          "name": "stdout",
          "text": [
            "Enter a number: 19\n",
            "1 19\n",
            "The total number of divisor is: 2\n"
          ]
        }
      ]
    },
    {
      "cell_type": "code",
      "source": [
        "#TASK_14\n",
        "# Write a Python program that takes a number as input from the user and tells if it is a perfect number or not.\n",
        "\n",
        "x = int(input('Enter yo numbah: '))\n",
        "z = 0\n",
        "y = x-1\n",
        "tot = 0\n",
        "\n",
        "for i in range(x):\n",
        "    if i == 0:\n",
        "        pass\n",
        "    elif x%i==0:\n",
        "        tot+=i\n",
        "print('Sum is: '+str(tot))\n",
        "print('This is a perfect number')"
      ],
      "metadata": {
        "colab": {
          "base_uri": "https://localhost:8080/"
        },
        "id": "T9lJiM3j2jLI",
        "outputId": "4c868d4b-be20-4c5a-e744-f0294a4f1716"
      },
      "execution_count": 21,
      "outputs": [
        {
          "output_type": "stream",
          "name": "stdout",
          "text": [
            "Enter yo numbah: 23\n",
            "Sum is: 1\n",
            "This is a perfect number\n"
          ]
        }
      ]
    },
    {
      "cell_type": "code",
      "source": [
        "#TASK_15\n",
        "# Write a Python program that asks the user for one number and tells if it is a prime number or not.\n",
        "\n",
        "x = int(input('Enter a numbah: '))\n",
        "tot = 0\n",
        "if x == 1 or x ==0:\n",
        "    print('Not a Prime Number')\n",
        "else:\n",
        "    for i in range(x):\n",
        "        if i == 0:\n",
        "            pass\n",
        "        elif i == 1:\n",
        "            pass\n",
        "        elif x % i == 0:\n",
        "            tot += 1\n",
        "            break\n",
        "    if tot == 1:\n",
        "        print('Not a Prime Number')\n",
        "    else:\n",
        "        print('It is a Prime Number')"
      ],
      "metadata": {
        "colab": {
          "base_uri": "https://localhost:8080/"
        },
        "id": "Jom-YAey2tNW",
        "outputId": "fbd49bd6-0d68-4648-a0e3-badf7d09f9df"
      },
      "execution_count": 22,
      "outputs": [
        {
          "output_type": "stream",
          "name": "stdout",
          "text": [
            "Enter a numbah: 7\n",
            "It is a Prime Number\n"
          ]
        }
      ]
    },
    {
      "cell_type": "code",
      "source": [
        "#TASK_16\n",
        "# Write a Python program that asks the user for a quantity, then takes that many numbers as input and prints\n",
        "# the maximum, minimum and average of those numbers\n",
        "\n",
        "x = int(input('Enter Quantity: '))\n",
        "maxu = 0\n",
        "minu = 0\n",
        "hot = 0\n",
        "for i in range(x):\n",
        "    y = int(input('Enter Number: '))\n",
        "    if i == 0:\n",
        "        maxu += y\n",
        "        minu += y\n",
        "    elif i != 0:\n",
        "        if minu > y:\n",
        "            minu = y\n",
        "        if maxu < y:\n",
        "            maxu = y\n",
        "    hot += y\n",
        "\n",
        "lol = hot/x\n",
        "print('Average: '+str(lol))\n",
        "print('Maximum: '+str(maxu))\n",
        "print('Minimum: '+str(minu))"
      ],
      "metadata": {
        "colab": {
          "base_uri": "https://localhost:8080/"
        },
        "id": "HRWzVA3S22Uu",
        "outputId": "104683b3-1671-4fd2-e93d-3ba030b7c5bf"
      },
      "execution_count": 23,
      "outputs": [
        {
          "output_type": "stream",
          "name": "stdout",
          "text": [
            "Enter Quantity: 5\n",
            "Enter Number: 4\n",
            "Enter Number: 10\n",
            "Enter Number: -1\n",
            "Enter Number: -100\n",
            "Enter Number: 1\n",
            "Average: -17.2\n",
            "Maximum: 10\n",
            "Minimum: -100\n"
          ]
        }
      ]
    },
    {
      "cell_type": "code",
      "source": [
        "#TASK_17\n",
        "# Write a python program that prints a square of size N using + where N will be given as input as illustrated in the examples below.\n",
        "\n",
        "x = int(input('Enter a number: '))\n",
        "colom = x\n",
        "row = x\n",
        "\n",
        "for i in range(colom):\n",
        "    for j in range(row):\n",
        "        print('+',end='')\n",
        "    print()"
      ],
      "metadata": {
        "colab": {
          "base_uri": "https://localhost:8080/"
        },
        "id": "WAMx7G0F3Gb3",
        "outputId": "0743fb9c-3824-433c-e6d3-fff8d3232119"
      },
      "execution_count": 24,
      "outputs": [
        {
          "output_type": "stream",
          "name": "stdout",
          "text": [
            "Enter a number: 5\n",
            "+++++\n",
            "+++++\n",
            "+++++\n",
            "+++++\n",
            "+++++\n"
          ]
        }
      ]
    },
    {
      "cell_type": "code",
      "source": [
        "#TASK_18\n",
        "# Write a python program that prints a rectangle of size M (height/line numbers) and N (length/column numbers)\n",
        "# using incrementing numbers where M and N will be given as input. Please look at the examples below for clarification.\n",
        "\n",
        "x = int(input('Enter number of rows: '))\n",
        "y = int(input('Enter number of columns: '))\n",
        "\n",
        "for i in range(x):\n",
        "    for j in range(y):\n",
        "        print(j+1, end='')\n",
        "    print()"
      ],
      "metadata": {
        "colab": {
          "base_uri": "https://localhost:8080/"
        },
        "id": "C_k-5Sxg3QhW",
        "outputId": "858520ad-0ee9-4dce-c9f7-41c6205b911b"
      },
      "execution_count": 25,
      "outputs": [
        {
          "output_type": "stream",
          "name": "stdout",
          "text": [
            "Enter number of rows: 5\n",
            "Enter number of columns: 6\n",
            "123456\n",
            "123456\n",
            "123456\n",
            "123456\n",
            "123456\n"
          ]
        }
      ]
    },
    {
      "cell_type": "code",
      "source": [
        "#TASK_19\n",
        "# Write a python program that prints a right-angled triangle of height N using incrementing numbers where N will be given as input.\n",
        "\n",
        "po = int(input('Enter Numbero: '))\n",
        "\n",
        "\n",
        "\n",
        "for i in range(1,po+1):\n",
        "    for j in range(1,i+1):\n",
        "        print(j, end='')\n",
        "    print()"
      ],
      "metadata": {
        "colab": {
          "base_uri": "https://localhost:8080/"
        },
        "id": "PsITaBKB3YIu",
        "outputId": "50c8242e-e5f4-4265-9b5f-8d205102c593"
      },
      "execution_count": 26,
      "outputs": [
        {
          "output_type": "stream",
          "name": "stdout",
          "text": [
            "Enter Numbero: 4\n",
            "1\n",
            "12\n",
            "123\n",
            "1234\n"
          ]
        }
      ]
    }
  ]
}