{
  "nbformat": 4,
  "nbformat_minor": 0,
  "metadata": {
    "colab": {
      "provenance": [],
      "authorship_tag": "ABX9TyOXs1KCBINNQ6m6tifGZUL8",
      "include_colab_link": true
    },
    "kernelspec": {
      "name": "python3",
      "display_name": "Python 3"
    },
    "language_info": {
      "name": "python"
    }
  },
  "cells": [
    {
      "cell_type": "markdown",
      "metadata": {
        "id": "view-in-github",
        "colab_type": "text"
      },
      "source": [
        "<a href=\"https://colab.research.google.com/github/Taz-haX/Learning_Python/blob/main/Variable_%26_Method_Overriding.ipynb\" target=\"_parent\"><img src=\"https://colab.research.google.com/assets/colab-badge.svg\" alt=\"Open In Colab\"/></a>"
      ]
    },
    {
      "cell_type": "code",
      "execution_count": 1,
      "metadata": {
        "colab": {
          "base_uri": "https://localhost:8080/"
        },
        "id": "vuDTIH7_kETW",
        "outputId": "0d4db9bd-634d-45ca-d907-84c718aa1428"
      },
      "outputs": [
        {
          "output_type": "stream",
          "name": "stdout",
          "text": [
            "Ayooo Ajaira be really pink\n",
            "pink is just Ajaira\n"
          ]
        }
      ],
      "source": [
        "class Animal:\n",
        "    def __init__(self, name):\n",
        "        self.name = name\n",
        "        self.color = 'Notin'\n",
        "\n",
        "    def eat(self):\n",
        "        print(f'{self.color} is just {self.name}')\n",
        "\n",
        "class Dog(Animal):\n",
        "    def __init__(self, name, color):\n",
        "        super().__init__(name)\n",
        "        self.color = color\n",
        "\n",
        "    def cry(self):\n",
        "        print(f'Ayooo {self.name} be really {self.color}')\n",
        "\n",
        "d1 = Dog('Ajaira', 'pink')\n",
        "d1.cry()\n",
        "d1.eat()"
      ]
    },
    {
      "cell_type": "code",
      "source": [
        "class A:\n",
        "    def __init__(self):\n",
        "        print('__init__ of class A')\n",
        "\n",
        "    def method1(self):\n",
        "        print('Should just die')\n",
        "\n",
        "    def method2(self):\n",
        "        print('Booo dont be self conscious')\n",
        "\n",
        "class B(A):\n",
        "    def __init__(self):\n",
        "        print('__init__ of class B')\n",
        "\n",
        "    def method1(self):\n",
        "        super().method1()\n",
        "        print('refuse to give in')\n",
        "\n",
        "b1 = B()\n",
        "b1.method2()\n",
        "b1.method1()"
      ],
      "metadata": {
        "colab": {
          "base_uri": "https://localhost:8080/"
        },
        "id": "bnNaV74nkTxD",
        "outputId": "6f913699-3d51-4419-e1ad-98bd0bb6de46"
      },
      "execution_count": 2,
      "outputs": [
        {
          "output_type": "stream",
          "name": "stdout",
          "text": [
            "__init__ of class B\n",
            "Booo dont be self conscious\n",
            "Should just die\n",
            "refuse to give in\n"
          ]
        }
      ]
    }
  ]
}