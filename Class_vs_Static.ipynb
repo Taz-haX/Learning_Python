{
  "nbformat": 4,
  "nbformat_minor": 0,
  "metadata": {
    "colab": {
      "provenance": [],
      "authorship_tag": "ABX9TyMlJgxaH+Tgdm6JOy+SfJ33",
      "include_colab_link": true
    },
    "kernelspec": {
      "name": "python3",
      "display_name": "Python 3"
    },
    "language_info": {
      "name": "python"
    }
  },
  "cells": [
    {
      "cell_type": "markdown",
      "metadata": {
        "id": "view-in-github",
        "colab_type": "text"
      },
      "source": [
        "<a href=\"https://colab.research.google.com/github/Taz-haX/Learning_Python/blob/main/Class_vs_Static.ipynb\" target=\"_parent\"><img src=\"https://colab.research.google.com/assets/colab-badge.svg\" alt=\"Open In Colab\"/></a>"
      ]
    },
    {
      "cell_type": "code",
      "execution_count": 1,
      "metadata": {
        "colab": {
          "base_uri": "https://localhost:8080/"
        },
        "id": "Bh4eFXZQsokG",
        "outputId": "eac55c2f-578f-46f8-ba0b-79e967ac142f"
      },
      "outputs": [
        {
          "output_type": "stream",
          "name": "stdout",
          "text": [
            "Constructor points: \n",
            "35\n",
            "---------------------------\n",
            "Driver Points:\n",
            "25\n",
            "10\n"
          ]
        }
      ],
      "source": [
        "class Driver:\n",
        "\n",
        "    constructor_points = 0\n",
        "\n",
        "    def __init__(self, points = 0):\n",
        "        self.points = points\n",
        "\n",
        "    def podium(self):\n",
        "        self.points += 25\n",
        "        Driver.constructor_points += 25\n",
        "\n",
        "    def top_ten(self):\n",
        "        self.points += 10\n",
        "        Driver.constructor_points += 10\n",
        "\n",
        "    def out_ten(self):\n",
        "        self.points += 0\n",
        "        Driver.constructor_points += 0\n",
        "\n",
        "    def individual_point(self):\n",
        "        print(self.points)\n",
        "\n",
        "hamilton = Driver()\n",
        "leclerc = Driver()\n",
        "\n",
        "hamilton.podium()\n",
        "leclerc.top_ten()\n",
        "\n",
        "print(f'Constructor points: \\n{Driver.constructor_points}')\n",
        "print('---------------------------')\n",
        "print(f'Driver Points:')\n",
        "hamilton.individual_point()\n",
        "leclerc.individual_point()"
      ]
    },
    {
      "cell_type": "code",
      "source": [
        "class Student:\n",
        "\n",
        "    count = 0\n",
        "\n",
        "    def __init__(self, name, roll):\n",
        "        self.name = name\n",
        "        self.roll = roll\n",
        "        Student.count+=1\n",
        "\n",
        "    def info(self):\n",
        "        print(f'This weirdo \"{self.name}\" with roll #{self.roll} is joining dis ditch')\n",
        "\n",
        "s1 = Student('Pajn',50)\n",
        "s2 = Student('Farihaaa', 69)\n",
        "s3 = Student('TheresAAA', 43)\n",
        "\n",
        "s1.info()\n",
        "print('-------')\n",
        "s3.info()\n",
        "print('-------')\n",
        "s2.info()\n",
        "print('=====================')\n",
        "print(f'This dumb school now has a total of #{Student.count} idiats')"
      ],
      "metadata": {
        "colab": {
          "base_uri": "https://localhost:8080/"
        },
        "id": "kCJ9XQ971SAj",
        "outputId": "a63ad29b-261a-4a78-f0d4-f2572683e203"
      },
      "execution_count": 2,
      "outputs": [
        {
          "output_type": "stream",
          "name": "stdout",
          "text": [
            "This weirdo \"Pajn\" with roll #50 is joining dis ditch\n",
            "-------\n",
            "This weirdo \"TheresAAA\" with roll #43 is joining dis ditch\n",
            "-------\n",
            "This weirdo \"Farihaaa\" with roll #69 is joining dis ditch\n",
            "=====================\n",
            "This dumb school now has a total of #3 idiats\n"
          ]
        }
      ]
    }
  ]
}