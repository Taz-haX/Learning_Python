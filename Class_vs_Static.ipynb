{
  "nbformat": 4,
  "nbformat_minor": 0,
  "metadata": {
    "colab": {
      "provenance": [],
      "authorship_tag": "ABX9TyPdhRQkZzsOJ5/ebVH5edNS",
      "include_colab_link": true
    },
    "kernelspec": {
      "name": "python3",
      "display_name": "Python 3"
    },
    "language_info": {
      "name": "python"
    }
  },
  "cells": [
    {
      "cell_type": "markdown",
      "metadata": {
        "id": "view-in-github",
        "colab_type": "text"
      },
      "source": [
        "<a href=\"https://colab.research.google.com/github/Taz-haX/Learning_Python/blob/main/Class_vs_Static.ipynb\" target=\"_parent\"><img src=\"https://colab.research.google.com/assets/colab-badge.svg\" alt=\"Open In Colab\"/></a>"
      ]
    },
    {
      "cell_type": "code",
      "execution_count": 1,
      "metadata": {
        "colab": {
          "base_uri": "https://localhost:8080/"
        },
        "id": "Bh4eFXZQsokG",
        "outputId": "eac55c2f-578f-46f8-ba0b-79e967ac142f"
      },
      "outputs": [
        {
          "output_type": "stream",
          "name": "stdout",
          "text": [
            "Constructor points: \n",
            "35\n",
            "---------------------------\n",
            "Driver Points:\n",
            "25\n",
            "10\n"
          ]
        }
      ],
      "source": [
        "class Driver:\n",
        "\n",
        "    constructor_points = 0\n",
        "\n",
        "    def __init__(self, points = 0):\n",
        "        self.points = points\n",
        "\n",
        "    def podium(self):\n",
        "        self.points += 25\n",
        "        Driver.constructor_points += 25\n",
        "\n",
        "    def top_ten(self):\n",
        "        self.points += 10\n",
        "        Driver.constructor_points += 10\n",
        "\n",
        "    def out_ten(self):\n",
        "        self.points += 0\n",
        "        Driver.constructor_points += 0\n",
        "\n",
        "    def individual_point(self):\n",
        "        print(self.points)\n",
        "\n",
        "hamilton = Driver()\n",
        "leclerc = Driver()\n",
        "\n",
        "hamilton.podium()\n",
        "leclerc.top_ten()\n",
        "\n",
        "print(f'Constructor points: \\n{Driver.constructor_points}')\n",
        "print('---------------------------')\n",
        "print(f'Driver Points:')\n",
        "hamilton.individual_point()\n",
        "leclerc.individual_point()"
      ]
    }
  ]
}