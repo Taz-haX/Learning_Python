{
  "nbformat": 4,
  "nbformat_minor": 0,
  "metadata": {
    "colab": {
      "provenance": [],
      "authorship_tag": "ABX9TyP2vtuu3NYt6FUhHnt139MR",
      "include_colab_link": true
    },
    "kernelspec": {
      "name": "python3",
      "display_name": "Python 3"
    },
    "language_info": {
      "name": "python"
    }
  },
  "cells": [
    {
      "cell_type": "markdown",
      "metadata": {
        "id": "view-in-github",
        "colab_type": "text"
      },
      "source": [
        "<a href=\"https://colab.research.google.com/github/Taz-haX/Learning_Python/blob/main/CSE_111_(Lab_2)ipynb.ipynb\" target=\"_parent\"><img src=\"https://colab.research.google.com/assets/colab-badge.svg\" alt=\"Open In Colab\"/></a>"
      ]
    },
    {
      "cell_type": "code",
      "execution_count": 1,
      "metadata": {
        "id": "1nMBkAhA1A4L",
        "colab": {
          "base_uri": "https://localhost:8080/"
        },
        "outputId": "b0c5a8dc-d169-413b-aa60-e077714db0ea"
      },
      "outputs": [
        {
          "output_type": "stream",
          "name": "stdout",
          "text": [
            "0.5\n"
          ]
        }
      ],
      "source": [
        "# Task_1\n",
        "# Write a function which will return the fraction part after dividing a number by\n",
        "# another. The range should be within 0 and 1. Exception: Since dividing anything by\n",
        "# 0 results in error so if the denominator is 0, the function will return 0 instead of\n",
        "# attempting the division.\n",
        "\n",
        "tot = (5,2)\n",
        "\n",
        "bot = list(tot)\n",
        "\n",
        "for i in range(len(bot)):\n",
        "    if i == 0:\n",
        "        if bot[i+1]!= 0:\n",
        "            lol = bot[i] / bot[i + 1]\n",
        "            bol = bot[i] // bot[i + 1]\n",
        "            chol = lol - bol\n",
        "            print(chol)\n",
        "        else:\n",
        "            print(bot[i+1])"
      ]
    }
  ]
}