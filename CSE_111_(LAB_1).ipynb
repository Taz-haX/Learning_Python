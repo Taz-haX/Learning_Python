{
  "nbformat": 4,
  "nbformat_minor": 0,
  "metadata": {
    "colab": {
      "provenance": [],
      "authorship_tag": "ABX9TyNYhhrRm74O1qsSW1ND0gIL",
      "include_colab_link": true
    },
    "kernelspec": {
      "name": "python3",
      "display_name": "Python 3"
    },
    "language_info": {
      "name": "python"
    }
  },
  "cells": [
    {
      "cell_type": "markdown",
      "metadata": {
        "id": "view-in-github",
        "colab_type": "text"
      },
      "source": [
        "<a href=\"https://colab.research.google.com/github/Taz-haX/Learning_Python/blob/main/CSE_111_(LAB_1).ipynb\" target=\"_parent\"><img src=\"https://colab.research.google.com/assets/colab-badge.svg\" alt=\"Open In Colab\"/></a>"
      ]
    },
    {
      "cell_type": "code",
      "execution_count": null,
      "metadata": {
        "colab": {
          "base_uri": "https://localhost:8080/"
        },
        "id": "LWXs5gNv2Dvc",
        "outputId": "f83f81b2-39f9-47b8-b166-59d2a00451d0"
      },
      "outputs": [
        {
          "output_type": "stream",
          "name": "stdout",
          "text": [
            "Entah suff: BaNaNa \n",
            "banana \n"
          ]
        }
      ],
      "source": [
        "# Task_1\n",
        "# From a given string, print the string in all uppercase if the number of uppercase\n",
        "# letters is more than lowercase letters. Otherwise, if lowercase is greater or equal\n",
        "# to uppercase letters, print all lowercase. The inputs will contain letters (A-Z, a-z)\n",
        "# only.\n",
        "\n",
        "x = input('Entah suff: ')\n",
        "\n",
        "bebe = 0\n",
        "hehe = 0\n",
        "\n",
        "for i in range(len(x)):\n",
        "    if 65<= ord(x[i]) <= 90:\n",
        "        bebe += 1\n",
        "    elif 97 <= ord(x[i]) <= 122:\n",
        "        hehe += 1\n",
        "    else:\n",
        "        pass\n",
        "\n",
        "if bebe > hehe:\n",
        "    print(x.upper())\n",
        "else:\n",
        "    print(x.lower())"
      ]
    },
    {
      "cell_type": "code",
      "source": [
        "# Task_2\n",
        "# Given a string, print whether it is a number, word or mixed with digit and letters.\n",
        "# If all the characters are numeric values, print NUMBER. If they are all letters, print\n",
        "# WORD. If it is mixed, print MIXED\n",
        "\n",
        "x = input('Entah suff: ')\n",
        "\n",
        "bebe = 0\n",
        "hehe = 0\n",
        "sese = 0\n",
        "\n",
        "for i in range(len(x)):\n",
        "    if 65 <= ord(x[i]) <= 90:\n",
        "        bebe += 1\n",
        "    elif 97 <= ord(x[i]) <= 122:\n",
        "        hehe += 1\n",
        "    else:\n",
        "        sese += 1\n",
        "\n",
        "tete = bebe+hehe\n",
        "\n",
        "if sese > 0 and tete>0:\n",
        "    print('MIXED')\n",
        "elif sese > 0 and tete == 0:\n",
        "    print('NUMBER')\n",
        "elif sese == 0 and tete > 0:\n",
        "    print('WORD')"
      ],
      "metadata": {
        "colab": {
          "base_uri": "https://localhost:8080/"
        },
        "id": "qiC845Qv21Os",
        "outputId": "78590035-5d06-4476-fed8-57ab321d3434"
      },
      "execution_count": null,
      "outputs": [
        {
          "output_type": "stream",
          "name": "stdout",
          "text": [
            "Entah suff: jhg231j213 \n",
            "MIXED\n"
          ]
        }
      ]
    },
    {
      "cell_type": "code",
      "source": [
        "# Task_3\n",
        "# In a given string, there will be two uppercase letters in between some lowercase\n",
        "# letters. Print the substring from the first uppercase letter to the last uppercase letter\n",
        "# excluding them. If there are no letters in between them, print the word BLANK. It\n",
        "# is guaranteed that there will be only two uppercase letters in the string.\n",
        "\n",
        "x = input('Entah sumin: ')\n",
        "\n",
        "tot = 0\n",
        "bot = 0\n",
        "\n",
        "for i in range(len(x)):\n",
        "    if tot == 0:\n",
        "        if 65 <= ord(x[i]) <= 90:\n",
        "            tot += i\n",
        "    else:\n",
        "        if 65 <= ord(x[i]) <= 90:\n",
        "            bot += i\n",
        "\n",
        "for i in range(tot+1,bot):\n",
        "    print(x[i],end='')"
      ],
      "metadata": {
        "colab": {
          "base_uri": "https://localhost:8080/"
        },
        "id": "BkgsJ4gn4O3S",
        "outputId": "12854104-e49a-49c7-a70f-b2c3ed93caec"
      },
      "execution_count": null,
      "outputs": [
        {
          "output_type": "stream",
          "name": "stdout",
          "text": [
            "Entah sumin: baNgladEsh\n",
            "glad"
          ]
        }
      ]
    },
    {
      "cell_type": "code",
      "source": [
        "# Task_4\n",
        "# Write a Python program to find the first appearance of the substring 'too' and\n",
        "# 'good' from a given string. If 'good' follows the 'too', replace the whole 'too'' good'\n",
        "#  substring with 'excellent' and print the resulting string. If the above does not\n",
        "# appear, print the string as it is.\n",
        "\n",
        "x = input('Entah brotha: ')\n",
        "\n",
        "bot = 0\n",
        "tot = 0\n",
        "hot = 0\n",
        "fot = 0\n",
        "\n",
        "for i in range(len(x)):\n",
        "    if x[i] == 't':\n",
        "        bot += 1\n",
        "        if x[i+1] == 'o':\n",
        "            bot += 1\n",
        "            if x[i+2] == 'o':\n",
        "                bot += 1\n",
        "                hot += i\n",
        "\n",
        "    elif x[i] == 'g':\n",
        "        tot += 1\n",
        "        if x[i+1] == 'o':\n",
        "            tot+=1\n",
        "            if x[i+2] == 'o':\n",
        "                tot+=1\n",
        "                if x[i+3] == 'd':\n",
        "                    tot+=1\n",
        "                    fot += i\n",
        "\n",
        "if hot < fot:\n",
        "    print(str(x[0:hot])+'excelent')\n",
        "else:\n",
        "    print(x)"
      ],
      "metadata": {
        "colab": {
          "base_uri": "https://localhost:8080/"
        },
        "id": "WuLOHyWZtME3",
        "outputId": "63480180-fc24-48fe-c960-02153c37e416"
      },
      "execution_count": 2,
      "outputs": [
        {
          "output_type": "stream",
          "name": "stdout",
          "text": [
            "Entah brotha: The book is not too good!\n",
            "The book is not excelent\n"
          ]
        }
      ]
    },
    {
      "cell_type": "code",
      "source": [
        "# Task_5\n",
        "# Create a string from two given strings by concatenating common characters of\n",
        "# the given strings.\n",
        "\n",
        "x = input('Entah sumin boi: ')\n",
        "y = input('Entah anothah shite: ')\n",
        "\n",
        "dot = []\n",
        "zot = []\n",
        "\n",
        "bot = ''\n",
        "hot = ''\n",
        "\n",
        "for i in range(len(x)):\n",
        "    for j in range(len(y)):\n",
        "        if y[j] in x:\n",
        "            if y[j] in bot and j not in dot:\n",
        "                bot += y[j]\n",
        "                dot.append(j)\n",
        "            elif y[j] not in bot and j not in dot:\n",
        "                bot += y[j]\n",
        "                dot.append(j)\n",
        "            else:\n",
        "                pass\n",
        "\n",
        "for i in range(len(y)):\n",
        "    for j in range(len(x)):\n",
        "        if x[j] in y:\n",
        "            if x[j] in hot and j not in zot:\n",
        "                hot += x[j]\n",
        "                zot.append(j)\n",
        "            elif x[j] not in hot and j not in zot:\n",
        "                hot += x[j]\n",
        "                zot.append(j)\n",
        "            else:\n",
        "                pass\n",
        "\n",
        "print(str(hot)+str(bot))"
      ],
      "metadata": {
        "colab": {
          "base_uri": "https://localhost:8080/"
        },
        "id": "aSSAxb_mtfT0",
        "outputId": "388fd7cd-a764-4912-9172-c1ed311ca063"
      },
      "execution_count": 4,
      "outputs": [
        {
          "output_type": "stream",
          "name": "stdout",
          "text": [
            "Entah sumin boi: harry\n",
            "Entah anothah shite: hermione\n",
            "hrrhr\n"
          ]
        }
      ]
    }
  ]
}