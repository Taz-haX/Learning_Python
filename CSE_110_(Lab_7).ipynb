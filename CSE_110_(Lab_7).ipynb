{
  "nbformat": 4,
  "nbformat_minor": 0,
  "metadata": {
    "colab": {
      "provenance": [],
      "authorship_tag": "ABX9TyNxzxqX5MLdq95M81kfMfv8",
      "include_colab_link": true
    },
    "kernelspec": {
      "name": "python3",
      "display_name": "Python 3"
    },
    "language_info": {
      "name": "python"
    }
  },
  "cells": [
    {
      "cell_type": "markdown",
      "metadata": {
        "id": "view-in-github",
        "colab_type": "text"
      },
      "source": [
        "<a href=\"https://colab.research.google.com/github/Taz-haX/Learning_Python/blob/main/CSE_110_(Lab_7).ipynb\" target=\"_parent\"><img src=\"https://colab.research.google.com/assets/colab-badge.svg\" alt=\"Open In Colab\"/></a>"
      ]
    },
    {
      "cell_type": "code",
      "execution_count": 1,
      "metadata": {
        "colab": {
          "base_uri": "https://localhost:8080/"
        },
        "id": "aZWMXxL-fM-p",
        "outputId": "e5c73369-8e93-4cd3-846d-70c3fd00e8f6"
      },
      "outputs": [
        {
          "output_type": "stream",
          "name": "stdout",
          "text": [
            "EWWWW I DIE\n"
          ]
        }
      ],
      "source": [
        "# TASK_1\n",
        "# Write a function called even_checker that takes a number as an argument and prints whether the number is even or odd inside the function.\n",
        "\n",
        "def odd_cdi(x):\n",
        "    if x%2 == 0:\n",
        "        print('YAAAAAS QUEEN')\n",
        "    else:\n",
        "        print('EWWWW I DIE')\n",
        "\n",
        "odd_cdi(5)"
      ]
    },
    {
      "cell_type": "code",
      "source": [
        "# TASK_2\n",
        "# Write a python function that takes the limit as an argument of the Fibonacci series and prints till that limit.\n",
        "\n",
        "def fibonacci(x):\n",
        "    pn = 0\n",
        "    sn = 1\n",
        "    pop = [0,1]\n",
        "    while True:\n",
        "        if pn>x:\n",
        "            break\n",
        "        elif pn>sn:\n",
        "            sn = pn+sn\n",
        "            if sn <= x:\n",
        "                pop.append(sn)\n",
        "        elif sn>pn or sn == pn:\n",
        "            pn = sn+pn\n",
        "            if pn <= x:\n",
        "                pop.append(pn)\n",
        "\n",
        "    print(pop)\n",
        "\n",
        "\n",
        "fibonacci(10)"
      ],
      "metadata": {
        "colab": {
          "base_uri": "https://localhost:8080/"
        },
        "id": "jrMpark1iHBa",
        "outputId": "ae491647-c4ee-4c2c-dce0-8dd9536def03"
      },
      "execution_count": 9,
      "outputs": [
        {
          "output_type": "stream",
          "name": "stdout",
          "text": [
            "[0, 1, 1, 2, 3, 5, 8]\n"
          ]
        }
      ]
    },
    {
      "cell_type": "code",
      "source": [
        "# TASK_3\n",
        "# Write a function called foo_moo that takes a number as an argument and returns the following statements according to the below mentioned conditions. Then, finally prints the statement in the function call.\n",
        "# If the number is divisible by 2, it should return \"Foo\".\n",
        "# If the number is divisible by 3, it should return \"Moo\".\n",
        "# If the number is divisible by both 2 and 3, it should return \"FooMoo\".\n",
        "# Otherwise, it returns \"Boo\".\n",
        "\n",
        "def foo_moo(x):\n",
        "    if x%2 == 0:\n",
        "        print('Foo')\n",
        "    elif x%3 == 0:\n",
        "        print('Moo')\n",
        "    elif x%2 == 0 and x%3 == 0:\n",
        "        print('FooMoo')\n",
        "    else:\n",
        "        print('Boo')\n",
        "\n",
        "foo_moo(69)"
      ],
      "metadata": {
        "colab": {
          "base_uri": "https://localhost:8080/"
        },
        "id": "oJeUf0-ur549",
        "outputId": "0cb94f1f-373f-4b93-cc1c-2bf960f87d66"
      },
      "execution_count": 10,
      "outputs": [
        {
          "output_type": "stream",
          "name": "stdout",
          "text": [
            "Moo\n"
          ]
        }
      ]
    },
    {
      "cell_type": "code",
      "source": [
        "# TASK_4\n",
        "# Write a python function that takes a string as an argument.\n",
        "# Your task is to calculate the number of uppercase letters and lowercase letters and print them in the function.\n",
        "\n",
        "def function_name(x):\n",
        "    lol = ''\n",
        "    pop = 0\n",
        "    lop = 0\n",
        "\n",
        "    for i in x:\n",
        "        if i == ' ':\n",
        "            pass\n",
        "        else:\n",
        "            lol+=i\n",
        "\n",
        "    for i in lol:\n",
        "        if 65 <= ord(i) <= 90:\n",
        "            pop += 1\n",
        "        else:\n",
        "            lop += 1\n",
        "    print('Numbah of Uppah casae:',pop)\n",
        "    print('Numbah of loweru casu:',lop)\n",
        "\n",
        "function_name('The quick Sand Man')"
      ],
      "metadata": {
        "colab": {
          "base_uri": "https://localhost:8080/"
        },
        "id": "O42HOuKouW57",
        "outputId": "fca7fd0b-39bb-4f1f-b433-9b8651608705"
      },
      "execution_count": 11,
      "outputs": [
        {
          "output_type": "stream",
          "name": "stdout",
          "text": [
            "Numbah of Uppah casae: 3\n",
            "Numbah of loweru casu: 12\n"
          ]
        }
      ]
    },
    {
      "cell_type": "code",
      "source": [
        "# TASK_5\n",
        "# Write a function called calculate_tax that takes 3 arguments: your age, salary, and current job designation.\n",
        "# Your first task is to take these arguments as user input and pass these values to the function.\n",
        "# Your second task is to implement the function and calculate the tax as the following conditions:\n",
        "# NO TAX IF YOU ARE LESS THAN 18 YEARS OLD.\n",
        "# NO TAX IF YOU ARE THE PRESIDENT OF THE COMPANY\n",
        "# No tax if you get paid less than 10,000\n",
        "# 5% tax if you get paid between 10K and 20K\n",
        "# 10% tax if you get paid more than 20K\n",
        "# Finally return this tax value. Then print the returned value in the function call.\n",
        "\n",
        "def calculate_tax(x,y,z):\n",
        "    hex = 0\n",
        "    if x>=18:\n",
        "        if z != 'president':\n",
        "            if y >= 10000:\n",
        "                if 20000 >= y:\n",
        "                    hex = y*(5/100)\n",
        "                    print('Your tax is:', hex)\n",
        "                else:\n",
        "                    hex = y*(10/100)\n",
        "                    print('Your tax is:', hex)\n",
        "            else:\n",
        "                print('No tax if you get paid less than 10,000')\n",
        "        else:\n",
        "            print('NO TAX IF YOU ARE THE PRESIDENT OF THE COMPANY')\n",
        "    else:\n",
        "        print('NO TAX IF YOU ARE LESS THAN 18 YEARS OLD.')\n",
        "\n",
        "toto = int(input('Boyosh: '))\n",
        "poto = int(input('Teka: '))\n",
        "zoto = input('Fozition: ').lower()\n",
        "\n",
        "calculate_tax(toto,poto,zoto)"
      ],
      "metadata": {
        "colab": {
          "base_uri": "https://localhost:8080/"
        },
        "id": "7TajBhQo4d4Q",
        "outputId": "7e86a374-6d0b-42ce-d3ee-f2997f88fbee"
      },
      "execution_count": 12,
      "outputs": [
        {
          "output_type": "stream",
          "name": "stdout",
          "text": [
            "Boyosh: 20\n",
            "Teka: 30000\n",
            "Fozition: PRESIDENT\n",
            "NO TAX IF YOU ARE THE PRESIDENT OF THE COMPANY\n"
          ]
        }
      ]
    },
    {
      "cell_type": "code",
      "source": [
        "# TASK_6\n",
        "# Write a function which will take 1 argument, number of days.\n",
        "# Your first task is to take the number of days as user input and pass the value to the function.\n",
        "# Your second task is to implement the function and calculate the total number of years, number of months, and the remaining number of days as output.\n",
        "# No need to return any value, print inside the function.\n",
        "\n",
        "def function_name(x):\n",
        "    pol = x//365\n",
        "\n",
        "    tol = x - (pol*365)\n",
        "    sol = tol//30\n",
        "    bol = tol - (sol*30)\n",
        "\n",
        "    print(pol,'years,',sol,'months,',bol,'days')\n",
        "\n",
        "function_name(4330)"
      ],
      "metadata": {
        "colab": {
          "base_uri": "https://localhost:8080/"
        },
        "id": "Ok4-9k2M-PFE",
        "outputId": "5057bae9-d06f-4d5a-ea6d-302bd314be2b"
      },
      "execution_count": 13,
      "outputs": [
        {
          "output_type": "stream",
          "name": "stdout",
          "text": [
            "11 years, 10 months, 15 days\n"
          ]
        }
      ]
    },
    {
      "cell_type": "code",
      "source": [
        "# TASK_7\n",
        "# Write a function called show_palindrome that takes a number as an argument and then returns a palindrome string.\n",
        "# Finally, prints the returned value in the function call.\n",
        "\n",
        "def show_palindrome(x):\n",
        "\n",
        "    lol = ''\n",
        "\n",
        "    for i in range(x):\n",
        "        if i == 0:\n",
        "            pass\n",
        "        else:\n",
        "            lol += str(i)\n",
        "\n",
        "    lol += str(x)\n",
        "\n",
        "    for i in range(x,0,-1):\n",
        "        if i == x:\n",
        "            pass\n",
        "        else:\n",
        "            lol += str(i)\n",
        "\n",
        "    print(lol)\n",
        "\n",
        "show_palindrome(5)"
      ],
      "metadata": {
        "colab": {
          "base_uri": "https://localhost:8080/"
        },
        "id": "BMKueYGwCDqi",
        "outputId": "cc576da7-2f35-49f1-fb2f-da6d5db97e3b"
      },
      "execution_count": 14,
      "outputs": [
        {
          "output_type": "stream",
          "name": "stdout",
          "text": [
            "123454321\n"
          ]
        }
      ]
    },
    {
      "cell_type": "code",
      "source": [
        "# TASK_9\n",
        "# Write a function called area_circumference_generator that takes a radius of a circle as a function parameter and calculates its circumference and area.\n",
        "# Then returns these two results as a tuple and prints the results using tuple unpacking in the function call according to the given format.\n",
        "\n",
        "def area_circumference_generator(x):\n",
        "    pot = 3.141592653589793*(x**2)\n",
        "    tot = 2*3.141592653589793*x\n",
        "\n",
        "    print('Area: ',pot)\n",
        "    print('Circumference: ',tot)\n",
        "\n",
        "area_circumference_generator(1.5)"
      ],
      "metadata": {
        "colab": {
          "base_uri": "https://localhost:8080/"
        },
        "id": "_DWiZUXhIONS",
        "outputId": "4e73c5d5-fa5e-452f-b8ab-98aaea89865e"
      },
      "execution_count": 15,
      "outputs": [
        {
          "output_type": "stream",
          "name": "stdout",
          "text": [
            "Area:  7.0685834705770345\n",
            "Circumference:  9.42477796076938\n"
          ]
        }
      ]
    },
    {
      "cell_type": "code",
      "source": [
        "# TASK_10\n",
        "# Write a function called make_square that takes a tuple in the parameter as a range of numbers (starting point and ending point (included)).\n",
        "# The function should return a dictionary with the numbers as keys and its squares as values.\n",
        "\n",
        "def make_square(x):\n",
        "\n",
        "    bass = 0\n",
        "    tiss = 0\n",
        "    hot = {}\n",
        "\n",
        "    for i in range(x):\n",
        "        bass += i+1\n",
        "        tiss += (i+1)**2\n",
        "        hot[bass] = tiss\n",
        "        bass = 0\n",
        "        tiss = 0\n",
        "\n",
        "    print(hot)\n",
        "\n",
        "make_square(5)"
      ],
      "metadata": {
        "colab": {
          "base_uri": "https://localhost:8080/"
        },
        "id": "UDJj4dC_MlCN",
        "outputId": "ede33bb6-c454-46fa-89ea-afd79a7d7e2d"
      },
      "execution_count": 17,
      "outputs": [
        {
          "output_type": "stream",
          "name": "stdout",
          "text": [
            "{1: 1, 2: 4, 3: 9, 4: 16, 5: 25}\n"
          ]
        }
      ]
    },
    {
      "cell_type": "code",
      "source": [
        "# TASK_11\n",
        "# Write a function called rem_duplicate that takes a tuple in the parameter and return a tuple removing all the duplicate values.\n",
        "# Then print the returned tuple in the function call.\n",
        "# [Cannot use remove() or removed() for this task]\n",
        "\n",
        "def rem_duplicate(loty):\n",
        "\n",
        "    doty = list(loty)\n",
        "    poty = []\n",
        "\n",
        "    for i in doty:\n",
        "        if i not in poty:\n",
        "            poty.append(i)\n",
        "        else:\n",
        "            pass\n",
        "\n",
        "    loty = tuple(poty)\n",
        "    print(loty)\n",
        "\n",
        "rem_duplicate((1,1,1,2,3,4,5,6,6,6,6,4,0,0,0))"
      ],
      "metadata": {
        "colab": {
          "base_uri": "https://localhost:8080/"
        },
        "id": "4HAWF2qlPC5Q",
        "outputId": "0a0afcdf-f9f5-49b8-a611-2a6258b56219"
      },
      "execution_count": 18,
      "outputs": [
        {
          "output_type": "stream",
          "name": "stdout",
          "text": [
            "(1, 2, 3, 4, 5, 6, 0)\n"
          ]
        }
      ]
    },
    {
      "cell_type": "code",
      "source": [
        "# TASK_12\n",
        "# Write a python function that takes a list as an argument.\n",
        "# Your task is to create a new list where each element can be present at max 2 times.\n",
        "# Inside the function, print the number of elements removed from the given list. Finally, return the new list and print the result.\n",
        "\n",
        "def function_name(x):\n",
        "\n",
        "    tol = []\n",
        "    pol = 0\n",
        "\n",
        "    for i in x:\n",
        "        if i not in tol:\n",
        "            tol.append(i)\n",
        "        elif 1 >= tol.count(i):\n",
        "            tol.append(i)\n",
        "        else:\n",
        "            pol += 1\n",
        "\n",
        "    chol = tuple(tol)\n",
        "\n",
        "    print('Number of items removed:',pol)\n",
        "    print(chol)\n",
        "\n",
        "function_name([1, 2, 3, 3, 3, 3, 4, 5, 8, 8])"
      ],
      "metadata": {
        "colab": {
          "base_uri": "https://localhost:8080/"
        },
        "id": "dNU1WSEWRsJ0",
        "outputId": "58a34a56-58cc-4779-bd02-641fced2f01a"
      },
      "execution_count": 19,
      "outputs": [
        {
          "output_type": "stream",
          "name": "stdout",
          "text": [
            "Number of items removed: 2\n",
            "(1, 2, 3, 3, 4, 5, 8, 8)\n"
          ]
        }
      ]
    },
    {
      "cell_type": "code",
      "source": [
        "# TASK_13\n",
        "# Write a python function that will perform the basic calculation (addition, subtraction, multiplication and division) based on 3 arguments. They are:\n",
        "# Operator ('+', '-', '/', '*')\n",
        "# First Operand (any number)\n",
        "# Second Operand (any number)\n",
        "# Your first task is to take these arguments as user input and pass the values to the function parameters.\n",
        "# Your second task is to write a function and perform the calculation based on the given operator.\n",
        "# Then, finally return the result in the function call and print the result.\n",
        "\n",
        "def function_name(x,y,z):\n",
        "    if x == '+':\n",
        "        print(y+z)\n",
        "    if x == '*':\n",
        "        print(y*z)\n",
        "    if x == '-':\n",
        "        if y>=z:\n",
        "            print(y-z)\n",
        "        else:\n",
        "            print(z-y)\n",
        "    if x == '/':\n",
        "        if y>=z:\n",
        "            print(y/z)\n",
        "        else:\n",
        "            print(z/y)\n",
        "\n",
        "op = input(\"Enter Operator ('+', '-', '/', '*'): \")\n",
        "num_1 = int(input('Entah number: '))\n",
        "num_2 = int(input('Entah other numbah: '))\n",
        "\n",
        "function_name(op,num_1,num_2)"
      ],
      "metadata": {
        "colab": {
          "base_uri": "https://localhost:8080/"
        },
        "id": "VnHjU62hfq19",
        "outputId": "d7e9ba1a-b460-41e7-cd9d-64a4e687a568"
      },
      "execution_count": 21,
      "outputs": [
        {
          "output_type": "stream",
          "name": "stdout",
          "text": [
            "Enter Operator ('+', '-', '/', '*'): /\n",
            "Entah number: 69\n",
            "Entah other numbah: 420\n",
            "6.086956521739131\n"
          ]
        }
      ]
    },
    {
      "cell_type": "code",
      "source": [
        "# TASK_14\n",
        "# Write a function which will take 2 arguments. They are:\n",
        "# Sentence\n",
        "# Position\n",
        "# Your first task is to take these arguments as user input and pass these values to the function parameters.\n",
        "# Your second task is to implement the function and remove the characters at the index number which is divisible by the position\n",
        "# (Avoid the index number 0 as it will always be divisible by the position, so no need to remove the index 0 character).\n",
        "# Finally, add the removed characters at the end of the new string.\n",
        "# Return the value and then finally, print the new string at the function call.\n",
        "# [Cannot use remove() or removed() for this task]\n",
        "\n",
        "def function_name(x,y):\n",
        "    bol = ''\n",
        "    hol = ''\n",
        "    for i in range(len(x)):\n",
        "        if i == 0:\n",
        "            bol += x[i]\n",
        "        elif i%y == 0:\n",
        "            hol += x[i]\n",
        "        else:\n",
        "            bol += x[i]\n",
        "\n",
        "    print(bol+hol)\n",
        "\n",
        "pot = input('Say sumn weird: ')\n",
        "hot = int(input('Lay a numbah: '))\n",
        "\n",
        "function_name(pot,hot)"
      ],
      "metadata": {
        "colab": {
          "base_uri": "https://localhost:8080/"
        },
        "id": "CP1OzQNHjS5l",
        "outputId": "ede56d26-d1eb-4b6d-8f84-168a74e19b18"
      },
      "execution_count": 22,
      "outputs": [
        {
          "output_type": "stream",
          "name": "stdout",
          "text": [
            "Say sumn weird: Python is easy to learn. I love python.\n",
            "Lay a numbah: 6\n",
            "Pythonis eay to earn.I lov pythn. sl eo\n"
          ]
        }
      ]
    },
    {
      "cell_type": "code",
      "source": [
        "# TASK_15\n",
        "# You have been hired as an app developer for the company. The company plans to make an app for a grocery store where the user can order groceries and see the total amount to be paid in the cart section.\n",
        "# To build this feature, you have to write a function that takes 2 arguments. They are:\n",
        "# order_items (must be a list)\n",
        "# location (default value should be set to \"Dhanmondi\")\n",
        "# Your first task is to take a list of items from the user. Pass the list into the function parameter along with the optional location (Use default argument technique).\n",
        "# (Also, no need to take location as input, pass this any value you want.)\n",
        "# Your second task is to implement the function. In the function, create a dictionary for the items shown in the table.\n",
        "# Calculate the total price of the items passed as a list to the function. Additionally, add a delivery fee of 30 taka if the location is Dhanmondi.\n",
        "# Otherwise, add a delivery fee of 70 taka. Finally, return the value and print it.\n",
        "# Item    Price(Tk)\n",
        "# Rice    105\n",
        "# Potato  20\n",
        "# Chicken 250\n",
        "# Beef    510\n",
        "# Oil     85\n",
        "\n",
        "def gross_bag(p,q):\n",
        "    g_list = {'Rice': 105, 'Potato': 20, 'Chicken': 250, 'Beef': 510, 'Oil': 85}\n",
        "    pop = 0\n",
        "    for i in p:\n",
        "        pop += g_list.get(i)\n",
        "\n",
        "    if top == \"dhanmodndi\":\n",
        "        pop += 30\n",
        "    else:\n",
        "        pop += 70\n",
        "\n",
        "    print(pop)\n",
        "\n",
        "sog = []\n",
        "\n",
        "op = int(input('Entah numbah of items ye want: '))\n",
        "\n",
        "for i in range(op):\n",
        "    x = input('Entah ye item (Rice, Potato, Chicken, Beef, Oil): ')\n",
        "    sog.append(x)\n",
        "\n",
        "top = input('Entah location- Dhanmondi(y/n): ').lower()\n",
        "\n",
        "if top == 'y':\n",
        "    top = \"dhanmodndi\"\n",
        "else:\n",
        "    top = input('Entah ya bloody location: ')\n",
        "\n",
        "gross_bag(sog,top)"
      ],
      "metadata": {
        "colab": {
          "base_uri": "https://localhost:8080/"
        },
        "id": "dyYuryNwmEq9",
        "outputId": "b107fb29-8f4d-42e6-b144-c07f3f59a0d4"
      },
      "execution_count": 23,
      "outputs": [
        {
          "output_type": "stream",
          "name": "stdout",
          "text": [
            "Entah numbah of items ye want: 3\n",
            "Entah ye item (Rice, Potato, Chicken, Beef, Oil): Rice\n",
            "Entah ye item (Rice, Potato, Chicken, Beef, Oil): Beef\n",
            "Entah ye item (Rice, Potato, Chicken, Beef, Oil): Rice\n",
            "Entah location- Dhanmondi(y/n): n\n",
            "Entah ya bloody location: mohakhali\n",
            "790\n"
          ]
        }
      ]
    }
  ]
}