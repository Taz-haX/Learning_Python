{
  "nbformat": 4,
  "nbformat_minor": 0,
  "metadata": {
    "colab": {
      "provenance": [],
      "authorship_tag": "ABX9TyOsjaRf8Yu9Wji8eccdblGv",
      "include_colab_link": true
    },
    "kernelspec": {
      "name": "python3",
      "display_name": "Python 3"
    },
    "language_info": {
      "name": "python"
    }
  },
  "cells": [
    {
      "cell_type": "markdown",
      "metadata": {
        "id": "view-in-github",
        "colab_type": "text"
      },
      "source": [
        "<a href=\"https://colab.research.google.com/github/Taz-haX/Learning_Python/blob/main/CSE_110_(Lab_5).ipynb\" target=\"_parent\"><img src=\"https://colab.research.google.com/assets/colab-badge.svg\" alt=\"Open In Colab\"/></a>"
      ]
    },
    {
      "cell_type": "code",
      "execution_count": null,
      "metadata": {
        "id": "a0xorfYPhbH4",
        "colab": {
          "base_uri": "https://localhost:8080/"
        },
        "outputId": "5b1ae571-d764-4e19-b066-2d8dcdef72de"
      },
      "outputs": [
        {
          "output_type": "stream",
          "name": "stdout",
          "text": [
            "Enter a number: 3\n",
            "[3]\n",
            "Enter a number: 5\n",
            "[3, 5]\n",
            "Enter a number: 34\n",
            "[3, 5, 34]\n",
            "Enter a number: -11\n",
            "[3, 5, 34, -11]\n",
            "Enter a number: 0\n",
            "[3, 5, 34, -11, 0]\n"
          ]
        }
      ],
      "source": [
        "# TASK_1\n",
        "# Write a Python program that reads 5 numbers from the user into a list.\n",
        "# After reading each number, print all the numbers that have been entered so far in the list.\n",
        "\n",
        "tok = []\n",
        "while len(tok) != 5:\n",
        "    x = int(input('Enter a number: '))\n",
        "    tok.append(x)\n",
        "    print(tok)"
      ]
    },
    {
      "cell_type": "code",
      "source": [
        "# TASK_2\n",
        "# Write a Python program that takes an input from the user,\n",
        "# then creates a new list excluding the first and last two elements of the given list and prints the new list.\n",
        "# If there are not enough elements in the list to do the task, print \"Not possible\".\n",
        "\n",
        "tot = []\n",
        "\n",
        "while True:\n",
        "    x = int(input('Entah a bloody numbah: '))\n",
        "\n",
        "    tot.append(x)\n",
        "    lul = input('Entah more?(y/n): ').lower()\n",
        "    if lul == 'n':\n",
        "        break\n",
        "\n",
        "if len(tot) <= 4:\n",
        "    print('Not possible, ye dummitch')\n",
        "else:\n",
        "    print(tot[2:len(tot)-2])"
      ],
      "metadata": {
        "id": "oXGdB1Fp0NHQ",
        "colab": {
          "base_uri": "https://localhost:8080/"
        },
        "outputId": "02f88bbb-2a9a-4fee-f012-0f81603b460b"
      },
      "execution_count": 3,
      "outputs": [
        {
          "output_type": "stream",
          "name": "stdout",
          "text": [
            "Entah a bloody numbah: 1\n",
            "Entah more?(y/n): y\n",
            "Entah a bloody numbah: 2\n",
            "Entah more?(y/n): y\n",
            "Entah a bloody numbah: 69\n",
            "Entah more?(y/n): y\n",
            "Entah a bloody numbah: 429\n",
            "Entah more?(y/n): y\n",
            "Entah a bloody numbah: 3\n",
            "Entah more?(y/n): y\n",
            "Entah a bloody numbah: 4\n",
            "Entah more?(y/n): n\n",
            "[69, 429]\n"
          ]
        }
      ]
    },
    {
      "cell_type": "code",
      "source": [
        "5\n",
        "66# TASK_3\n",
        "# Write a python program that reads 5 numbers from the user into a list, and then prints them in the reverse order.\n",
        "\n",
        "tot = [0]\n",
        "\n",
        "while len(tot) != 6:\n",
        "    x = int(input('Entah numbah bois: '))\n",
        "    tot.append(x)\n",
        "\n",
        "for i in tot[len(tot):0:-1]:\n",
        "    print(i)"
      ],
      "metadata": {
        "colab": {
          "base_uri": "https://localhost:8080/"
        },
        "id": "sna-Wwly8sXK",
        "outputId": "6fa5a443-d8aa-4e44-864b-71569f8e2422"
      },
      "execution_count": 6,
      "outputs": [
        {
          "output_type": "stream",
          "name": "stdout",
          "text": [
            "Entah numbah bois: 2\n",
            "Entah numbah bois: 3\n",
            "Entah numbah bois: 6\n",
            "Entah numbah bois: 5\n",
            "Entah numbah bois: 8\n",
            "8\n",
            "5\n",
            "6\n",
            "3\n",
            "2\n"
          ]
        }
      ]
    },
    {
      "cell_type": "code",
      "source": [
        "# TASK_4\n",
        "# Write a Python program that turns every item of a list into its square.\n",
        "# [Your program should work for any lists; make changes to the lists below and check whether your program works correctly]\n",
        "\n",
        "tot = []\n",
        "bot = []\n",
        "\n",
        "while True:\n",
        "    x = int(input('Entah a bloody numbah: '))\n",
        "\n",
        "    tot.append(x)\n",
        "    bot.append(x**2)\n",
        "    lul = input('Entah more?(y/n): ').lower()\n",
        "    if lul == 'n':\n",
        "        break\n",
        "\n",
        "print(tot)\n",
        "print(bot)"
      ],
      "metadata": {
        "colab": {
          "base_uri": "https://localhost:8080/"
        },
        "id": "WXOTgpJNABEX",
        "outputId": "f8259496-efca-44dc-8c1b-ab4191f9edfb"
      },
      "execution_count": 4,
      "outputs": [
        {
          "output_type": "stream",
          "name": "stdout",
          "text": [
            "Entah a bloody numbah: 4\n",
            "Entah more?(y/n): y\n",
            "Entah a bloody numbah: 6\n",
            "Entah more?(y/n): y\n",
            "Entah a bloody numbah: 3\n",
            "Entah more?(y/n): y\n",
            "Entah a bloody numbah: 8\n",
            "Entah more?(y/n): n\n",
            "[4, 6, 3, 8]\n",
            "[16, 36, 9, 64]\n"
          ]
        }
      ]
    },
    {
      "cell_type": "code",
      "source": [
        "34\n",
        "# TASK_5\n",
        "# Write a Python program that removes all Empty strings from a given list and prints the modified list.\n",
        "# [Your program should work for any given list; make changes to the list below and check whether your program works correctly]\n",
        "\n",
        "tot = []\n",
        "bot = []\n",
        "op = int(input('Entah the number of shite ya wanna input to the list: '))\n",
        "\n",
        "for i in range(op):\n",
        "    x = input('Entah whatever manh: ')\n",
        "    tot.append(x)\n",
        "\n",
        "for i in tot:\n",
        "    if i == '':\n",
        "        pass\n",
        "    else:\n",
        "        bot.append(i)\n",
        "\n",
        "\n",
        "print('Original list: ',tot)\n",
        "print('Edited list: ',bot)"
      ],
      "metadata": {
        "colab": {
          "base_uri": "https://localhost:8080/"
        },
        "id": "qpc_bBeaD5QM",
        "outputId": "52037e42-784e-43cf-f2f6-22b9bf97e286"
      },
      "execution_count": 8,
      "outputs": [
        {
          "output_type": "stream",
          "name": "stdout",
          "text": [
            "Entah the number of shite ya wanna input to the list: 6\n",
            "Entah whatever manh: 2\n",
            "Entah whatever manh: \n",
            "Entah whatever manh: 5\n",
            "Entah whatever manh: \n",
            "Entah whatever manh: 6\n",
            "Entah whatever manh: 34\n",
            "Original list:  ['2', '', '5', '', '6', '34']\n",
            "Edited list:  ['2', '5', '6', '34']\n"
          ]
        }
      ]
    },
    {
      "cell_type": "code",
      "source": [
        "# TASK_6\n",
        "# Write a Python program that reads a string containing 7 numbers separated by commas,\n",
        "# then makes a list of those numbers and prints the largest number and its location or index position in the list.\n",
        "# [You are not allowed to use the max(), sort(), sorted() function here]\n",
        "\n",
        "tot = []\n",
        "x = input('numbers spaced by commas biss: ')\n",
        "y = ''\n",
        "bot = 0\n",
        "\n",
        "for i in range(len(x)):\n",
        "    if i == len(x)-1:\n",
        "        y += x[i]\n",
        "        z = int(y)\n",
        "        tot.append(z)\n",
        "        y = ''\n",
        "    elif x[i] != ',':\n",
        "        y += x[i]\n",
        "    elif x[i] == ',':\n",
        "        z = int(y)\n",
        "        tot.append(z)\n",
        "        y = ''\n",
        "\n",
        "for i in tot:\n",
        "    if bot < i:\n",
        "        bot = i\n",
        "\n",
        "print(tot)\n",
        "print('The biggest number is',bot,'and it''s ''index is',tot.index(bot))"
      ],
      "metadata": {
        "colab": {
          "base_uri": "https://localhost:8080/"
        },
        "id": "KjFdQUK4GMKR",
        "outputId": "843008a2-866c-461d-d1f5-5464004331b5"
      },
      "execution_count": 7,
      "outputs": [
        {
          "output_type": "stream",
          "name": "stdout",
          "text": [
            "numbers spaced by commas biss: 7,13,2,10,6,-11,0\n",
            "[7, 13, 2, 10, 6, -11, 0]\n",
            "The biggest number is 13 and its index is 1\n"
          ]
        }
      ]
    },
    {
      "cell_type": "code",
      "source": [
        "# TASK_7\n",
        "# Suppose you have been given two lists.\n",
        "# Write a Python program that replaces the last element of the first list with the second list.\n",
        "# 4[Your program should work for any two given lists; make changes to the lists below and check whether your program works correctly]\n",
        "\n",
        "List_1 = []\n",
        "List_1x = []\n",
        "List_2 = []\n",
        "op = int(input('Entah numbah of elements for first list: '))\n",
        "\n",
        "for i in range(op):\n",
        "    x = int(input('Entah numbeh for list one: '))\n",
        "    List_1.append(x)\n",
        "\n",
        "dok = int(input('Entah numbah of elements for second list: '))\n",
        "\n",
        "for i in range(dok):\n",
        "    y = int(input('Entah numbeh for list two: '))\n",
        "    List_2.append(y)\n",
        "\n",
        "print(List_1)\n",
        "print(List_2)\n",
        "\n",
        "List_1x = List_1\n",
        "\n",
        "del List_1x[len(List_1x)-1]\n",
        "\n",
        "for i in List_2:\n",
        "    List_1x.append(i)\n",
        "\n",
        "print(List_1x)"
      ],
      "metadata": {
        "colab": {
          "base_uri": "https://localhost:8080/"
        },
        "id": "roaH3gM4Tdhg",
        "outputId": "fc1b5be2-fe3c-4b52-c162-820a32ef0e0a"
      },
      "execution_count": 9,
      "outputs": [
        {
          "output_type": "stream",
          "name": "stdout",
          "text": [
            "Entah numbah of elements for first list: 6\n",
            "Entah numbeh for list one: 1\n",
            "Entah numbeh for list one: 3\n",
            "Entah numbeh for list one: 5\n",
            "Entah numbeh for list one: 7\n",
            "Entah numbeh for list one: 9\n",
            "Entah numbeh for list one: 10\n",
            "Entah numbah of elements for second list: 4\n",
            "Entah numbeh for list two: 2\n",
            "Entah numbeh for list two: 4\n",
            "Entah numbeh for list two: 6\n",
            "Entah numbeh for list two: 8\n",
            "[1, 3, 5, 7, 9, 10]\n",
            "[2, 4, 6, 8]\n",
            "[1, 3, 5, 7, 9, 2, 4, 6, 8]\n"
          ]
        }
      ]
    },
    {
      "cell_type": "code",
      "source": [
        "# TASK_8\n",
        "# Assume, you have been given two lists.\n",
        "# Write a Python program that creates a new list with all the even elements of both of the given lists and prints the new list.\n",
        "\n",
        "List_1 = []\n",
        "List_1x = []\n",
        "List_2 = []\n",
        "op = int(input('Entah numbah of elements for first list: '))\n",
        "\n",
        "for i in range(op):\n",
        "    x = int(input('Entah numbeh for list one: '))\n",
        "    List_1.append(x)\n",
        "\n",
        "dok = int(input('Entah numbah of elements for second list: '))\n",
        "\n",
        "for i in range(dok):\n",
        "    y = int(input('Entah numbeh for list two: '))\n",
        "    List_2.append(y)\n",
        "\n",
        "print(List_1)\n",
        "print(List_2)\n",
        "\n",
        "for i in List_1:\n",
        "    if i%2 == 0:\n",
        "        List_1x.append(i)\n",
        "\n",
        "for i in List_2:\n",
        "    if i%2 == 0:\n",
        "        List_1x.append(i)\n",
        "\n",
        "print(List_1x)"
      ],
      "metadata": {
        "colab": {
          "base_uri": "https://localhost:8080/"
        },
        "id": "JckESL2Fg44R",
        "outputId": "06773390-18d1-4bba-a0af-8e58c482ebf7"
      },
      "execution_count": 10,
      "outputs": [
        {
          "output_type": "stream",
          "name": "stdout",
          "text": [
            "Entah numbah of elements for first list: 9\n",
            "Entah numbeh for list one: 1\n",
            "Entah numbeh for list one: 2\n",
            "Entah numbeh for list one: 3\n",
            "Entah numbeh for list one: 4\n",
            "Entah numbeh for list one: 5\n",
            "Entah numbeh for list one: 6\n",
            "Entah numbeh for list one: 7\n",
            "Entah numbeh for list one: 8\n",
            "Entah numbeh for list one: 9\n",
            "Entah numbah of elements for second list: 7\n",
            "Entah numbeh for list two: 10\n",
            "Entah numbeh for list two: 11\n",
            "Entah numbeh for list two: 12\n",
            "Entah numbeh for list two: -13\n",
            "Entah numbeh for list two: -14\n",
            "Entah numbeh for list two: -15\n",
            "Entah numbeh for list two: -16\n",
            "[1, 2, 3, 4, 5, 6, 7, 8, 9]\n",
            "[10, 11, 12, -13, -14, -15, -16]\n",
            "[2, 4, 6, 8, 10, 12, -14, -16]\n"
          ]
        }
      ]
    },
    {
      "cell_type": "code",
      "source": [
        "# TASK_9\n",
        "# Write a Python program that reads a string as an input from the user where multiple numbers are separated by spaces.\n",
        "# Then, make a list of numbers from the input string without using the split() function and print the list.\n",
        "# Finally, remove all the occurrences of even numbers from the same input list and print the modified list.\n",
        "\n",
        "tot = []\n",
        "x = input('numbers spaced by spaces biss: ')\n",
        "y = ''\n",
        "bot = []\n",
        "\n",
        "for i in range(len(x)):\n",
        "    if i == len(x)-1:\n",
        "        y += x[i]\n",
        "        z = int(y)\n",
        "        tot.append(z)\n",
        "        y = ''\n",
        "    elif x[i] != ' ':\n",
        "        y += x[i]\n",
        "    elif x[i] == ' ':\n",
        "        z = int(y)\n",
        "        tot.append(z)\n",
        "        y = ''\n",
        "\n",
        "print(tot)\n",
        "\n",
        "for i in tot:\n",
        "    if i%2!=0:\n",
        "        bot.append(i)\n",
        "\n",
        "print(bot)"
      ],
      "metadata": {
        "colab": {
          "base_uri": "https://localhost:8080/"
        },
        "id": "a5TSN8bwm27m",
        "outputId": "2167fb71-3d00-40c1-98c0-bcaaedade0c1"
      },
      "execution_count": 12,
      "outputs": [
        {
          "output_type": "stream",
          "name": "stdout",
          "text": [
            "numbers spaced by spaces biss: 7 12 4 55 96 2 11 61 33 42\n",
            "[7, 12, 4, 55, 96, 2, 11, 61, 33, 42]\n",
            "[7, 55, 11, 61, 33]\n"
          ]
        }
      ]
    },
    {
      "cell_type": "code",
      "source": [
        "# TASK_10\n",
        "# Write a Python program that reads a string as an input from the user where multiple numbers are separated by commas.\n",
        "# Then, make a list of numbers from the input string and print the list.\n",
        "# Finally, remove multiple occurrences of any numbers from the input list and print the modified list without duplicate values.\n",
        "\n",
        "tot = []\n",
        "x = input('numbers spaced by commas biss: ')\n",
        "y = ''\n",
        "bot = []\n",
        "\n",
        "for i in range(len(x)):\n",
        "    if i == len(x)-1:\n",
        "        y += x[i]\n",
        "        z = int(y)\n",
        "        tot.append(z)\n",
        "        y = ''\n",
        "    elif x[i] != ',':\n",
        "        y += x[i]\n",
        "    elif x[i] == ',':\n",
        "        z = int(y)\n",
        "        tot.append(z)\n",
        "        y = ''\n",
        "\n",
        "pot = tot[len(tot)-1]\n",
        "\n",
        "for i in tot:\n",
        "    if i in bot:\n",
        "        pass\n",
        "    else:\n",
        "        bot.append(i)\n",
        "print(tot)\n",
        "print(bot)"
      ],
      "metadata": {
        "colab": {
          "base_uri": "https://localhost:8080/"
        },
        "id": "DSR_mqP5q9w5",
        "outputId": "fc3f6c9b-ecb4-488f-fbd9-f4d4a0ce0778"
      },
      "execution_count": 14,
      "outputs": [
        {
          "output_type": "stream",
          "name": "stdout",
          "text": [
            "numbers spaced by commas biss: 0, 0, 1, 2, 3, 4, 4, 5, 6, 6, 6, 7, 8, 9, 4, 4\n",
            "[0, 0, 1, 2, 3, 4, 4, 5, 6, 6, 6, 7, 8, 9, 4, 4]\n",
            "[0, 1, 2, 3, 4, 5, 6, 7, 8, 9]\n"
          ]
        }
      ]
    },
    {
      "cell_type": "code",
      "source": [
        "# TASK_11\n",
        "# Assume, you have been given two lists: List_one and List_two.\n",
        "# [Your program should work for any two given lists; change the following lists and check whether your program works correctly for the code you have written]\n",
        "# Write a Python program that prints \"True\", if the given two lists have at least one common member. Otherwise, print \"False\".\n",
        "\n",
        "List_1 = []\n",
        "List_2 = []\n",
        "\n",
        "dot = 0\n",
        "bot = 0\n",
        "\n",
        "op = int(input('Entah numbah of elements for first list: '))\n",
        "\n",
        "for i in range(op):\n",
        "    x = int(input('Entah numbeh for list one: '))\n",
        "    List_1.append(x)\n",
        "\n",
        "dok = int(input('Entah numbah of elements for second list: '))\n",
        "\n",
        "for i in range(dok):\n",
        "    y = int(input('Entah numbeh for list two: '))\n",
        "    List_2.append(y)\n",
        "\n",
        "print(List_1)\n",
        "print(List_2)\n",
        "\n",
        "for i in List_1:\n",
        "    if i in List_2:\n",
        "        dot += 1\n",
        "    else:\n",
        "        pass\n",
        "\n",
        "for i in List_2:\n",
        "    if i in List_1:\n",
        "        bot += 1\n",
        "    else:\n",
        "        pass\n",
        "\n",
        "if bot > 0 or dot > 0:\n",
        "    print('True')\n",
        "if bot == 0 and dot == 0:\n",
        "    print('False')"
      ],
      "metadata": {
        "colab": {
          "base_uri": "https://localhost:8080/"
        },
        "id": "LbzQB4SXzl57",
        "outputId": "d5631d17-d58e-47f3-8365-157875b18e4c"
      },
      "execution_count": 15,
      "outputs": [
        {
          "output_type": "stream",
          "name": "stdout",
          "text": [
            "Entah numbah of elements for first list: 5\n",
            "Entah numbeh for list one: 1\n",
            "Entah numbeh for list one: 4\n",
            "Entah numbeh for list one: 3\n",
            "Entah numbeh for list one: 2\n",
            "Entah numbeh for list one: 6\n",
            "Entah numbah of elements for second list: 5\n",
            "Entah numbeh for list two: 5\n",
            "Entah numbeh for list two: 6\n",
            "Entah numbeh for list two: 9\n",
            "Entah numbeh for list two: 8\n",
            "Entah numbeh for list two: 7\n",
            "[1, 4, 3, 2, 6]\n",
            "[5, 6, 9, 8, 7]\n",
            "True\n"
          ]
        }
      ]
    }
  ]
}