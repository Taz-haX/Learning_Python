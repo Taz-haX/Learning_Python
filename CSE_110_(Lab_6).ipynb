{
  "nbformat": 4,
  "nbformat_minor": 0,
  "metadata": {
    "colab": {
      "provenance": [],
      "authorship_tag": "ABX9TyOob9li7UIXVVRGJl8/EWah",
      "include_colab_link": true
    },
    "kernelspec": {
      "name": "python3",
      "display_name": "Python 3"
    },
    "language_info": {
      "name": "python"
    }
  },
  "cells": [
    {
      "cell_type": "markdown",
      "metadata": {
        "id": "view-in-github",
        "colab_type": "text"
      },
      "source": [
        "<a href=\"https://colab.research.google.com/github/Taz-haX/Learning_Python/blob/main/CSE_110_(Lab_6).ipynb\" target=\"_parent\"><img src=\"https://colab.research.google.com/assets/colab-badge.svg\" alt=\"Open In Colab\"/></a>"
      ]
    },
    {
      "cell_type": "code",
      "execution_count": 1,
      "metadata": {
        "colab": {
          "base_uri": "https://localhost:8080/"
        },
        "id": "9EiPmHSJP-k7",
        "outputId": "d5aa5f9f-8c46-454a-e09f-8a25716b9903"
      },
      "outputs": [
        {
          "output_type": "stream",
          "name": "stdout",
          "text": [
            "400\n"
          ]
        }
      ],
      "source": [
        "# TASK_1\n",
        "# Assume, you have been given a tuple.\n",
        "# a_tuple = (\"The Institute\", (\"Best Mystery & Thriller\", \"The Silent Patient\", 68821), 75717,\n",
        "# [1, 2, 3, 400, 5, 6, 7], (\"Best Fiction\", \"The Testaments\", 98291))\n",
        "# Write one line of Python code to access and print the value 400.\n",
        "\n",
        "a_tuple = (\"The Institute\", (\"Best Mystery & Thriller\", \"The Silent Patient\", 68821), 75717,\n",
        "[1, 2, 3, 400, 5, 6, 7], (\"Best Fiction\", \"The Testaments\", 98291))\n",
        "\n",
        "print((a_tuple[3])[3])"
      ]
    },
    {
      "cell_type": "code",
      "source": [
        "# TASK_2\n",
        "# Assume, you have been given a tuple.\n",
        "# 2Write a Python program that creates a new tuple excluding the first and last two elements of the given tuple and prints the new tuple.\n",
        "\n",
        "op = int(input('Entah numbe of elements to add to tuple: '))\n",
        "\n",
        "za_tuple = (0,)\n",
        "hb = list(za_tuple)\n",
        "hb.clear()\n",
        "\n",
        "for i in range(op):\n",
        "    x = int(input('Input yo shite numbah: '))\n",
        "    hb.append(x)\n",
        "\n",
        "za_tuple = tuple(hb)\n",
        "\n",
        "print(za_tuple)\n",
        "\n",
        "odi = list(za_tuple)\n",
        "\n",
        "boo = odi[2:len(odi)-2]\n",
        "hoo = tuple(boo)\n",
        "\n",
        "print(hoo)"
      ],
      "metadata": {
        "colab": {
          "base_uri": "https://localhost:8080/"
        },
        "id": "WP_uMIlTUgOC",
        "outputId": "25ae75e4-6ae9-4a94-c8b7-55c5cbfb8fa6"
      },
      "execution_count": 2,
      "outputs": [
        {
          "output_type": "stream",
          "name": "stdout",
          "text": [
            "Entah numbe of elements to add to tuple: 7\n",
            "Input yo shite numbah: 10\n",
            "Input yo shite numbah: 20\n",
            "Input yo shite numbah: 24\n",
            "Input yo shite numbah: 25\n",
            "Input yo shite numbah: 6\n",
            "Input yo shite numbah: 35\n",
            "Input yo shite numbah: 70\n",
            "(10, 20, 24, 25, 6, 35, 70)\n",
            "(24, 25, 6)\n"
          ]
        }
      ]
    },
    {
      "cell_type": "code",
      "source": [
        "# TASK_3\n",
        "# Assume, you have been given a tuple.\n",
        "# book_info = (\n",
        "# (\"Best Mystery & Thriller\",\"The Silent Patient\",68,821),\n",
        "# (\"Best Horror\",\"The Institute\",75,717),\n",
        "# (\"Best History & Biography\",\"The five\",31,783 ),\n",
        "# (\"Best Fiction\",\"The Testaments\",98,291)\n",
        "# )\n",
        "# Write a Python program that prints the size of the tuple and all its elements as shown below.\n",
        "#\n",
        "# Size of the tuple is: 4\n",
        "# ('Best Mystery & Thriller', 'The Silent Patient', 68, 821)\n",
        "# ('Best Horror', 'The Institute', 75, 717)\n",
        "# ('Best History & Biography', 'The five', 31, 783)\n",
        "# ('Best Fiction', 'The Testaments', 98, 291)\n",
        "\n",
        "book_info = (\n",
        "(\"Best Mystery & Thriller\",\"The Silent Patient\",68,821),\n",
        "(\"Best Horror\",\"The Institute\",75,717),\n",
        "(\"Best History & Biography\",\"The five\",31,783 ),\n",
        "(\"Best Fiction\",\"The Testaments\",98,291)\n",
        ")\n",
        "ho = len(book_info)\n",
        "print('Size of tuple is:',ho)\n",
        "\n",
        "jok = list(book_info)\n",
        "\n",
        "for i in jok:\n",
        "    print(i)"
      ],
      "metadata": {
        "colab": {
          "base_uri": "https://localhost:8080/"
        },
        "id": "RlGG1xq9c_oa",
        "outputId": "0cba1803-a9b8-4201-bbee-d71467ea42e1"
      },
      "execution_count": 3,
      "outputs": [
        {
          "output_type": "stream",
          "name": "stdout",
          "text": [
            "Size of tuple is: 4\n",
            "('Best Mystery & Thriller', 'The Silent Patient', 68, 821)\n",
            "('Best Horror', 'The Institute', 75, 717)\n",
            "('Best History & Biography', 'The five', 31, 783)\n",
            "('Best Fiction', 'The Testaments', 98, 291)\n"
          ]
        }
      ]
    },
    {
      "cell_type": "code",
      "source": [
        "# TASK_4\n",
        "# Assume, you have been given a tuple with details about books that won the Good Reads Choice Awards.\n",
        "# book_info = (\n",
        "# (\"Best Mystery & Thriller\",\"The Silent Patient\",68821),\n",
        "# (\"Best Horror\",\"The Institute\",75717),\n",
        "# (\"Best History & Biography\",\"The five\",31783 ),\n",
        "# (\"Best Fiction\",\"The Testaments\",98291)\n",
        "# )\n",
        "# Write a Python program that prints the award category, the book name, and its total votes earned as shown below.\n",
        "#\n",
        "# The Silent Patient won the 'Best Mystery & Thriller' category with 68821 votes\n",
        "# The Institute won # 'Best Horror' category with 75717 votes\n",
        "# The five won the 'Best History & Biography' category with 31783 votes\n",
        "# The Testaments won the 'Best Fiction' category with 98291 votes\n",
        "\n",
        "book_info = (\n",
        "(\"Best Mystery & Thriller\",\"The Silent Patient\",68821),\n",
        "(\"Best Horror\",\"The Institute\",75717),\n",
        "(\"Best History & Biography\",\"The five\",31783 ),\n",
        "(\"Best Fiction\",\"The Testaments\",98291)\n",
        ")\n",
        "\n",
        "myst,horo,bio,fic = book_info\n",
        "\n",
        "print(str(myst[1])+\" won the '\"+str(myst[0])+\"' category with \"+str(myst[2])+\" votes\")\n",
        "print(str(horo[1])+\" won the '\"+str(horo[0])+\"' category with \"+str(horo[2])+\" votes\")\n",
        "print(str(bio[1])+\" won the '\"+str(bio[0])+\"' category with \"+str(bio[2])+\" votes\")\n",
        "print(str(fic[1])+\" won the '\"+str(fic[0])+\"' category with \"+str(fic[2])+\" votes\")"
      ],
      "metadata": {
        "colab": {
          "base_uri": "https://localhost:8080/"
        },
        "id": "l8_0a96NgMrX",
        "outputId": "333a8016-ab66-40d5-9937-c79ff52afbdb"
      },
      "execution_count": 5,
      "outputs": [
        {
          "output_type": "stream",
          "name": "stdout",
          "text": [
            "The Silent Patient won the 'Best Mystery & Thriller' category with 68821 votes\n",
            "The Institute won the 'Best Horror' category with 75717 votes\n",
            "The five won the 'Best History & Biography' category with 31783 votes\n",
            "The Testaments won the 'Best Fiction' category with 98291 votes\n"
          ]
        }
      ]
    },
    {
      "cell_type": "code",
      "source": [
        "# TASK_5\n",
        "# Write a python program that takes an input from the user and finds the number of times that the input is present in a given tuple.\n",
        "\n",
        "given_tuple = (10, 8, 5, 2, 10, 15, 10, 8, 5, 8, 8, 2)\n",
        "blob = 0\n",
        "\n",
        "x = int(input('Entah a number boi: '))\n",
        "\n",
        "for i in given_tuple:\n",
        "    if i == x:\n",
        "        blob += 1\n",
        "    else:\n",
        "        pass\n",
        "\n",
        "if blob == 0:\n",
        "    print(\"Numbeh not in 'ere mate\")\n",
        "else:\n",
        "    print(\"Number in 'ere \"+str(blob)+\" times mate\")"
      ],
      "metadata": {
        "colab": {
          "base_uri": "https://localhost:8080/"
        },
        "id": "XQUYJULGknEY",
        "outputId": "505184a0-80b3-43cb-dd4b-3dbda9ec6c32"
      },
      "execution_count": 6,
      "outputs": [
        {
          "output_type": "stream",
          "name": "stdout",
          "text": [
            "Entah a number boi: 8\n",
            "Number in 'ere 4 times mate\n"
          ]
        }
      ]
    },
    {
      "cell_type": "code",
      "source": [
        "# TASK_6\n",
        "# Write a Python program to reverse a given tuple.\n",
        "# [You are not allowed to use slicing]\n",
        "\n",
        "given_tuple = ('a', 'b', 'c', 'd', 'e', 'f', 'g', 'h')\n",
        "\n",
        "x = list(given_tuple)\n",
        "x.reverse()\n",
        "given_tuple = tuple(x)\n",
        "\n",
        "print(given_tuple)"
      ],
      "metadata": {
        "colab": {
          "base_uri": "https://localhost:8080/"
        },
        "id": "BQWBZzR1lsNc",
        "outputId": "fe81e13f-e385-40dc-be9f-f4749dea83f0"
      },
      "execution_count": 7,
      "outputs": [
        {
          "output_type": "stream",
          "name": "stdout",
          "text": [
            "('h', 'g', 'f', 'e', 'd', 'c', 'b', 'a')\n"
          ]
        }
      ]
    },
    {
      "cell_type": "code",
      "source": [
        "# TASK_7\n",
        "# Suppose you are given two dictionaries.\n",
        "# Now create a new dictionary \"marks\", merging the two dictionaries, so that the original two dictionaries remain unchanged.\n",
        "# Note: You can not use .update() functio\n",
        "\n",
        "dic_1 = {'Harry':15, 'Draco':8, 'Nevil':19}\n",
        "dic_2= {'Ginie':18, 'Luna': 14}\n",
        "dic_3 = {}\n",
        "\n",
        "for i in dic_1.keys():\n",
        "    dic_3[i] = dic_1.get(i)\n",
        "\n",
        "for i in dic_2.keys():\n",
        "    dic_3[i] = dic_2.get(i)\n",
        "\n",
        "print(dic_3)"
      ],
      "metadata": {
        "colab": {
          "base_uri": "https://localhost:8080/"
        },
        "id": "QOF6f4PAzRdD",
        "outputId": "b5e49fad-8450-4e1f-fb3c-2ed30f357444"
      },
      "execution_count": 8,
      "outputs": [
        {
          "output_type": "stream",
          "name": "stdout",
          "text": [
            "{'Harry': 15, 'Draco': 8, 'Nevil': 19, 'Ginie': 18, 'Luna': 14}\n"
          ]
        }
      ]
    },
    {
      "cell_type": "code",
      "source": [
        "# TASK_8\n",
        "# Write a Python program that takes a dictionary as an input from the user and then prints the average of all the values in the dictionary.\n",
        "# [You are not allowed to use len() and sum()]\n",
        "\n",
        "dic_1 = {}\n",
        "x = int(input('Entah the number of keys for yo dictionary biss: '))\n",
        "dok = 0\n",
        "hog = 0\n",
        "\n",
        "for i in range(x):\n",
        "    jok = input('Input namaewa: ')\n",
        "    bok = int(input('Entah numbah boi: '))\n",
        "\n",
        "    dic_1[jok] = bok\n",
        "\n",
        "for i in dic_1.values():\n",
        "    dok += i\n",
        "    hog += 1\n",
        "#     print(i)\n",
        "#\n",
        "# print(hog)\n",
        "# print(dok)\n",
        "\n",
        "bol = dok/hog\n",
        "\n",
        "print(dic_1)\n",
        "print(bol)"
      ],
      "metadata": {
        "colab": {
          "base_uri": "https://localhost:8080/"
        },
        "id": "C9SLsKia9M7H",
        "outputId": "71bdd886-8c14-4bf2-9ee6-5d1b6b064f8c"
      },
      "execution_count": 9,
      "outputs": [
        {
          "output_type": "stream",
          "name": "stdout",
          "text": [
            "Entah the number of keys for yo dictionary biss: 3\n",
            "Input namaewa: Joe\n",
            "Entah numbah boi: 100\n",
            "Input namaewa: Zoe\n",
            "Entah numbah boi: 200\n",
            "Input namaewa: Boe\n",
            "Entah numbah boi: 100\n",
            "{'Joe': 100, 'Zoe': 200, 'Boe': 100}\n",
            "133.33333333333334\n"
          ]
        }
      ]
    },
    {
      "cell_type": "code",
      "source": [
        "# TASK_9\n",
        "# Suppose there is a dictionary named exam_marks as given below.\n",
        "# exam_marks = {'Cierra Vega': 175, 'Alden Cantrell': 200, 'Kierra Gentry': 165, 'Pierre Cox': 190}\n",
        "# Write a Python program that takes an input from the user and creates a new dictionary with only those elements from 'exam_marks' whose keys have values higher than the user input (inclusive).\n",
        "\n",
        "exam_marks = {'Cierra Vega': 175, 'Alden Cantrell': 200, 'Kierra Gentry': 165, 'Pierre Cox': 190}\n",
        "tot = {}\n",
        "\n",
        "x = int(input('Entah a numbah, any bloody numbah: '))\n",
        "\n",
        "for i in exam_marks.keys():\n",
        "    if exam_marks.get(i) > x:\n",
        "        tot[i] = exam_marks.get(i)\n",
        "    else:\n",
        "        pass\n",
        "\n",
        "print(tot)"
      ],
      "metadata": {
        "colab": {
          "base_uri": "https://localhost:8080/"
        },
        "id": "q71LuUVzDwut",
        "outputId": "5fa11b56-c22e-4dab-8c43-176c8dfe4e1c"
      },
      "execution_count": 10,
      "outputs": [
        {
          "output_type": "stream",
          "name": "stdout",
          "text": [
            "Entah a numbah, any bloody numbah: 170\n",
            "{'Cierra Vega': 175, 'Alden Cantrell': 200, 'Pierre Cox': 190}\n"
          ]
        }
      ]
    },
    {
      "cell_type": "code",
      "source": [
        "# TASK_10\n",
        "# Write a Python program that finds the largest value with its key from a given dictionary.\n",
        "# [You are not allowed to use the max() function for this task]\n",
        "\n",
        "basr = {'sci fi': 12, 'mystery': 15, 'horror': 8, 'mythology': 10, 'young_adult': 4, 'adventure':14}\n",
        "lul = {}\n",
        "bot = ''\n",
        "hot = ''\n",
        "\n",
        "hobs = 0\n",
        "\n",
        "for i in basr.keys():\n",
        "    if basr.get(i) > hobs:\n",
        "        hobs = basr.get(i)\n",
        "    else:\n",
        "        pass\n",
        "\n",
        "for i in basr.keys():\n",
        "    if basr.get(i) == hobs:\n",
        "        lul[i] = basr.get(i)\n",
        "\n",
        "for i in lul.keys():\n",
        "    bot = i\n",
        "for i in lul.values():\n",
        "    hot = str(i)\n",
        "\n",
        "\n",
        "print(\"The highest selling book genre is '\"+bot+\"' and the number of books sold are '\"+hot+\"'.\")"
      ],
      "metadata": {
        "colab": {
          "base_uri": "https://localhost:8080/"
        },
        "id": "UvjrG5TeGz6C",
        "outputId": "3fd7eaaa-81cb-46b8-f5ae-7f7572b31146"
      },
      "execution_count": 12,
      "outputs": [
        {
          "output_type": "stream",
          "name": "stdout",
          "text": [
            "The highest selling book genre is 'mystery' and the number of books sold are '15'.\n"
          ]
        }
      ]
    },
    {
      "cell_type": "code",
      "source": [
        "# TASK_11\n",
        "# Write a Python program that takes a String as an input from the user and counts the frequency of each character using a dictionary.\n",
        "# For solving this problem, you may use each character as a key and its frequency as values.\n",
        "# [You are not allowed to use the count() function]\n",
        "\n",
        "x = input(\"Ëntah dumb shite: \").lower()\n",
        "bot = ''\n",
        "dot = ''\n",
        "hot = 0\n",
        "\n",
        "pula = {}\n",
        "\n",
        "for i in x:\n",
        "    if i != \" \":\n",
        "        bot+=i\n",
        "    else:\n",
        "        pass\n",
        "\n",
        "for i in bot:\n",
        "    if i not in dot:\n",
        "        dot+=i\n",
        "    else:\n",
        "        pass\n",
        "\n",
        "for i in dot:\n",
        "    for j in bot:\n",
        "        if j == i:\n",
        "            hot+=1\n",
        "        else:\n",
        "            pass\n",
        "    pula[i] = hot\n",
        "    hot=0\n",
        "\n",
        "print(pula)"
      ],
      "metadata": {
        "colab": {
          "base_uri": "https://localhost:8080/"
        },
        "id": "wdAwIz60MjYJ",
        "outputId": "957ef786-7b5f-4880-e216-c8f9042f6562"
      },
      "execution_count": 13,
      "outputs": [
        {
          "output_type": "stream",
          "name": "stdout",
          "text": [
            "Ëntah dumb shite: Python programming is fun\n",
            "{'p': 2, 'y': 1, 't': 1, 'h': 1, 'o': 2, 'n': 3, 'r': 2, 'g': 2, 'a': 1, 'm': 2, 'i': 2, 's': 1, 'f': 1, 'u': 1}\n"
          ]
        }
      ]
    },
    {
      "cell_type": "code",
      "source": [
        "# TASK_12\n",
        "# Suppose you are given the following dictionary where the values are lists.\n",
        "# dict_1 = {'A': [1, 2, 3], 'b': ['1', '2'], \"c\": [4, 5, 6, 7]}\n",
        "# Write a Python program that counts the total number of items in a dictionary’s values and prints it.\n",
        "# [Without using sum(), len(), count() functions]\n",
        "\n",
        "dict_1 = {'A': [1, 2, 3], 'b': ['1', '2'], \"c\": [4, 5, 6, 7]}\n",
        "lose = []\n",
        "hobs = 0\n",
        "\n",
        "for i in dict_1.keys():\n",
        "    for j in dict_1.get(i):\n",
        "        lose.append(j)\n",
        "        hobs += 1\n",
        "\n",
        "print(hobs)"
      ],
      "metadata": {
        "colab": {
          "base_uri": "https://localhost:8080/"
        },
        "id": "vVqhw7GjV6JV",
        "outputId": "4638dc83-1441-4d3c-ed23-91e837f794be"
      },
      "execution_count": 14,
      "outputs": [
        {
          "output_type": "stream",
          "name": "stdout",
          "text": [
            "9\n"
          ]
        }
      ]
    },
    {
      "cell_type": "code",
      "source": [
        "# TASK_13\n",
        "# Suppose you have been given the following list of tuples.\n",
        "# list_1 = [(\"a\", 1), (\"b\", 2), (\"a\", 3), (\"b\", 1), (\"a\", 2), (\"c\", 1)]\n",
        "# Write a Python program that converts this list of tuples into a dictionary and then prints the dictionary.\n",
        "# The items in each tuple are a key and its value respectively. You need to group the values with the same keys into a list as shown below.\n",
        "# [You are not allowed to use set]\n",
        "\n",
        "\n",
        "list_1 = [(\"a\", 1), (\"b\", 2), (\"a\", 3), (\"b\", 1), (\"a\", 2), (\"c\", 1)]\n",
        "\n",
        "jok = []\n",
        "bok = []\n",
        "tok = []\n",
        "\n",
        "hok = []\n",
        "\n",
        "loko = {}\n",
        "\n",
        "for i in list_1:\n",
        "    to = list(i)\n",
        "    for j in range(len(to)):\n",
        "        if j == len(to):\n",
        "            pass\n",
        "        elif to[j] == \"a\":\n",
        "            jok.append(to[j+1])\n",
        "            if \"a\" not in hok:\n",
        "                hok.append(to[j])\n",
        "        elif to[j] == \"b\":\n",
        "            bok.append(to[j+1])\n",
        "            if \"b\" not in hok:\n",
        "                hok.append(to[j])\n",
        "        elif to[j] == \"c\":\n",
        "            tok.append(to[j+1])\n",
        "            if \"c\" not in hok:\n",
        "                hok.append(to[j])\n",
        "\n",
        "loko[hok[0]] = jok\n",
        "loko[hok[1]] = bok\n",
        "loko[hok[2]] = tok\n",
        "\n",
        "print(loko)"
      ],
      "metadata": {
        "colab": {
          "base_uri": "https://localhost:8080/"
        },
        "id": "_XaViDQRX7dY",
        "outputId": "6204c12c-2d02-4bf7-b3e0-321589e6ab1c"
      },
      "execution_count": 15,
      "outputs": [
        {
          "output_type": "stream",
          "name": "stdout",
          "text": [
            "{'a': [1, 3, 2], 'b': [2, 1], 'c': [1]}\n"
          ]
        }
      ]
    }
  ]
}