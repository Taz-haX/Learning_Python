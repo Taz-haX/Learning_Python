{
  "nbformat": 4,
  "nbformat_minor": 0,
  "metadata": {
    "colab": {
      "provenance": [],
      "authorship_tag": "ABX9TyOdPsV1Fa5cTAY8BIczWLN5",
      "include_colab_link": true
    },
    "kernelspec": {
      "name": "python3",
      "display_name": "Python 3"
    },
    "language_info": {
      "name": "python"
    }
  },
  "cells": [
    {
      "cell_type": "markdown",
      "metadata": {
        "id": "view-in-github",
        "colab_type": "text"
      },
      "source": [
        "<a href=\"https://colab.research.google.com/github/Taz-haX/Learning_Python/blob/main/CSE_111_(Lab_7).ipynb\" target=\"_parent\"><img src=\"https://colab.research.google.com/assets/colab-badge.svg\" alt=\"Open In Colab\"/></a>"
      ]
    },
    {
      "cell_type": "code",
      "execution_count": 2,
      "metadata": {
        "colab": {
          "base_uri": "https://localhost:8080/"
        },
        "id": "ceYIOxbD4n3X",
        "outputId": "3bd706f7-7e7e-49d2-edef-ecd06d3a044d"
      },
      "outputs": [
        {
          "output_type": "stream",
          "name": "stdout",
          "text": [
            "Name: default Department: BBA\n",
            "Name: Humpty Dumpty Department: BBA\n",
            "Name: Little Bo Peep Department: BBA\n"
          ]
        }
      ],
      "source": [
        "# Given the following classes, write the code for the BBA_Student class so that the\n",
        "# following output is printed:\n",
        "# class Student:\n",
        "#  def __init__(self, name='Just a student', dept='nothing'):\n",
        "#  self.__name = name\n",
        "#  self.__department = dept\n",
        "#  def set_department(self, dept):\n",
        "#  self.__department = dept\n",
        "#  def get_name(self):\n",
        "#  return self.__name\n",
        "#  def set_name(self,name):\n",
        "#  self.__name = name\n",
        "#  def __str__(self):\n",
        "#  return 'Name: '+self.__name+' Department: '+self.__department\n",
        "# #write your code here\n",
        "# print(BBA_Student())\n",
        "# print(BBA_Student('Humpty Dumpty'))\n",
        "# print(BBA_Student('Little Bo Peep'))\n",
        "# Output:\n",
        "# Name: default Department: BBA\n",
        "# Name: Humpty Dumpty Department: BBA\n",
        "# Name: Little Bo Peep Department: BBA\n",
        "\n",
        "class Student:\n",
        "    def __init__(self, name= 'Just a Student', dept='Nothing'):\n",
        "        self.__name = name\n",
        "        self.__department = dept\n",
        "\n",
        "    def set_department(self, dept):\n",
        "        self.__department = dept\n",
        "\n",
        "    def get_name(self):\n",
        "        return self.__name\n",
        "\n",
        "    def set_name(self,name):\n",
        "        self.__name = name\n",
        "\n",
        "    def __str__(self):\n",
        "        return f'Name: {self.__name} Department: {self.__department}'\n",
        "\n",
        "class BBA_Student(Student):\n",
        "    def __init__(self,name = 'default', dept = 'BBA'):\n",
        "        super().__init__(name, dept)\n",
        "\n",
        "print(BBA_Student())\n",
        "print(BBA_Student('Humpty Dumpty'))\n",
        "print(BBA_Student('Little Bo Peep'))"
      ]
    }
  ]
}